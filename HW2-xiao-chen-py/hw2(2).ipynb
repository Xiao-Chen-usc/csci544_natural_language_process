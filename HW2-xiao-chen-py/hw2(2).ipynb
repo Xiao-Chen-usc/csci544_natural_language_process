{
 "cells": [
  {
   "cell_type": "code",
   "execution_count": 1,
   "id": "816f9d92",
   "metadata": {},
   "outputs": [],
   "source": [
    "import pandas as pd\n",
    "import numpy as np\n",
    "import copy\n",
    "import re"
   ]
  },
  {
   "cell_type": "code",
   "execution_count": 2,
   "id": "034c6b22",
   "metadata": {},
   "outputs": [
    {
     "name": "stderr",
     "output_type": "stream",
     "text": [
      "b'Skipping line 16148: expected 15 fields, saw 22\\nSkipping line 20100: expected 15 fields, saw 22\\nSkipping line 45178: expected 15 fields, saw 22\\nSkipping line 48700: expected 15 fields, saw 22\\nSkipping line 63331: expected 15 fields, saw 22\\n'\n",
      "b'Skipping line 86053: expected 15 fields, saw 22\\nSkipping line 88858: expected 15 fields, saw 22\\nSkipping line 115017: expected 15 fields, saw 22\\n'\n",
      "b'Skipping line 137366: expected 15 fields, saw 22\\nSkipping line 139110: expected 15 fields, saw 22\\nSkipping line 165540: expected 15 fields, saw 22\\nSkipping line 171813: expected 15 fields, saw 22\\n'\n",
      "b'Skipping line 203723: expected 15 fields, saw 22\\nSkipping line 209366: expected 15 fields, saw 22\\nSkipping line 211310: expected 15 fields, saw 22\\nSkipping line 246351: expected 15 fields, saw 22\\nSkipping line 252364: expected 15 fields, saw 22\\n'\n",
      "b'Skipping line 267003: expected 15 fields, saw 22\\nSkipping line 268957: expected 15 fields, saw 22\\nSkipping line 303336: expected 15 fields, saw 22\\nSkipping line 306021: expected 15 fields, saw 22\\nSkipping line 311569: expected 15 fields, saw 22\\nSkipping line 316767: expected 15 fields, saw 22\\nSkipping line 324009: expected 15 fields, saw 22\\n'\n",
      "b'Skipping line 359107: expected 15 fields, saw 22\\nSkipping line 368367: expected 15 fields, saw 22\\nSkipping line 381180: expected 15 fields, saw 22\\nSkipping line 390453: expected 15 fields, saw 22\\n'\n",
      "b'Skipping line 412243: expected 15 fields, saw 22\\nSkipping line 419342: expected 15 fields, saw 22\\nSkipping line 457388: expected 15 fields, saw 22\\n'\n",
      "b'Skipping line 459935: expected 15 fields, saw 22\\nSkipping line 460167: expected 15 fields, saw 22\\nSkipping line 466460: expected 15 fields, saw 22\\nSkipping line 500314: expected 15 fields, saw 22\\nSkipping line 500339: expected 15 fields, saw 22\\nSkipping line 505396: expected 15 fields, saw 22\\nSkipping line 507760: expected 15 fields, saw 22\\nSkipping line 513626: expected 15 fields, saw 22\\n'\n",
      "b'Skipping line 527638: expected 15 fields, saw 22\\nSkipping line 534209: expected 15 fields, saw 22\\nSkipping line 535687: expected 15 fields, saw 22\\nSkipping line 547671: expected 15 fields, saw 22\\nSkipping line 549054: expected 15 fields, saw 22\\n'\n",
      "b'Skipping line 599929: expected 15 fields, saw 22\\nSkipping line 604776: expected 15 fields, saw 22\\nSkipping line 609937: expected 15 fields, saw 22\\nSkipping line 632059: expected 15 fields, saw 22\\nSkipping line 638546: expected 15 fields, saw 22\\n'\n",
      "b'Skipping line 665017: expected 15 fields, saw 22\\nSkipping line 677680: expected 15 fields, saw 22\\nSkipping line 684370: expected 15 fields, saw 22\\nSkipping line 720217: expected 15 fields, saw 29\\n'\n",
      "b'Skipping line 723240: expected 15 fields, saw 22\\nSkipping line 723433: expected 15 fields, saw 22\\nSkipping line 763891: expected 15 fields, saw 22\\n'\n",
      "b'Skipping line 800288: expected 15 fields, saw 22\\nSkipping line 802942: expected 15 fields, saw 22\\nSkipping line 803379: expected 15 fields, saw 22\\nSkipping line 805122: expected 15 fields, saw 22\\nSkipping line 821899: expected 15 fields, saw 22\\nSkipping line 831707: expected 15 fields, saw 22\\nSkipping line 842829: expected 15 fields, saw 22\\nSkipping line 843604: expected 15 fields, saw 22\\n'\n",
      "b'Skipping line 863904: expected 15 fields, saw 22\\nSkipping line 875655: expected 15 fields, saw 22\\nSkipping line 886796: expected 15 fields, saw 22\\nSkipping line 892299: expected 15 fields, saw 22\\nSkipping line 902518: expected 15 fields, saw 22\\nSkipping line 903079: expected 15 fields, saw 22\\nSkipping line 912678: expected 15 fields, saw 22\\n'\n",
      "b'Skipping line 932953: expected 15 fields, saw 22\\nSkipping line 936838: expected 15 fields, saw 22\\nSkipping line 937177: expected 15 fields, saw 22\\nSkipping line 947695: expected 15 fields, saw 22\\nSkipping line 960713: expected 15 fields, saw 22\\nSkipping line 965225: expected 15 fields, saw 22\\nSkipping line 980776: expected 15 fields, saw 22\\n'\n",
      "b'Skipping line 999318: expected 15 fields, saw 22\\nSkipping line 1007247: expected 15 fields, saw 22\\nSkipping line 1015987: expected 15 fields, saw 22\\nSkipping line 1018984: expected 15 fields, saw 22\\nSkipping line 1028671: expected 15 fields, saw 22\\n'\n",
      "b'Skipping line 1063360: expected 15 fields, saw 22\\nSkipping line 1066195: expected 15 fields, saw 22\\nSkipping line 1066578: expected 15 fields, saw 22\\nSkipping line 1066869: expected 15 fields, saw 22\\nSkipping line 1068809: expected 15 fields, saw 22\\nSkipping line 1069505: expected 15 fields, saw 22\\nSkipping line 1087983: expected 15 fields, saw 22\\nSkipping line 1108184: expected 15 fields, saw 22\\n'\n",
      "b'Skipping line 1118137: expected 15 fields, saw 22\\nSkipping line 1142723: expected 15 fields, saw 22\\nSkipping line 1152492: expected 15 fields, saw 22\\nSkipping line 1156947: expected 15 fields, saw 22\\nSkipping line 1172563: expected 15 fields, saw 22\\n'\n",
      "b'Skipping line 1209254: expected 15 fields, saw 22\\nSkipping line 1212966: expected 15 fields, saw 22\\nSkipping line 1236533: expected 15 fields, saw 22\\nSkipping line 1237598: expected 15 fields, saw 22\\n'\n",
      "b'Skipping line 1273825: expected 15 fields, saw 22\\nSkipping line 1277898: expected 15 fields, saw 22\\nSkipping line 1283654: expected 15 fields, saw 22\\nSkipping line 1286023: expected 15 fields, saw 22\\nSkipping line 1302038: expected 15 fields, saw 22\\nSkipping line 1305179: expected 15 fields, saw 22\\n'\n",
      "b'Skipping line 1326022: expected 15 fields, saw 22\\nSkipping line 1338120: expected 15 fields, saw 22\\nSkipping line 1338503: expected 15 fields, saw 22\\nSkipping line 1338849: expected 15 fields, saw 22\\nSkipping line 1341513: expected 15 fields, saw 22\\nSkipping line 1346493: expected 15 fields, saw 22\\nSkipping line 1373127: expected 15 fields, saw 22\\n'\n",
      "b'Skipping line 1389508: expected 15 fields, saw 22\\nSkipping line 1413951: expected 15 fields, saw 22\\nSkipping line 1433626: expected 15 fields, saw 22\\n'\n",
      "b'Skipping line 1442698: expected 15 fields, saw 22\\nSkipping line 1472982: expected 15 fields, saw 22\\nSkipping line 1482282: expected 15 fields, saw 22\\nSkipping line 1487808: expected 15 fields, saw 22\\nSkipping line 1500636: expected 15 fields, saw 22\\n'\n",
      "b'Skipping line 1511479: expected 15 fields, saw 22\\nSkipping line 1532302: expected 15 fields, saw 22\\nSkipping line 1537952: expected 15 fields, saw 22\\nSkipping line 1539951: expected 15 fields, saw 22\\nSkipping line 1541020: expected 15 fields, saw 22\\n'\n",
      "b'Skipping line 1594217: expected 15 fields, saw 22\\nSkipping line 1612264: expected 15 fields, saw 22\\nSkipping line 1615907: expected 15 fields, saw 22\\nSkipping line 1621859: expected 15 fields, saw 22\\n'\n",
      "b'Skipping line 1653542: expected 15 fields, saw 22\\nSkipping line 1671537: expected 15 fields, saw 22\\nSkipping line 1672879: expected 15 fields, saw 22\\nSkipping line 1674523: expected 15 fields, saw 22\\nSkipping line 1677355: expected 15 fields, saw 22\\nSkipping line 1703907: expected 15 fields, saw 22\\n'\n",
      "b'Skipping line 1713046: expected 15 fields, saw 22\\nSkipping line 1722982: expected 15 fields, saw 22\\nSkipping line 1727290: expected 15 fields, saw 22\\nSkipping line 1744482: expected 15 fields, saw 22\\n'\n",
      "b'Skipping line 1803858: expected 15 fields, saw 22\\nSkipping line 1810069: expected 15 fields, saw 22\\nSkipping line 1829751: expected 15 fields, saw 22\\nSkipping line 1831699: expected 15 fields, saw 22\\n'\n",
      "b'Skipping line 1863131: expected 15 fields, saw 22\\nSkipping line 1867917: expected 15 fields, saw 22\\nSkipping line 1874790: expected 15 fields, saw 22\\nSkipping line 1879952: expected 15 fields, saw 22\\nSkipping line 1880501: expected 15 fields, saw 22\\nSkipping line 1886655: expected 15 fields, saw 22\\nSkipping line 1887888: expected 15 fields, saw 22\\nSkipping line 1894286: expected 15 fields, saw 22\\nSkipping line 1895400: expected 15 fields, saw 22\\n'\n",
      "b'Skipping line 1904040: expected 15 fields, saw 22\\nSkipping line 1907604: expected 15 fields, saw 22\\nSkipping line 1915739: expected 15 fields, saw 22\\nSkipping line 1921514: expected 15 fields, saw 22\\nSkipping line 1939428: expected 15 fields, saw 22\\nSkipping line 1944342: expected 15 fields, saw 22\\nSkipping line 1949699: expected 15 fields, saw 22\\nSkipping line 1961872: expected 15 fields, saw 22\\n'\n"
     ]
    },
    {
     "name": "stderr",
     "output_type": "stream",
     "text": [
      "b'Skipping line 1968846: expected 15 fields, saw 22\\nSkipping line 1999941: expected 15 fields, saw 22\\nSkipping line 2001492: expected 15 fields, saw 22\\nSkipping line 2011204: expected 15 fields, saw 22\\nSkipping line 2025295: expected 15 fields, saw 22\\n'\n",
      "b'Skipping line 2041266: expected 15 fields, saw 22\\nSkipping line 2073314: expected 15 fields, saw 22\\nSkipping line 2080133: expected 15 fields, saw 22\\nSkipping line 2088521: expected 15 fields, saw 22\\n'\n",
      "b'Skipping line 2103490: expected 15 fields, saw 22\\nSkipping line 2115278: expected 15 fields, saw 22\\nSkipping line 2153174: expected 15 fields, saw 22\\nSkipping line 2161731: expected 15 fields, saw 22\\n'\n",
      "b'Skipping line 2165250: expected 15 fields, saw 22\\nSkipping line 2175132: expected 15 fields, saw 22\\nSkipping line 2206817: expected 15 fields, saw 22\\nSkipping line 2215848: expected 15 fields, saw 22\\nSkipping line 2223811: expected 15 fields, saw 22\\n'\n",
      "b'Skipping line 2257265: expected 15 fields, saw 22\\nSkipping line 2259163: expected 15 fields, saw 22\\nSkipping line 2263291: expected 15 fields, saw 22\\n'\n",
      "b'Skipping line 2301943: expected 15 fields, saw 22\\nSkipping line 2304371: expected 15 fields, saw 22\\nSkipping line 2306015: expected 15 fields, saw 22\\nSkipping line 2312186: expected 15 fields, saw 22\\nSkipping line 2314740: expected 15 fields, saw 22\\nSkipping line 2317754: expected 15 fields, saw 22\\n'\n",
      "b'Skipping line 2383514: expected 15 fields, saw 22\\n'\n",
      "b'Skipping line 2449763: expected 15 fields, saw 22\\n'\n",
      "b'Skipping line 2589323: expected 15 fields, saw 22\\n'\n",
      "b'Skipping line 2775036: expected 15 fields, saw 22\\n'\n",
      "b'Skipping line 2935174: expected 15 fields, saw 22\\n'\n",
      "b'Skipping line 3078830: expected 15 fields, saw 22\\n'\n",
      "b'Skipping line 3123091: expected 15 fields, saw 22\\n'\n",
      "b'Skipping line 3185533: expected 15 fields, saw 22\\n'\n",
      "b'Skipping line 4150395: expected 15 fields, saw 22\\n'\n",
      "b'Skipping line 4748401: expected 15 fields, saw 22\\n'\n"
     ]
    }
   ],
   "source": [
    "import pandas as pd\n",
    "test = pd.read_csv(\"amazon_reviews_us_Kitchen_v1_00.tsv\", sep = '\\t',error_bad_lines = False)\n",
    "test['label'] = -1\n",
    "a1 = test.loc[test['star_rating']==1].sample(50000)\n",
    "a2 = test.loc[test['star_rating']==2].sample(50000)\n",
    "a3 = test.loc[test['star_rating']==3].sample(50000)\n",
    "a4 = test.loc[test['star_rating']==4].sample(50000)\n",
    "a5 = test.loc[test['star_rating']==5].sample(50000)\n"
   ]
  },
  {
   "cell_type": "code",
   "execution_count": 3,
   "id": "e81cd49b",
   "metadata": {},
   "outputs": [],
   "source": [
    "new_test = pd.concat([a1,a2,a3,a4,a5])"
   ]
  },
  {
   "cell_type": "code",
   "execution_count": 4,
   "id": "8b9e0bfb",
   "metadata": {},
   "outputs": [],
   "source": [
    "new_test['lable'] = 1"
   ]
  },
  {
   "cell_type": "code",
   "execution_count": 5,
   "id": "df78e865",
   "metadata": {},
   "outputs": [
    {
     "name": "stderr",
     "output_type": "stream",
     "text": [
      "/opt/anaconda3/lib/python3.7/site-packages/ipykernel_launcher.py:1: SettingWithCopyWarning: \n",
      "A value is trying to be set on a copy of a slice from a DataFrame\n",
      "\n",
      "See the caveats in the documentation: https://pandas.pydata.org/pandas-docs/stable/user_guide/indexing.html#returning-a-view-versus-a-copy\n",
      "  \"\"\"Entry point for launching an IPython kernel.\n",
      "/opt/anaconda3/lib/python3.7/site-packages/ipykernel_launcher.py:2: SettingWithCopyWarning: \n",
      "A value is trying to be set on a copy of a slice from a DataFrame\n",
      "\n",
      "See the caveats in the documentation: https://pandas.pydata.org/pandas-docs/stable/user_guide/indexing.html#returning-a-view-versus-a-copy\n",
      "  \n",
      "/opt/anaconda3/lib/python3.7/site-packages/ipykernel_launcher.py:3: SettingWithCopyWarning: \n",
      "A value is trying to be set on a copy of a slice from a DataFrame\n",
      "\n",
      "See the caveats in the documentation: https://pandas.pydata.org/pandas-docs/stable/user_guide/indexing.html#returning-a-view-versus-a-copy\n",
      "  This is separate from the ipykernel package so we can avoid doing imports until\n"
     ]
    }
   ],
   "source": [
    "new_test.label[test.star_rating>3] = 1\n",
    "new_test.label[test.star_rating<3] = 2\n",
    "new_test.label[test.star_rating==3] = 3\n",
    "new_test = new_test[['label','review_body']] "
   ]
  },
  {
   "cell_type": "code",
   "execution_count": 6,
   "id": "574ec97f",
   "metadata": {},
   "outputs": [],
   "source": [
    "copy_test = copy.deepcopy(new_test)"
   ]
  },
  {
   "cell_type": "code",
   "execution_count": 7,
   "id": "8c8a0d17",
   "metadata": {},
   "outputs": [],
   "source": [
    "import gensim\n",
    "model_1 = gensim.models.Word2Vec.load('save')"
   ]
  },
  {
   "cell_type": "code",
   "execution_count": 8,
   "id": "c89ca45a",
   "metadata": {},
   "outputs": [],
   "source": [
    "#data clearing\n",
    "copy_test['review_body'] = copy_test['review_body'].str.lower()\n",
    "\n",
    "def tag(x):\n",
    "    return re.sub('<.*?>','',str(x))\n",
    "copy_test['review_body'] = copy_test['review_body'].apply(lambda x:tag(x))\n",
    "\n",
    "def url(x):\n",
    "    return re.sub('(https?|ftp|file)://[-A-Za-z0-9+&@#/%?=~_|!:,.;]+[-A-Za-z0-9+&@#/%=~_|]','',str(x))\n",
    "\n",
    "copy_test['review_body'] = copy_test['review_body'].apply(lambda x:url(x))\n",
    "\n",
    "import contractions\n",
    "copy_test['review_body'] = copy_test['review_body'].apply(lambda x:contractions.fix(x))\n",
    "\n",
    "def non_alphabetical(x):\n",
    "    return re.sub('[^a-zA-Z\\s]','',str(x))\n",
    "copy_test['review_body'] = copy_test['review_body'].apply(lambda x:non_alphabetical(x))\n",
    "def extra_space(x):\n",
    "    return re.sub( ' +',' ',str(x))\n",
    "copy_test['review_body'] = copy_test['review_body'].apply(lambda x:extra_space(x))"
   ]
  },
  {
   "cell_type": "code",
   "execution_count": 9,
   "id": "d98153b6",
   "metadata": {},
   "outputs": [
    {
     "name": "stderr",
     "output_type": "stream",
     "text": [
      "[nltk_data] Downloading package stopwords to\n",
      "[nltk_data]     /Users/chenlin/nltk_data...\n",
      "[nltk_data]   Package stopwords is already up-to-date!\n"
     ]
    }
   ],
   "source": [
    "#Pre-processing\n",
    "\n",
    "import nltk\n",
    "from nltk.corpus import stopwords\n",
    "nltk.download('stopwords')\n",
    "stop_words_set = set(stopwords.words('english'))\n",
    "from nltk import word_tokenize, pos_tag\n",
    "\n",
    "def stop_words(x):\n",
    "    word_tokens = word_tokenize(x)\n",
    "    temp = []\n",
    "    for i in word_tokens:\n",
    "        if i not in stop_words_set:\n",
    "            temp.append(i)\n",
    "    return temp\n",
    "copy_test['review_body'] = copy_test['review_body'].apply(lambda x:stop_words(x))"
   ]
  },
  {
   "cell_type": "code",
   "execution_count": 10,
   "id": "ab4ed580",
   "metadata": {},
   "outputs": [],
   "source": [
    "ternary_copy = copy_test"
   ]
  },
  {
   "cell_type": "code",
   "execution_count": 11,
   "id": "cb71848e",
   "metadata": {},
   "outputs": [
    {
     "data": {
      "text/html": [
       "<div>\n",
       "<style scoped>\n",
       "    .dataframe tbody tr th:only-of-type {\n",
       "        vertical-align: middle;\n",
       "    }\n",
       "\n",
       "    .dataframe tbody tr th {\n",
       "        vertical-align: top;\n",
       "    }\n",
       "\n",
       "    .dataframe thead th {\n",
       "        text-align: right;\n",
       "    }\n",
       "</style>\n",
       "<table border=\"1\" class=\"dataframe\">\n",
       "  <thead>\n",
       "    <tr style=\"text-align: right;\">\n",
       "      <th></th>\n",
       "      <th>label</th>\n",
       "      <th>review_body</th>\n",
       "    </tr>\n",
       "  </thead>\n",
       "  <tbody>\n",
       "    <tr>\n",
       "      <th>2901789</th>\n",
       "      <td>2</td>\n",
       "      <td>[griddle, works, finebut, plates, rust, cost, ...</td>\n",
       "    </tr>\n",
       "    <tr>\n",
       "      <th>4079589</th>\n",
       "      <td>2</td>\n",
       "      <td>[badthe, blade, sharp, enough, cut, tomato, fi...</td>\n",
       "    </tr>\n",
       "    <tr>\n",
       "      <th>461277</th>\n",
       "      <td>2</td>\n",
       "      <td>[products, like, actually, make, productionmar...</td>\n",
       "    </tr>\n",
       "    <tr>\n",
       "      <th>2583042</th>\n",
       "      <td>2</td>\n",
       "      <td>[second, time, washed, largest, container, dis...</td>\n",
       "    </tr>\n",
       "    <tr>\n",
       "      <th>3856377</th>\n",
       "      <td>2</td>\n",
       "      <td>[admit, love, keurig, coffee, brewer, said, as...</td>\n",
       "    </tr>\n",
       "    <tr>\n",
       "      <th>...</th>\n",
       "      <td>...</td>\n",
       "      <td>...</td>\n",
       "    </tr>\n",
       "    <tr>\n",
       "      <th>2397865</th>\n",
       "      <td>1</td>\n",
       "      <td>[oven, pantry, delivered, stated, specificatio...</td>\n",
       "    </tr>\n",
       "    <tr>\n",
       "      <th>519273</th>\n",
       "      <td>1</td>\n",
       "      <td>[like]</td>\n",
       "    </tr>\n",
       "    <tr>\n",
       "      <th>4557793</th>\n",
       "      <td>1</td>\n",
       "      <td>[ratings, already, given, product, reason, pur...</td>\n",
       "    </tr>\n",
       "    <tr>\n",
       "      <th>428144</th>\n",
       "      <td>1</td>\n",
       "      <td>[purchased, gold, igrind, could, happier, come...</td>\n",
       "    </tr>\n",
       "    <tr>\n",
       "      <th>963579</th>\n",
       "      <td>1</td>\n",
       "      <td>[huge]</td>\n",
       "    </tr>\n",
       "  </tbody>\n",
       "</table>\n",
       "<p>250000 rows × 2 columns</p>\n",
       "</div>"
      ],
      "text/plain": [
       "         label                                        review_body\n",
       "2901789      2  [griddle, works, finebut, plates, rust, cost, ...\n",
       "4079589      2  [badthe, blade, sharp, enough, cut, tomato, fi...\n",
       "461277       2  [products, like, actually, make, productionmar...\n",
       "2583042      2  [second, time, washed, largest, container, dis...\n",
       "3856377      2  [admit, love, keurig, coffee, brewer, said, as...\n",
       "...        ...                                                ...\n",
       "2397865      1  [oven, pantry, delivered, stated, specificatio...\n",
       "519273       1                                             [like]\n",
       "4557793      1  [ratings, already, given, product, reason, pur...\n",
       "428144       1  [purchased, gold, igrind, could, happier, come...\n",
       "963579       1                                             [huge]\n",
       "\n",
       "[250000 rows x 2 columns]"
      ]
     },
     "execution_count": 11,
     "metadata": {},
     "output_type": "execute_result"
    }
   ],
   "source": [
    "ternary_copy"
   ]
  },
  {
   "cell_type": "code",
   "execution_count": 12,
   "id": "1f89a5ff",
   "metadata": {},
   "outputs": [],
   "source": [
    "def vector_avg(x):\n",
    "    i = 0\n",
    "    n = 0\n",
    "    a = np.zeros(300)\n",
    "    while i<len(x):\n",
    "        if x[i] in model_1.wv:\n",
    "            a += model_1.wv[x[i]]\n",
    "        else:\n",
    "            n += 1\n",
    "        i = i+1\n",
    "    if n == 0: return a\n",
    "    else:return a/(len(x)-n)"
   ]
  },
  {
   "cell_type": "code",
   "execution_count": 13,
   "id": "c71b4b53",
   "metadata": {},
   "outputs": [],
   "source": [
    "copy_test['avg_vector'] = copy_test['review_body'].apply(lambda x:vector_avg(x))"
   ]
  },
  {
   "cell_type": "code",
   "execution_count": 14,
   "id": "6f48f94e",
   "metadata": {},
   "outputs": [],
   "source": [
    "binary_copy = copy_test.loc[copy_test['label']!=3]"
   ]
  },
  {
   "cell_type": "markdown",
   "id": "f5fa5dd6",
   "metadata": {},
   "source": [
    "# binary_copy"
   ]
  },
  {
   "cell_type": "code",
   "execution_count": 15,
   "id": "ff61d5e9",
   "metadata": {},
   "outputs": [
    {
     "name": "stderr",
     "output_type": "stream",
     "text": [
      "/opt/anaconda3/lib/python3.7/site-packages/ipykernel_launcher.py:1: SettingWithCopyWarning: \n",
      "A value is trying to be set on a copy of a slice from a DataFrame.\n",
      "Try using .loc[row_indexer,col_indexer] = value instead\n",
      "\n",
      "See the caveats in the documentation: https://pandas.pydata.org/pandas-docs/stable/user_guide/indexing.html#returning-a-view-versus-a-copy\n",
      "  \"\"\"Entry point for launching an IPython kernel.\n"
     ]
    }
   ],
   "source": [
    "binary_copy['y'] = 1"
   ]
  },
  {
   "cell_type": "code",
   "execution_count": 16,
   "id": "84042951",
   "metadata": {},
   "outputs": [
    {
     "name": "stderr",
     "output_type": "stream",
     "text": [
      "/opt/anaconda3/lib/python3.7/site-packages/ipykernel_launcher.py:1: SettingWithCopyWarning: \n",
      "A value is trying to be set on a copy of a slice from a DataFrame\n",
      "\n",
      "See the caveats in the documentation: https://pandas.pydata.org/pandas-docs/stable/user_guide/indexing.html#returning-a-view-versus-a-copy\n",
      "  \"\"\"Entry point for launching an IPython kernel.\n",
      "/opt/anaconda3/lib/python3.7/site-packages/pandas/core/series.py:992: SettingWithCopyWarning: \n",
      "A value is trying to be set on a copy of a slice from a DataFrame\n",
      "\n",
      "See the caveats in the documentation: https://pandas.pydata.org/pandas-docs/stable/user_guide/indexing.html#returning-a-view-versus-a-copy\n",
      "  self._where(~key, value, inplace=True)\n"
     ]
    }
   ],
   "source": [
    "binary_copy.y[binary_copy['label']==2] = 0"
   ]
  },
  {
   "cell_type": "code",
   "execution_count": 17,
   "id": "21c4fb44",
   "metadata": {},
   "outputs": [
    {
     "data": {
      "text/html": [
       "<div>\n",
       "<style scoped>\n",
       "    .dataframe tbody tr th:only-of-type {\n",
       "        vertical-align: middle;\n",
       "    }\n",
       "\n",
       "    .dataframe tbody tr th {\n",
       "        vertical-align: top;\n",
       "    }\n",
       "\n",
       "    .dataframe thead th {\n",
       "        text-align: right;\n",
       "    }\n",
       "</style>\n",
       "<table border=\"1\" class=\"dataframe\">\n",
       "  <thead>\n",
       "    <tr style=\"text-align: right;\">\n",
       "      <th></th>\n",
       "      <th>label</th>\n",
       "      <th>review_body</th>\n",
       "      <th>avg_vector</th>\n",
       "      <th>y</th>\n",
       "    </tr>\n",
       "  </thead>\n",
       "  <tbody>\n",
       "    <tr>\n",
       "      <th>2901789</th>\n",
       "      <td>2</td>\n",
       "      <td>[griddle, works, finebut, plates, rust, cost, ...</td>\n",
       "      <td>[0.024641906699308984, 0.08881746848615316, 0....</td>\n",
       "      <td>0</td>\n",
       "    </tr>\n",
       "    <tr>\n",
       "      <th>4079589</th>\n",
       "      <td>2</td>\n",
       "      <td>[badthe, blade, sharp, enough, cut, tomato, fi...</td>\n",
       "      <td>[-0.016323742822610905, 0.05006689679742392, -...</td>\n",
       "      <td>0</td>\n",
       "    </tr>\n",
       "    <tr>\n",
       "      <th>461277</th>\n",
       "      <td>2</td>\n",
       "      <td>[products, like, actually, make, productionmar...</td>\n",
       "      <td>[0.06468200084054843, -0.010757067662780173, 0...</td>\n",
       "      <td>0</td>\n",
       "    </tr>\n",
       "    <tr>\n",
       "      <th>2583042</th>\n",
       "      <td>2</td>\n",
       "      <td>[second, time, washed, largest, container, dis...</td>\n",
       "      <td>[0.05246899649500847, 1.5992026403546333, 0.13...</td>\n",
       "      <td>0</td>\n",
       "    </tr>\n",
       "    <tr>\n",
       "      <th>3856377</th>\n",
       "      <td>2</td>\n",
       "      <td>[admit, love, keurig, coffee, brewer, said, as...</td>\n",
       "      <td>[0.06659146030120719, 0.03285078117067912, 0.0...</td>\n",
       "      <td>0</td>\n",
       "    </tr>\n",
       "    <tr>\n",
       "      <th>...</th>\n",
       "      <td>...</td>\n",
       "      <td>...</td>\n",
       "      <td>...</td>\n",
       "      <td>...</td>\n",
       "    </tr>\n",
       "    <tr>\n",
       "      <th>2397865</th>\n",
       "      <td>1</td>\n",
       "      <td>[oven, pantry, delivered, stated, specificatio...</td>\n",
       "      <td>[0.8622930869460106, 1.1786859966814518, -0.08...</td>\n",
       "      <td>1</td>\n",
       "    </tr>\n",
       "    <tr>\n",
       "      <th>519273</th>\n",
       "      <td>1</td>\n",
       "      <td>[like]</td>\n",
       "      <td>[0.04800622910261154, 0.02565152198076248, 0.1...</td>\n",
       "      <td>1</td>\n",
       "    </tr>\n",
       "    <tr>\n",
       "      <th>4557793</th>\n",
       "      <td>1</td>\n",
       "      <td>[ratings, already, given, product, reason, pur...</td>\n",
       "      <td>[0.025994234447382757, 0.05975001984367483, -0...</td>\n",
       "      <td>1</td>\n",
       "    </tr>\n",
       "    <tr>\n",
       "      <th>428144</th>\n",
       "      <td>1</td>\n",
       "      <td>[purchased, gold, igrind, could, happier, come...</td>\n",
       "      <td>[0.017926203673899483, 0.167255596448538, -0.0...</td>\n",
       "      <td>1</td>\n",
       "    </tr>\n",
       "    <tr>\n",
       "      <th>963579</th>\n",
       "      <td>1</td>\n",
       "      <td>[huge]</td>\n",
       "      <td>[-0.0970420092344284, 0.042717333883047104, 0....</td>\n",
       "      <td>1</td>\n",
       "    </tr>\n",
       "  </tbody>\n",
       "</table>\n",
       "<p>200000 rows × 4 columns</p>\n",
       "</div>"
      ],
      "text/plain": [
       "         label                                        review_body  \\\n",
       "2901789      2  [griddle, works, finebut, plates, rust, cost, ...   \n",
       "4079589      2  [badthe, blade, sharp, enough, cut, tomato, fi...   \n",
       "461277       2  [products, like, actually, make, productionmar...   \n",
       "2583042      2  [second, time, washed, largest, container, dis...   \n",
       "3856377      2  [admit, love, keurig, coffee, brewer, said, as...   \n",
       "...        ...                                                ...   \n",
       "2397865      1  [oven, pantry, delivered, stated, specificatio...   \n",
       "519273       1                                             [like]   \n",
       "4557793      1  [ratings, already, given, product, reason, pur...   \n",
       "428144       1  [purchased, gold, igrind, could, happier, come...   \n",
       "963579       1                                             [huge]   \n",
       "\n",
       "                                                avg_vector  y  \n",
       "2901789  [0.024641906699308984, 0.08881746848615316, 0....  0  \n",
       "4079589  [-0.016323742822610905, 0.05006689679742392, -...  0  \n",
       "461277   [0.06468200084054843, -0.010757067662780173, 0...  0  \n",
       "2583042  [0.05246899649500847, 1.5992026403546333, 0.13...  0  \n",
       "3856377  [0.06659146030120719, 0.03285078117067912, 0.0...  0  \n",
       "...                                                    ... ..  \n",
       "2397865  [0.8622930869460106, 1.1786859966814518, -0.08...  1  \n",
       "519273   [0.04800622910261154, 0.02565152198076248, 0.1...  1  \n",
       "4557793  [0.025994234447382757, 0.05975001984367483, -0...  1  \n",
       "428144   [0.017926203673899483, 0.167255596448538, -0.0...  1  \n",
       "963579   [-0.0970420092344284, 0.042717333883047104, 0....  1  \n",
       "\n",
       "[200000 rows x 4 columns]"
      ]
     },
     "execution_count": 17,
     "metadata": {},
     "output_type": "execute_result"
    }
   ],
   "source": [
    "binary_copy"
   ]
  },
  {
   "cell_type": "code",
   "execution_count": 18,
   "id": "88dfa746",
   "metadata": {},
   "outputs": [],
   "source": [
    "X = binary_copy['avg_vector']\n",
    "Y = binary_copy['y']"
   ]
  },
  {
   "cell_type": "code",
   "execution_count": 19,
   "id": "ca43f321",
   "metadata": {},
   "outputs": [],
   "source": [
    "from sklearn.model_selection import train_test_split"
   ]
  },
  {
   "cell_type": "code",
   "execution_count": 20,
   "id": "5fbf913f",
   "metadata": {},
   "outputs": [],
   "source": [
    "x_train, x_test, y_train, y_test = train_test_split(X, Y, random_state = 19, test_size = 0.2)"
   ]
  },
  {
   "cell_type": "code",
   "execution_count": 21,
   "id": "3dfef2c2",
   "metadata": {},
   "outputs": [],
   "source": [
    "x_train = np.array(x_train.tolist())\n",
    "\n",
    "y_train = np.array(y_train.tolist())\n",
    "\n",
    "x_train = np.nan_to_num(x_train)"
   ]
  },
  {
   "cell_type": "code",
   "execution_count": 22,
   "id": "fc0fc1d1",
   "metadata": {},
   "outputs": [],
   "source": [
    "x_test = np.array(x_test.tolist())\n",
    "\n",
    "y_test = np.array(y_test.tolist())\n",
    "\n",
    "x_test = np.nan_to_num(x_test)"
   ]
  },
  {
   "cell_type": "code",
   "execution_count": 23,
   "id": "34aeff02",
   "metadata": {},
   "outputs": [],
   "source": [
    "# import libraries\n",
    "import torch\n",
    "from torch.utils.data import DataLoader, Dataset\n",
    "import torchvision\n",
    "import torchvision.transforms as transforms\n",
    "from torch.utils.data.sampler import SubsetRandomSampler\n",
    "import matplotlib.pyplot as plt\n",
    "import numpy as np\n",
    "import pandas as pd"
   ]
  },
  {
   "cell_type": "code",
   "execution_count": 24,
   "id": "92e958bf",
   "metadata": {},
   "outputs": [],
   "source": [
    "from torch.utils.data import DataLoader, Dataset\n",
    "from torch.utils.data import TensorDataset, DataLoader"
   ]
  },
  {
   "cell_type": "code",
   "execution_count": 25,
   "id": "4b5c4df7",
   "metadata": {},
   "outputs": [],
   "source": [
    "\n",
    "# number of subprocesses to use for data loading\n",
    "num_workers = 0\n",
    "# how many samples per batch to load\n",
    "batch_size = 20\n",
    "# percentage of training set to use as validation\n",
    "#valid_size = 0.2\n",
    "\n",
    "DatasetTrain = TensorDataset(torch.from_numpy(x_train),torch.from_numpy(y_train))\n",
    "        \n",
    "DatasetTest=TensorDataset(torch.from_numpy(x_test),torch.from_numpy(y_test))\n",
    "\n",
    "train_loader=torch.utils.data.DataLoader(DatasetTrain,batch_size=batch_size,shuffle=True,drop_last=True, num_workers=0)\n",
    "\n",
    "valid_loader=torch.utils.data.DataLoader(DatasetTest, batch_size=batch_size, drop_last=True,num_workers=0)"
   ]
  },
  {
   "cell_type": "code",
   "execution_count": 26,
   "id": "a5f4c065",
   "metadata": {},
   "outputs": [
    {
     "name": "stdout",
     "output_type": "stream",
     "text": [
      "Net(\n",
      "  (fc1): Linear(in_features=300, out_features=50, bias=True)\n",
      "  (fc2): Linear(in_features=50, out_features=10, bias=True)\n",
      "  (fc3): Linear(in_features=10, out_features=2, bias=True)\n",
      "  (dropout): Dropout(p=0.2, inplace=False)\n",
      ")\n"
     ]
    }
   ],
   "source": [
    "import torch.nn as nn\n",
    "import torch.nn.functional as F\n",
    "\n",
    "# define the NN architecture\n",
    "class Net(nn.Module):\n",
    "    def __init__(self):\n",
    "        super(Net, self).__init__()\n",
    "        # number of hidden nodes in each layer \n",
    "        hidden_1 = 50\n",
    "        hidden_2 = 10\n",
    "        # linear layer (300 -> hidden_1)\n",
    "        self.fc1 = nn.Linear(300, hidden_1)\n",
    "        # linear layer (n_hidden -> hidden_2)\n",
    "        self.fc2 = nn.Linear(hidden_1, hidden_2)\n",
    "        # linear layer (n_hidden -> 10)\n",
    "        self.fc3 = nn.Linear(hidden_2, 2)\n",
    "        # dropout layer (p=0.2)\n",
    "        # dropout prevents overfitting of data\n",
    "        self.dropout = nn.Dropout(0.2)\n",
    "\n",
    "    def forward(self, x):\n",
    "        # flatten image input\n",
    "        x = x.view(-1, 300)\n",
    "        # add hidden layer, with relu activation function\n",
    "        x = F.relu(self.fc1(x))\n",
    "        # add dropout layer\n",
    "        x = self.dropout(x)\n",
    "        # add hidden layer, with relu activation function\n",
    "        x = F.relu(self.fc2(x))\n",
    "        # add dropout layer\n",
    "        x = self.dropout(x)\n",
    "        # add output layer\n",
    "        x = self.fc3(x)\n",
    "        return x\n",
    "\n",
    "# initialize the NN\n",
    "model = Net()\n",
    "print(model)"
   ]
  },
  {
   "cell_type": "code",
   "execution_count": 27,
   "id": "5eedb8a8",
   "metadata": {},
   "outputs": [],
   "source": [
    "# import libraries\n",
    "import torch\n",
    "## Specify loss and optimization functions\n",
    "\n",
    "# specify loss function\n",
    "criterion = nn.CrossEntropyLoss()\n",
    "\n",
    "# specify optimizer\n",
    "optimizer = torch.optim.SGD(model.parameters(), lr=0.01)"
   ]
  },
  {
   "cell_type": "code",
   "execution_count": 28,
   "id": "2ae564e5",
   "metadata": {},
   "outputs": [
    {
     "data": {
      "text/plain": [
       "<torch.utils.data.dataloader.DataLoader at 0x7ff13b70c550>"
      ]
     },
     "execution_count": 28,
     "metadata": {},
     "output_type": "execute_result"
    }
   ],
   "source": [
    "train_loader"
   ]
  },
  {
   "cell_type": "code",
   "execution_count": 29,
   "id": "67ba5920",
   "metadata": {},
   "outputs": [
    {
     "name": "stdout",
     "output_type": "stream",
     "text": [
      "Epoch: 1 \tTraining Loss: 0.483913\n",
      "Epoch: 2 \tTraining Loss: 0.392670\n",
      "Epoch: 3 \tTraining Loss: 0.378242\n",
      "Epoch: 4 \tTraining Loss: 0.370848\n",
      "Epoch: 5 \tTraining Loss: 0.365118\n",
      "Epoch: 6 \tTraining Loss: 0.361285\n",
      "Epoch: 7 \tTraining Loss: 0.356872\n",
      "Epoch: 8 \tTraining Loss: 0.353547\n",
      "Epoch: 9 \tTraining Loss: 0.351196\n",
      "Epoch: 10 \tTraining Loss: 0.348159\n",
      "Epoch: 11 \tTraining Loss: 0.347070\n",
      "Epoch: 12 \tTraining Loss: 0.343552\n",
      "Epoch: 13 \tTraining Loss: 0.342804\n",
      "Epoch: 14 \tTraining Loss: 0.341586\n",
      "Epoch: 15 \tTraining Loss: 0.338453\n",
      "Epoch: 16 \tTraining Loss: 0.339810\n",
      "Epoch: 17 \tTraining Loss: 0.337566\n",
      "Epoch: 18 \tTraining Loss: 0.336264\n",
      "Epoch: 19 \tTraining Loss: 0.335728\n",
      "Epoch: 20 \tTraining Loss: 0.334147\n"
     ]
    }
   ],
   "source": [
    "# number of epochs to train the model\n",
    "n_epochs = 20  # suggest training between 20-50 epochs\n",
    "\n",
    "model.train() # prep model for training\n",
    "\n",
    "for epoch in range(n_epochs):\n",
    "    # monitor training loss\n",
    "    train_loss = 0.0\n",
    "    \n",
    "    ###################\n",
    "    # train the model #\n",
    "    ###################\n",
    "    for data, target in train_loader:\n",
    "        # clear the gradients of all optimized variables\n",
    "        optimizer.zero_grad()\n",
    "        # forward pass: compute predicted outputs by passing inputs to the model\n",
    "        output = model(data.float())\n",
    "        # calculate the loss\n",
    "        loss = criterion(output, target)\n",
    "        # backward pass: compute gradient of the loss with respect to model parameters\n",
    "        loss.backward()\n",
    "        # perform a single optimization step (parameter update)\n",
    "        optimizer.step()\n",
    "        # update running training loss\n",
    "        train_loss += loss.item()*data.size(0)\n",
    "        \n",
    "    # print training statistics \n",
    "    # calculate average loss over an epoch\n",
    "    train_loss = train_loss/len(train_loader.dataset)\n",
    "\n",
    "    print('Epoch: {} \\tTraining Loss: {:.6f}'.format(\n",
    "        epoch+1, \n",
    "        train_loss\n",
    "        ))"
   ]
  },
  {
   "cell_type": "code",
   "execution_count": 30,
   "id": "5854839e",
   "metadata": {},
   "outputs": [
    {
     "data": {
      "text/plain": [
       "Net(\n",
       "  (fc1): Linear(in_features=300, out_features=50, bias=True)\n",
       "  (fc2): Linear(in_features=50, out_features=10, bias=True)\n",
       "  (fc3): Linear(in_features=10, out_features=2, bias=True)\n",
       "  (dropout): Dropout(p=0.2, inplace=False)\n",
       ")"
      ]
     },
     "execution_count": 30,
     "metadata": {},
     "output_type": "execute_result"
    }
   ],
   "source": [
    "model"
   ]
  },
  {
   "cell_type": "code",
   "execution_count": 31,
   "id": "35bd2bd1",
   "metadata": {},
   "outputs": [],
   "source": [
    "DatasetTest=TensorDataset(torch.from_numpy(x_test),torch.from_numpy(y_test))\n",
    "\n",
    "total_num = 0\n",
    "correct = 0\n",
    "for x_temp,y_real in DatasetTest:\n",
    "    res = model(x_temp.float())\n",
    "    _, pred = torch.max(res,1)\n",
    "    total_num += 1\n",
    "    if int(pred) == int(y_real):\n",
    "        correct += 1"
   ]
  },
  {
   "cell_type": "code",
   "execution_count": 32,
   "id": "97122a6c",
   "metadata": {},
   "outputs": [],
   "source": [
    "if 0 in copy_test['label'].values:\n",
    "    print('hhhh')"
   ]
  },
  {
   "cell_type": "code",
   "execution_count": 33,
   "id": "307d66d0",
   "metadata": {},
   "outputs": [],
   "source": [
    "accuracy_mymodel_avg =  correct/total_num"
   ]
  },
  {
   "cell_type": "code",
   "execution_count": 34,
   "id": "39a47640",
   "metadata": {},
   "outputs": [
    {
     "data": {
      "text/plain": [
       "0.854175"
      ]
     },
     "execution_count": 34,
     "metadata": {},
     "output_type": "execute_result"
    }
   ],
   "source": [
    "accuracy_mymodel_avg"
   ]
  },
  {
   "cell_type": "code",
   "execution_count": 35,
   "id": "bd6a359a",
   "metadata": {},
   "outputs": [],
   "source": [
    "import copy"
   ]
  },
  {
   "cell_type": "code",
   "execution_count": 36,
   "id": "d89f2ca5",
   "metadata": {},
   "outputs": [],
   "source": [
    "import gensim\n",
    "model_1 = gensim.models.Word2Vec.load('save')"
   ]
  },
  {
   "cell_type": "code",
   "execution_count": 37,
   "id": "b64b34de",
   "metadata": {},
   "outputs": [],
   "source": [
    "def vector_concat(x):\n",
    "    i = 0\n",
    "    n_x = 0\n",
    "    length = len(x)\n",
    "    if length == 0:\n",
    "        return np.zeros(3000)\n",
    "    a = np.zeros(300)\n",
    "    \n",
    "    while i<10:\n",
    "        if n_x < length:\n",
    "            if x[n_x] in model_1.wv :\n",
    "                if i == 0:\n",
    "                    ans = copy.deepcopy(model_1.wv[x[n_x]])\n",
    "                    i += 1\n",
    "                else:\n",
    "                    ans = np.concatenate((ans,model_1.wv[x[n_x]]), axis=None)\n",
    "                    i += 1\n",
    "            n_x += 1\n",
    "        else:\n",
    "            if i == 0:\n",
    "                ans = a\n",
    "                i += 1\n",
    "            else:\n",
    "                ans = np.concatenate((ans,a), axis=None)\n",
    "                i += 1\n",
    "    return ans"
   ]
  },
  {
   "cell_type": "code",
   "execution_count": 38,
   "id": "e482e870",
   "metadata": {},
   "outputs": [
    {
     "name": "stderr",
     "output_type": "stream",
     "text": [
      "/opt/anaconda3/lib/python3.7/site-packages/ipykernel_launcher.py:1: SettingWithCopyWarning: \n",
      "A value is trying to be set on a copy of a slice from a DataFrame.\n",
      "Try using .loc[row_indexer,col_indexer] = value instead\n",
      "\n",
      "See the caveats in the documentation: https://pandas.pydata.org/pandas-docs/stable/user_guide/indexing.html#returning-a-view-versus-a-copy\n",
      "  \"\"\"Entry point for launching an IPython kernel.\n"
     ]
    }
   ],
   "source": [
    "binary_copy['concat_vec'] = binary_copy['review_body'].apply(lambda x:vector_concat(x))"
   ]
  },
  {
   "cell_type": "code",
   "execution_count": 39,
   "id": "a27d7439",
   "metadata": {},
   "outputs": [
    {
     "data": {
      "text/html": [
       "<div>\n",
       "<style scoped>\n",
       "    .dataframe tbody tr th:only-of-type {\n",
       "        vertical-align: middle;\n",
       "    }\n",
       "\n",
       "    .dataframe tbody tr th {\n",
       "        vertical-align: top;\n",
       "    }\n",
       "\n",
       "    .dataframe thead th {\n",
       "        text-align: right;\n",
       "    }\n",
       "</style>\n",
       "<table border=\"1\" class=\"dataframe\">\n",
       "  <thead>\n",
       "    <tr style=\"text-align: right;\">\n",
       "      <th></th>\n",
       "      <th>label</th>\n",
       "      <th>review_body</th>\n",
       "      <th>avg_vector</th>\n",
       "      <th>y</th>\n",
       "      <th>concat_vec</th>\n",
       "    </tr>\n",
       "  </thead>\n",
       "  <tbody>\n",
       "    <tr>\n",
       "      <th>2901789</th>\n",
       "      <td>2</td>\n",
       "      <td>[griddle, works, finebut, plates, rust, cost, ...</td>\n",
       "      <td>[0.024641906699308984, 0.08881746848615316, 0....</td>\n",
       "      <td>0</td>\n",
       "      <td>[-0.04459453, -0.07535303, -0.4262394, -0.0587...</td>\n",
       "    </tr>\n",
       "    <tr>\n",
       "      <th>4079589</th>\n",
       "      <td>2</td>\n",
       "      <td>[badthe, blade, sharp, enough, cut, tomato, fi...</td>\n",
       "      <td>[-0.016323742822610905, 0.05006689679742392, -...</td>\n",
       "      <td>0</td>\n",
       "      <td>[-0.020585256, 0.03667236, -0.26981658, 0.1782...</td>\n",
       "    </tr>\n",
       "    <tr>\n",
       "      <th>461277</th>\n",
       "      <td>2</td>\n",
       "      <td>[products, like, actually, make, productionmar...</td>\n",
       "      <td>[0.06468200084054843, -0.010757067662780173, 0...</td>\n",
       "      <td>0</td>\n",
       "      <td>[-0.013184801, -0.005327605, 0.17744249, 0.035...</td>\n",
       "    </tr>\n",
       "    <tr>\n",
       "      <th>2583042</th>\n",
       "      <td>2</td>\n",
       "      <td>[second, time, washed, largest, container, dis...</td>\n",
       "      <td>[0.05246899649500847, 1.5992026403546333, 0.13...</td>\n",
       "      <td>0</td>\n",
       "      <td>[-0.069223836, 0.11872141, 0.029483773, 0.0597...</td>\n",
       "    </tr>\n",
       "    <tr>\n",
       "      <th>3856377</th>\n",
       "      <td>2</td>\n",
       "      <td>[admit, love, keurig, coffee, brewer, said, as...</td>\n",
       "      <td>[0.06659146030120719, 0.03285078117067912, 0.0...</td>\n",
       "      <td>0</td>\n",
       "      <td>[-0.10600603, 0.029664135, -0.09290071, 0.0523...</td>\n",
       "    </tr>\n",
       "    <tr>\n",
       "      <th>...</th>\n",
       "      <td>...</td>\n",
       "      <td>...</td>\n",
       "      <td>...</td>\n",
       "      <td>...</td>\n",
       "      <td>...</td>\n",
       "    </tr>\n",
       "    <tr>\n",
       "      <th>2397865</th>\n",
       "      <td>1</td>\n",
       "      <td>[oven, pantry, delivered, stated, specificatio...</td>\n",
       "      <td>[0.8622930869460106, 1.1786859966814518, -0.08...</td>\n",
       "      <td>1</td>\n",
       "      <td>[0.07905123, 0.053250413, -0.01902701, 0.03232...</td>\n",
       "    </tr>\n",
       "    <tr>\n",
       "      <th>519273</th>\n",
       "      <td>1</td>\n",
       "      <td>[like]</td>\n",
       "      <td>[0.04800622910261154, 0.02565152198076248, 0.1...</td>\n",
       "      <td>1</td>\n",
       "      <td>[0.04800622910261154, 0.02565152198076248, 0.1...</td>\n",
       "    </tr>\n",
       "    <tr>\n",
       "      <th>4557793</th>\n",
       "      <td>1</td>\n",
       "      <td>[ratings, already, given, product, reason, pur...</td>\n",
       "      <td>[0.025994234447382757, 0.05975001984367483, -0...</td>\n",
       "      <td>1</td>\n",
       "      <td>[0.22660527, -0.20551513, -0.020619687, 0.1293...</td>\n",
       "    </tr>\n",
       "    <tr>\n",
       "      <th>428144</th>\n",
       "      <td>1</td>\n",
       "      <td>[purchased, gold, igrind, could, happier, come...</td>\n",
       "      <td>[0.017926203673899483, 0.167255596448538, -0.0...</td>\n",
       "      <td>1</td>\n",
       "      <td>[0.07608983, -0.057236966, 0.3409337, -0.27152...</td>\n",
       "    </tr>\n",
       "    <tr>\n",
       "      <th>963579</th>\n",
       "      <td>1</td>\n",
       "      <td>[huge]</td>\n",
       "      <td>[-0.0970420092344284, 0.042717333883047104, 0....</td>\n",
       "      <td>1</td>\n",
       "      <td>[-0.0970420092344284, 0.042717333883047104, 0....</td>\n",
       "    </tr>\n",
       "  </tbody>\n",
       "</table>\n",
       "<p>200000 rows × 5 columns</p>\n",
       "</div>"
      ],
      "text/plain": [
       "         label                                        review_body  \\\n",
       "2901789      2  [griddle, works, finebut, plates, rust, cost, ...   \n",
       "4079589      2  [badthe, blade, sharp, enough, cut, tomato, fi...   \n",
       "461277       2  [products, like, actually, make, productionmar...   \n",
       "2583042      2  [second, time, washed, largest, container, dis...   \n",
       "3856377      2  [admit, love, keurig, coffee, brewer, said, as...   \n",
       "...        ...                                                ...   \n",
       "2397865      1  [oven, pantry, delivered, stated, specificatio...   \n",
       "519273       1                                             [like]   \n",
       "4557793      1  [ratings, already, given, product, reason, pur...   \n",
       "428144       1  [purchased, gold, igrind, could, happier, come...   \n",
       "963579       1                                             [huge]   \n",
       "\n",
       "                                                avg_vector  y  \\\n",
       "2901789  [0.024641906699308984, 0.08881746848615316, 0....  0   \n",
       "4079589  [-0.016323742822610905, 0.05006689679742392, -...  0   \n",
       "461277   [0.06468200084054843, -0.010757067662780173, 0...  0   \n",
       "2583042  [0.05246899649500847, 1.5992026403546333, 0.13...  0   \n",
       "3856377  [0.06659146030120719, 0.03285078117067912, 0.0...  0   \n",
       "...                                                    ... ..   \n",
       "2397865  [0.8622930869460106, 1.1786859966814518, -0.08...  1   \n",
       "519273   [0.04800622910261154, 0.02565152198076248, 0.1...  1   \n",
       "4557793  [0.025994234447382757, 0.05975001984367483, -0...  1   \n",
       "428144   [0.017926203673899483, 0.167255596448538, -0.0...  1   \n",
       "963579   [-0.0970420092344284, 0.042717333883047104, 0....  1   \n",
       "\n",
       "                                                concat_vec  \n",
       "2901789  [-0.04459453, -0.07535303, -0.4262394, -0.0587...  \n",
       "4079589  [-0.020585256, 0.03667236, -0.26981658, 0.1782...  \n",
       "461277   [-0.013184801, -0.005327605, 0.17744249, 0.035...  \n",
       "2583042  [-0.069223836, 0.11872141, 0.029483773, 0.0597...  \n",
       "3856377  [-0.10600603, 0.029664135, -0.09290071, 0.0523...  \n",
       "...                                                    ...  \n",
       "2397865  [0.07905123, 0.053250413, -0.01902701, 0.03232...  \n",
       "519273   [0.04800622910261154, 0.02565152198076248, 0.1...  \n",
       "4557793  [0.22660527, -0.20551513, -0.020619687, 0.1293...  \n",
       "428144   [0.07608983, -0.057236966, 0.3409337, -0.27152...  \n",
       "963579   [-0.0970420092344284, 0.042717333883047104, 0....  \n",
       "\n",
       "[200000 rows x 5 columns]"
      ]
     },
     "execution_count": 39,
     "metadata": {},
     "output_type": "execute_result"
    }
   ],
   "source": [
    "binary_copy"
   ]
  },
  {
   "cell_type": "code",
   "execution_count": 40,
   "id": "8a568d32",
   "metadata": {},
   "outputs": [],
   "source": [
    "X = binary_copy['concat_vec']\n",
    "Y = binary_copy['y']"
   ]
  },
  {
   "cell_type": "code",
   "execution_count": 41,
   "id": "7aeb7f4a",
   "metadata": {},
   "outputs": [],
   "source": [
    "x_train, x_test, y_train, y_test = train_test_split(X, Y, random_state = 19, test_size = 0.2)"
   ]
  },
  {
   "cell_type": "code",
   "execution_count": 42,
   "id": "3203a6ea",
   "metadata": {},
   "outputs": [],
   "source": [
    "x_train = np.array(x_train.tolist())\n",
    "\n",
    "y_train = np.array(y_train.tolist())\n",
    "\n",
    "x_train = np.nan_to_num(x_train)"
   ]
  },
  {
   "cell_type": "code",
   "execution_count": 43,
   "id": "79f77598",
   "metadata": {},
   "outputs": [],
   "source": [
    "x_test = np.array(x_test.tolist())\n",
    "\n",
    "y_test = np.array(y_test.tolist())\n",
    "\n",
    "x_test = np.nan_to_num(x_test)"
   ]
  },
  {
   "cell_type": "code",
   "execution_count": 44,
   "id": "535f78cc",
   "metadata": {},
   "outputs": [],
   "source": [
    "\n",
    "# number of subprocesses to use for data loading\n",
    "num_workers = 0\n",
    "# how many samples per batch to load\n",
    "batch_size = 20\n",
    "# percentage of training set to use as validation\n",
    "#valid_size = 0.2\n",
    "\n",
    "DatasetTrain = TensorDataset(torch.from_numpy(x_train),torch.from_numpy(y_train))\n",
    "        \n",
    "DatasetTest=TensorDataset(torch.from_numpy(x_test),torch.from_numpy(y_test))\n",
    "\n",
    "train_loader=torch.utils.data.DataLoader(DatasetTrain,batch_size=batch_size,shuffle=True,drop_last=True, num_workers=0)\n",
    "\n",
    "valid_loader=torch.utils.data.DataLoader(DatasetTest, batch_size=batch_size, drop_last=True,num_workers=0)"
   ]
  },
  {
   "cell_type": "code",
   "execution_count": 45,
   "id": "f5b46f7f",
   "metadata": {},
   "outputs": [
    {
     "data": {
      "text/plain": [
       "array([0, 1, 1, ..., 1, 0, 0])"
      ]
     },
     "execution_count": 45,
     "metadata": {},
     "output_type": "execute_result"
    }
   ],
   "source": [
    "y_train"
   ]
  },
  {
   "cell_type": "code",
   "execution_count": 46,
   "id": "637e0dc6",
   "metadata": {},
   "outputs": [],
   "source": [
    "import torch.nn as nn\n",
    "import torch.nn.functional as F\n",
    "\n",
    "# define the NN architecture\n",
    "class Net(nn.Module):\n",
    "    def __init__(self):\n",
    "        super(Net, self).__init__()\n",
    "        # number of hidden nodes in each layer \n",
    "        hidden_1 = 50\n",
    "        hidden_2 = 10\n",
    "        # linear layer (300 -> hidden_1)\n",
    "        self.fc1 = nn.Linear(3000, hidden_1)\n",
    "        # linear layer (n_hidden -> hidden_2)\n",
    "        self.fc2 = nn.Linear(hidden_1, hidden_2)\n",
    "        # linear layer (n_hidden -> 10)\n",
    "        self.fc3 = nn.Linear(hidden_2, 2)\n",
    "        # dropout layer (p=0.2)\n",
    "        # dropout prevents overfitting of data\n",
    "        self.dropout = nn.Dropout(0.2)\n",
    "\n",
    "    def forward(self, x):\n",
    "        # flatten image input\n",
    "        x = x.view(-1, 3000)\n",
    "        # add hidden layer, with relu activation function\n",
    "        x = F.relu(self.fc1(x))\n",
    "        # add dropout layer\n",
    "        x = self.dropout(x)\n",
    "        # add hidden layer, with relu activation function\n",
    "        x = F.relu(self.fc2(x))\n",
    "        # add dropout layer\n",
    "        x = self.dropout(x)\n",
    "        # add output layer\n",
    "        x = self.fc3(x)\n",
    "        return x\n",
    "\n",
    "# initialize the NN\n",
    "model = Net()"
   ]
  },
  {
   "cell_type": "code",
   "execution_count": 47,
   "id": "10fe4bd6",
   "metadata": {},
   "outputs": [
    {
     "name": "stdout",
     "output_type": "stream",
     "text": [
      "Net(\n",
      "  (fc1): Linear(in_features=3000, out_features=50, bias=True)\n",
      "  (fc2): Linear(in_features=50, out_features=10, bias=True)\n",
      "  (fc3): Linear(in_features=10, out_features=2, bias=True)\n",
      "  (dropout): Dropout(p=0.2, inplace=False)\n",
      ")\n"
     ]
    }
   ],
   "source": [
    "print(model)"
   ]
  },
  {
   "cell_type": "code",
   "execution_count": 48,
   "id": "057366cb",
   "metadata": {},
   "outputs": [],
   "source": [
    "# specify loss function\n",
    "criterion = nn.CrossEntropyLoss()\n",
    "\n",
    "# specify optimizer\n",
    "optimizer = torch.optim.SGD(model.parameters(), lr=0.01)"
   ]
  },
  {
   "cell_type": "code",
   "execution_count": 49,
   "id": "74614461",
   "metadata": {},
   "outputs": [
    {
     "name": "stdout",
     "output_type": "stream",
     "text": [
      "Epoch: 1 \tTraining Loss: 0.569580\n",
      "Epoch: 2 \tTraining Loss: 0.464485\n",
      "Epoch: 3 \tTraining Loss: 0.440153\n",
      "Epoch: 4 \tTraining Loss: 0.424263\n",
      "Epoch: 5 \tTraining Loss: 0.409070\n",
      "Epoch: 6 \tTraining Loss: 0.393365\n",
      "Epoch: 7 \tTraining Loss: 0.378543\n",
      "Epoch: 8 \tTraining Loss: 0.363366\n",
      "Epoch: 9 \tTraining Loss: 0.346821\n",
      "Epoch: 10 \tTraining Loss: 0.331147\n",
      "Epoch: 11 \tTraining Loss: 0.317480\n",
      "Epoch: 12 \tTraining Loss: 0.302490\n",
      "Epoch: 13 \tTraining Loss: 0.288299\n",
      "Epoch: 14 \tTraining Loss: 0.275590\n",
      "Epoch: 15 \tTraining Loss: 0.265235\n",
      "Epoch: 16 \tTraining Loss: 0.254121\n",
      "Epoch: 17 \tTraining Loss: 0.243234\n",
      "Epoch: 18 \tTraining Loss: 0.233545\n",
      "Epoch: 19 \tTraining Loss: 0.224100\n",
      "Epoch: 20 \tTraining Loss: 0.217472\n"
     ]
    }
   ],
   "source": [
    "# number of epochs to train the model\n",
    "n_epochs = 20  # suggest training between 20-50 epochs\n",
    "\n",
    "model.train() # prep model for training\n",
    "\n",
    "for epoch in range(n_epochs):\n",
    "    # monitor training loss\n",
    "    train_loss = 0.0\n",
    "    \n",
    "    ###################\n",
    "    # train the model #\n",
    "    ###################\n",
    "    for data, target in train_loader:\n",
    "        # clear the gradients of all optimized variables\n",
    "        optimizer.zero_grad()\n",
    "        # forward pass: compute predicted outputs by passing inputs to the model\n",
    "        output = model(data.float())\n",
    "        # calculate the loss\n",
    "        loss = criterion(output, target)\n",
    "        # backward pass: compute gradient of the loss with respect to model parameters\n",
    "        loss.backward()\n",
    "        # perform a single optimization step (parameter update)\n",
    "        optimizer.step()\n",
    "        # update running training loss\n",
    "        train_loss += loss.item()*data.size(0)\n",
    "        \n",
    "    # print training statistics \n",
    "    # calculate average loss over an epoch\n",
    "    train_loss = train_loss/len(train_loader.dataset)\n",
    "\n",
    "    print('Epoch: {} \\tTraining Loss: {:.6f}'.format(\n",
    "        epoch+1, \n",
    "        train_loss\n",
    "        ))"
   ]
  },
  {
   "cell_type": "code",
   "execution_count": null,
   "id": "f8b8099f",
   "metadata": {},
   "outputs": [],
   "source": []
  },
  {
   "cell_type": "code",
   "execution_count": 50,
   "id": "da4720a0",
   "metadata": {},
   "outputs": [],
   "source": [
    "DatasetTest=TensorDataset(torch.from_numpy(x_test),torch.from_numpy(y_test))\n",
    "\n",
    "total_num = 0\n",
    "correct = 0\n",
    "for x_temp,y_real in DatasetTest:\n",
    "    res = model(x_temp.float())\n",
    "    _, pred = torch.max(res,1)\n",
    "    total_num += 1\n",
    "    if int(pred) == int(y_real):\n",
    "        correct += 1"
   ]
  },
  {
   "cell_type": "code",
   "execution_count": 51,
   "id": "e4aeab51",
   "metadata": {},
   "outputs": [],
   "source": [
    "accuracy_mymodel_concat =  correct/total_num"
   ]
  },
  {
   "cell_type": "code",
   "execution_count": 54,
   "id": "2a8788f0",
   "metadata": {},
   "outputs": [
    {
     "data": {
      "text/plain": [
       "0.77565"
      ]
     },
     "execution_count": 54,
     "metadata": {},
     "output_type": "execute_result"
    }
   ],
   "source": [
    "accuracy_mymodel_concat"
   ]
  },
  {
   "cell_type": "code",
   "execution_count": 52,
   "id": "ba232a72",
   "metadata": {},
   "outputs": [
    {
     "data": {
      "text/plain": [
       "0.854175"
      ]
     },
     "execution_count": 52,
     "metadata": {},
     "output_type": "execute_result"
    }
   ],
   "source": [
    "accuracy_mymodel_avg"
   ]
  },
  {
   "cell_type": "markdown",
   "id": "64c3410b",
   "metadata": {},
   "source": [
    "# conclusion:\n",
    "the accuracy for mymodel using avg vector with binary label is 0.854175\n",
    "\n",
    "the accuracy for mymodel using concat vector with binary label is 0.77565\n"
   ]
  }
 ],
 "metadata": {
  "kernelspec": {
   "display_name": "Python 3",
   "language": "python",
   "name": "python3"
  },
  "language_info": {
   "codemirror_mode": {
    "name": "ipython",
    "version": 3
   },
   "file_extension": ".py",
   "mimetype": "text/x-python",
   "name": "python",
   "nbconvert_exporter": "python",
   "pygments_lexer": "ipython3",
   "version": "3.7.10"
  }
 },
 "nbformat": 4,
 "nbformat_minor": 5
}
