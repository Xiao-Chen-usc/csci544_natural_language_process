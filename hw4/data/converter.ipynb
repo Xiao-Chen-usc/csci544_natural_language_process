{
 "cells": [
  {
   "cell_type": "code",
   "execution_count": 28,
   "id": "a25fe70a",
   "metadata": {},
   "outputs": [],
   "source": [
    "import numpy as np\n",
    "import pandas as pd \n",
    "import csv"
   ]
  },
  {
   "cell_type": "code",
   "execution_count": 29,
   "id": "b286686f",
   "metadata": {},
   "outputs": [],
   "source": [
    "aaa = pd.read_csv('eva', quoting=csv.QUOTE_NONE, sep=\" \", names= ['index', 'word', 'tag','rt'])"
   ]
  },
  {
   "cell_type": "code",
   "execution_count": 30,
   "id": "6c4586f0",
   "metadata": {},
   "outputs": [],
   "source": [
    "aaa = aaa.to_numpy()"
   ]
  },
  {
   "cell_type": "code",
   "execution_count": 31,
   "id": "e22120a2",
   "metadata": {},
   "outputs": [
    {
     "data": {
      "text/plain": [
       "array([[1, 'CRICKET', 'O', 'O'],\n",
       "       [2, '-', 'O', 'O'],\n",
       "       [3, 'LEICESTERSHIRE', 'B-ORG', 'B-ORG'],\n",
       "       ...,\n",
       "       [2, 'Dhaka', 'B-ORG', 'B-ORG'],\n",
       "       [3, 'Newsroom', 'I-ORG', 'I-ORG'],\n",
       "       [4, '880-2-506363', 'O', 'O']], dtype=object)"
      ]
     },
     "execution_count": 31,
     "metadata": {},
     "output_type": "execute_result"
    }
   ],
   "source": [
    "aaa"
   ]
  },
  {
   "cell_type": "code",
   "execution_count": 32,
   "id": "fb29a15c",
   "metadata": {},
   "outputs": [],
   "source": [
    "def data_to_stream(data):\n",
    "    data_stream = []\n",
    "    i = 0 \n",
    "    for index, word, tag,rt in data:\n",
    "        if index == 1:\n",
    "            temp = []\n",
    "            temp.append([index,word, tag,rt])\n",
    "            \n",
    "        else:\n",
    "            temp.append([index ,word,tag,rt ])\n",
    "            \n",
    "        if ( (i+1 < len(data)) and data[i+1][0] == 1 ) or (i == len(data)-1):\n",
    "            data_stream.append(temp)\n",
    "        \n",
    "        i += 1\n",
    "            \n",
    "    return data_stream "
   ]
  },
  {
   "cell_type": "code",
   "execution_count": 33,
   "id": "71bf2d63",
   "metadata": {},
   "outputs": [],
   "source": [
    "aaa1 = data_to_stream(aaa)"
   ]
  },
  {
   "cell_type": "code",
   "execution_count": 34,
   "id": "2fa37696",
   "metadata": {},
   "outputs": [],
   "source": [
    "\n",
    "def write_out_eva(file_name, data):\n",
    "    \n",
    "    with open(file_name,'w') as f:\n",
    "        for i in range(len(data)):\n",
    "            if i != 0:\n",
    "                f.write('\\n')\n",
    "            for (index, w, t,p) in data[i]:\n",
    "                f.write(str(index))\n",
    "                f.write(' ')\n",
    "                f.write(str(w))\n",
    "                f.write(' ')\n",
    "                f.write(str(t))\n",
    "                f.write(' ')\n",
    "                f.write(str(p))\n",
    "                f.write('\\n')"
   ]
  },
  {
   "cell_type": "code",
   "execution_count": 35,
   "id": "fb5e3939",
   "metadata": {},
   "outputs": [],
   "source": [
    "write_out_eva('TESTTTTT',aaa1)"
   ]
  },
  {
   "cell_type": "code",
   "execution_count": null,
   "id": "70dee63a",
   "metadata": {},
   "outputs": [],
   "source": []
  },
  {
   "cell_type": "code",
   "execution_count": null,
   "id": "2c7e345e",
   "metadata": {},
   "outputs": [],
   "source": []
  },
  {
   "cell_type": "code",
   "execution_count": null,
   "id": "8d363a1c",
   "metadata": {},
   "outputs": [],
   "source": []
  },
  {
   "cell_type": "code",
   "execution_count": null,
   "id": "5c92a011",
   "metadata": {},
   "outputs": [],
   "source": []
  }
 ],
 "metadata": {
  "kernelspec": {
   "display_name": "Python 3",
   "language": "python",
   "name": "python3"
  },
  "language_info": {
   "codemirror_mode": {
    "name": "ipython",
    "version": 3
   },
   "file_extension": ".py",
   "mimetype": "text/x-python",
   "name": "python",
   "nbconvert_exporter": "python",
   "pygments_lexer": "ipython3",
   "version": "3.7.10"
  }
 },
 "nbformat": 4,
 "nbformat_minor": 5
}
