{
 "cells": [
  {
   "cell_type": "code",
   "execution_count": 1,
   "metadata": {},
   "outputs": [],
   "source": [
    "import time\n",
    "import torch\n",
    "from torch import nn\n",
    "#from torch.optim import Adam\n",
    "from torch.optim import SGD\n",
    "from torchtext.data import Field, BucketIterator\n",
    "from torchtext.datasets import SequenceTaggingDataset"
   ]
  },
  {
   "cell_type": "code",
   "execution_count": 1,
   "metadata": {},
   "outputs": [
    {
     "name": "stdout",
     "output_type": "stream",
     "text": [
      "Collecting ray\n",
      "  Downloading ray-1.8.0-cp38-cp38-win_amd64.whl (18.3 MB)\n",
      "Requirement already satisfied: filelock in c:\\users\\leon\\downloads\\anaconda\\lib\\site-packages (from ray) (3.0.12)\n",
      "Requirement already satisfied: numpy>=1.16 in c:\\users\\leon\\downloads\\anaconda\\lib\\site-packages (from ray) (1.20.1)\n",
      "Requirement already satisfied: attrs in c:\\users\\leon\\downloads\\anaconda\\lib\\site-packages (from ray) (20.3.0)\n",
      "Requirement already satisfied: click>=7.0 in c:\\users\\leon\\downloads\\anaconda\\lib\\site-packages (from ray) (7.1.2)\n",
      "Requirement already satisfied: jsonschema in c:\\users\\leon\\downloads\\anaconda\\lib\\site-packages (from ray) (3.2.0)\n",
      "Collecting grpcio>=1.28.1\n",
      "  Downloading grpcio-1.41.1-cp38-cp38-win_amd64.whl (3.2 MB)\n",
      "Requirement already satisfied: msgpack<2.0.0,>=1.0.0 in c:\\users\\leon\\downloads\\anaconda\\lib\\site-packages (from ray) (1.0.2)\n",
      "Requirement already satisfied: pyyaml in c:\\users\\leon\\downloads\\anaconda\\lib\\site-packages (from ray) (5.4.1)\n",
      "Collecting redis>=3.5.0\n",
      "  Downloading redis-3.5.3-py2.py3-none-any.whl (72 kB)\n",
      "Collecting protobuf>=3.15.3\n",
      "  Downloading protobuf-3.19.1-cp38-cp38-win_amd64.whl (895 kB)\n",
      "Requirement already satisfied: six>=1.5.2 in c:\\users\\leon\\downloads\\anaconda\\lib\\site-packages (from grpcio>=1.28.1->ray) (1.15.0)\n",
      "Requirement already satisfied: pyrsistent>=0.14.0 in c:\\users\\leon\\downloads\\anaconda\\lib\\site-packages (from jsonschema->ray) (0.17.3)\n",
      "Requirement already satisfied: setuptools in c:\\users\\leon\\downloads\\anaconda\\lib\\site-packages (from jsonschema->ray) (52.0.0.post20210125)\n",
      "Installing collected packages: redis, protobuf, grpcio, ray\n",
      "Successfully installed grpcio-1.41.1 protobuf-3.19.1 ray-1.8.0 redis-3.5.3\n"
     ]
    }
   ],
   "source": [
    "! pip install ray "
   ]
  },
  {
   "cell_type": "code",
   "execution_count": 3,
   "metadata": {},
   "outputs": [],
   "source": [
    "#pip install torchtext==0.6.0"
   ]
  },
  {
   "cell_type": "code",
   "execution_count": 4,
   "metadata": {},
   "outputs": [],
   "source": [
    "import csv"
   ]
  },
  {
   "cell_type": "code",
   "execution_count": 5,
   "metadata": {},
   "outputs": [],
   "source": [
    "import pandas as pd\n",
    "\n",
    "import numpy as np \n",
    "\n",
    "data_file = pd.read_csv('./data/train', quoting=csv.QUOTE_NONE,sep=\" \", names= ['index', 'word', 'tag'])"
   ]
  },
  {
   "cell_type": "code",
   "execution_count": 6,
   "metadata": {},
   "outputs": [
    {
     "data": {
      "text/html": [
       "<div>\n",
       "<style scoped>\n",
       "    .dataframe tbody tr th:only-of-type {\n",
       "        vertical-align: middle;\n",
       "    }\n",
       "\n",
       "    .dataframe tbody tr th {\n",
       "        vertical-align: top;\n",
       "    }\n",
       "\n",
       "    .dataframe thead th {\n",
       "        text-align: right;\n",
       "    }\n",
       "</style>\n",
       "<table border=\"1\" class=\"dataframe\">\n",
       "  <thead>\n",
       "    <tr style=\"text-align: right;\">\n",
       "      <th></th>\n",
       "      <th>index</th>\n",
       "      <th>word</th>\n",
       "      <th>tag</th>\n",
       "    </tr>\n",
       "  </thead>\n",
       "  <tbody>\n",
       "    <tr>\n",
       "      <th>0</th>\n",
       "      <td>1</td>\n",
       "      <td>EU</td>\n",
       "      <td>B-ORG</td>\n",
       "    </tr>\n",
       "    <tr>\n",
       "      <th>1</th>\n",
       "      <td>2</td>\n",
       "      <td>rejects</td>\n",
       "      <td>O</td>\n",
       "    </tr>\n",
       "    <tr>\n",
       "      <th>2</th>\n",
       "      <td>3</td>\n",
       "      <td>German</td>\n",
       "      <td>B-MISC</td>\n",
       "    </tr>\n",
       "    <tr>\n",
       "      <th>3</th>\n",
       "      <td>4</td>\n",
       "      <td>call</td>\n",
       "      <td>O</td>\n",
       "    </tr>\n",
       "    <tr>\n",
       "      <th>4</th>\n",
       "      <td>5</td>\n",
       "      <td>to</td>\n",
       "      <td>O</td>\n",
       "    </tr>\n",
       "    <tr>\n",
       "      <th>...</th>\n",
       "      <td>...</td>\n",
       "      <td>...</td>\n",
       "      <td>...</td>\n",
       "    </tr>\n",
       "    <tr>\n",
       "      <th>204562</th>\n",
       "      <td>1</td>\n",
       "      <td>Swansea</td>\n",
       "      <td>B-ORG</td>\n",
       "    </tr>\n",
       "    <tr>\n",
       "      <th>204563</th>\n",
       "      <td>2</td>\n",
       "      <td>1</td>\n",
       "      <td>O</td>\n",
       "    </tr>\n",
       "    <tr>\n",
       "      <th>204564</th>\n",
       "      <td>3</td>\n",
       "      <td>Lincoln</td>\n",
       "      <td>B-ORG</td>\n",
       "    </tr>\n",
       "    <tr>\n",
       "      <th>204565</th>\n",
       "      <td>4</td>\n",
       "      <td>2</td>\n",
       "      <td>O</td>\n",
       "    </tr>\n",
       "    <tr>\n",
       "      <th>204566</th>\n",
       "      <td>1</td>\n",
       "      <td>-DOCSTART-</td>\n",
       "      <td>O</td>\n",
       "    </tr>\n",
       "  </tbody>\n",
       "</table>\n",
       "<p>204567 rows × 3 columns</p>\n",
       "</div>"
      ],
      "text/plain": [
       "        index        word     tag\n",
       "0           1          EU   B-ORG\n",
       "1           2     rejects       O\n",
       "2           3      German  B-MISC\n",
       "3           4        call       O\n",
       "4           5          to       O\n",
       "...       ...         ...     ...\n",
       "204562      1     Swansea   B-ORG\n",
       "204563      2           1       O\n",
       "204564      3     Lincoln   B-ORG\n",
       "204565      4           2       O\n",
       "204566      1  -DOCSTART-       O\n",
       "\n",
       "[204567 rows x 3 columns]"
      ]
     },
     "execution_count": 6,
     "metadata": {},
     "output_type": "execute_result"
    }
   ],
   "source": [
    "data_file"
   ]
  },
  {
   "cell_type": "code",
   "execution_count": 8,
   "metadata": {},
   "outputs": [],
   "source": [
    "# convert \n",
    "data_array = data_file.to_numpy()"
   ]
  },
  {
   "cell_type": "code",
   "execution_count": 9,
   "metadata": {},
   "outputs": [
    {
     "data": {
      "text/plain": [
       "array([[1, 'EU', 'B-ORG'],\n",
       "       [2, 'rejects', 'O'],\n",
       "       [3, 'German', 'B-MISC'],\n",
       "       ...,\n",
       "       [3, 'Lincoln', 'B-ORG'],\n",
       "       [4, '2', 'O'],\n",
       "       [1, '-DOCSTART-', 'O']], dtype=object)"
      ]
     },
     "execution_count": 9,
     "metadata": {},
     "output_type": "execute_result"
    }
   ],
   "source": [
    "data_array"
   ]
  },
  {
   "cell_type": "code",
   "execution_count": 10,
   "metadata": {},
   "outputs": [],
   "source": [
    "### store the lists of sentences into a big list \n",
    " \n",
    "def data_to_stream(data):\n",
    "    data_stream = []\n",
    "    i = 0 \n",
    "    for index, word, tag in data:\n",
    "        if index == 1:\n",
    "            temp = []\n",
    "            temp.append([index,word, tag])\n",
    "            \n",
    "        else:\n",
    "            temp.append([index ,word,tag ])\n",
    "            \n",
    "        if ( (i+1 < len(data)) and data[i+1][0] == 1 ) or (i == len(data)-1):\n",
    "            data_stream.append(temp)\n",
    "        \n",
    "        i += 1\n",
    "            \n",
    "    return data_stream "
   ]
  },
  {
   "cell_type": "code",
   "execution_count": 11,
   "metadata": {},
   "outputs": [],
   "source": [
    "data_stream = data_to_stream(data_array)"
   ]
  },
  {
   "cell_type": "code",
   "execution_count": 12,
   "metadata": {},
   "outputs": [],
   "source": [
    "def write_tsv(file_name, data):\n",
    "    \n",
    "    with open(file_name,'w') as f:\n",
    "        for i in range(len(data)):\n",
    "            if i != 0:\n",
    "                f.write('\\n')\n",
    "            for (index, w, t) in data[i]:\n",
    "                #f.write(str(i))\n",
    "                #f.write('\\t')\n",
    "                f.write(str(w))\n",
    "                f.write('\\t')\n",
    "                f.write(str(t))\n",
    "                f.write('\\n')"
   ]
  },
  {
   "cell_type": "code",
   "execution_count": 13,
   "metadata": {},
   "outputs": [],
   "source": [
    "dev_file = pd.read_csv('./data/dev', quoting=csv.QUOTE_NONE, sep=\" \", names= ['index', 'word', 'tag'])"
   ]
  },
  {
   "cell_type": "code",
   "execution_count": 14,
   "metadata": {},
   "outputs": [],
   "source": [
    "#dev_file\n",
    "# convert \n",
    "dev_array = dev_file.to_numpy()\n",
    "dev_stream = data_to_stream(dev_array)\n"
   ]
  },
  {
   "cell_type": "code",
   "execution_count": 15,
   "metadata": {},
   "outputs": [],
   "source": [
    "write_tsv('train_out.tsv',data_stream)\n",
    "write_tsv('dev_out.tsv',dev_stream)\n"
   ]
  },
  {
   "cell_type": "code",
   "execution_count": 16,
   "metadata": {},
   "outputs": [],
   "source": [
    "words = list(set(data_file[\"word\"].values))\n",
    "tags = list(set(data_file[\"tag\"].values))\n",
    "\n",
    "# Converting words to numbers and numbers to word\n",
    "word2idx = {w: i for i, w in enumerate(words)}\n",
    "tag2idx = {t: i for i, t in enumerate(tags)}\n"
   ]
  },
  {
   "cell_type": "code",
   "execution_count": 76,
   "metadata": {},
   "outputs": [],
   "source": [
    "class Corpus(object):\n",
    "    def __init__(self, input_folder, min_word_freq, batch_size):\n",
    "        # list all the fields\n",
    "        self.word_field = Field()\n",
    "        self.tag_field = Field(unk_token=None)\n",
    "        \n",
    "        # create dataset using built-in parser from torchtext\n",
    "        self.train_dataset, self.val_dataset = SequenceTaggingDataset.splits(\n",
    "            path=input_folder,\n",
    "            train=\"train_out.tsv\",\n",
    "            validation=\"dev_out.tsv\",\n",
    "            fields=((\"word\", self.word_field), (\"tag\", self.tag_field))\n",
    "        )\n",
    "        # convert fields to vocabulary list\n",
    "        self.word_field.build_vocab(self.train_dataset, min_freq=min_word_freq)\n",
    "        self.tag_field.build_vocab(self.train_dataset)\n",
    "        # create iterator for batch input\n",
    "        self.train_iter, self.val_iter = BucketIterator.splits(\n",
    "            datasets=(self.train_dataset, self.val_dataset),\n",
    "            batch_size=batch_size\n",
    "        )\n",
    "        # prepare padding index to be ignored during model training/evaluation\n",
    "        self.word_pad_idx = self.word_field.vocab.stoi[self.word_field.pad_token]\n",
    "        self.tag_pad_idx = self.tag_field.vocab.stoi[self.tag_field.pad_token]"
   ]
  },
  {
   "cell_type": "code",
   "execution_count": 77,
   "metadata": {},
   "outputs": [],
   "source": [
    "corpus = Corpus(\n",
    "    input_folder=\".\",\n",
    "    min_word_freq=3,  # any words occurring less than 3 times will be ignored from vocab\n",
    "    batch_size=32\n",
    ")"
   ]
  },
  {
   "cell_type": "code",
   "execution_count": 78,
   "metadata": {},
   "outputs": [
    {
     "name": "stdout",
     "output_type": "stream",
     "text": [
      "Train set: 14987 sentences\n",
      "dev set: 3466 sentences\n"
     ]
    }
   ],
   "source": [
    "print(f\"Train set: {len(corpus.train_dataset)} sentences\")\n",
    "print(f\"dev set: {len(corpus.val_dataset)} sentences\")\n",
    "#print(vars(pos_dataset.examples[0]))"
   ]
  },
  {
   "cell_type": "code",
   "execution_count": 79,
   "metadata": {},
   "outputs": [],
   "source": [
    "class BiLSTM(nn.Module):\n",
    "    def __init__(self, input_dim,embedding_dim, hidden_dim, output_dim,n_layers, bidirectional,dropout, pad_idx):\n",
    "        \n",
    "        super().__init__()   \n",
    "        self.embedding = nn.Embedding(input_dim, embedding_dim, padding_idx = pad_idx)\n",
    "        self.lstm = nn.LSTM(embedding_dim, \n",
    "                            hidden_dim, \n",
    "                            num_layers = n_layers, \n",
    "                            bidirectional = bidirectional,\n",
    "                            dropout = dropout if n_layers > 1 else 0)\n",
    "        \n",
    "        self.fc = nn.Linear(hidden_dim * 2, output_dim)\n",
    "        \n",
    "        self.dropout = nn.Dropout(dropout)\n",
    "        \n",
    "        self.elu = nn.ELU()\n",
    "        \n",
    "    def forward(self, text):\n",
    "        #pass text through embedding layer\n",
    "        embedded = self.dropout(self.embedding(text))\n",
    "        \n",
    "        #pass embeddings into LSTM\n",
    "        outputs, (hidden, cell) = self.lstm(embedded)\n",
    "        \n",
    "        #we use our outputs to make a prediction of what the tag should be\n",
    "        outputs = self.elu(outputs)\n",
    "        outputs = self.fc(self.dropout(outputs))\n",
    "        return outputs"
   ]
  },
  {
   "cell_type": "code",
   "execution_count": 80,
   "metadata": {},
   "outputs": [],
   "source": [
    "INPUT_DIM = len(corpus.word_field.vocab)\n",
    "EMBEDDING_DIM = 100\n",
    "HIDDEN_DIM = 256\n",
    "OUTPUT_DIM = 128\n",
    "N_LAYERS = 1\n",
    "BIDIRECTIONAL = True\n",
    "DROPOUT = 0.33\n",
    "PAD_IDX = corpus.word_pad_idx\n",
    "\n",
    "model = BiLSTM(INPUT_DIM, \n",
    "               EMBEDDING_DIM, \n",
    "               HIDDEN_DIM, \n",
    "               OUTPUT_DIM, \n",
    "               N_LAYERS, \n",
    "               BIDIRECTIONAL, \n",
    "               DROPOUT, \n",
    "               PAD_IDX)"
   ]
  },
  {
   "cell_type": "code",
   "execution_count": 81,
   "metadata": {},
   "outputs": [],
   "source": [
    "def init_weights(m):\n",
    "    for name, param in m.named_parameters():\n",
    "        nn.init.normal_(param.data, mean = 0, std = 0.1)"
   ]
  },
  {
   "cell_type": "code",
   "execution_count": 82,
   "metadata": {},
   "outputs": [
    {
     "data": {
      "text/plain": [
       "BiLSTM(\n",
       "  (embedding): Embedding(8129, 100, padding_idx=1)\n",
       "  (lstm): LSTM(100, 256, bidirectional=True)\n",
       "  (fc): Linear(in_features=512, out_features=128, bias=True)\n",
       "  (dropout): Dropout(p=0.33, inplace=False)\n",
       "  (elu): ELU(alpha=1.0)\n",
       ")"
      ]
     },
     "execution_count": 82,
     "metadata": {},
     "output_type": "execute_result"
    }
   ],
   "source": [
    "model.apply(init_weights)"
   ]
  },
  {
   "cell_type": "code",
   "execution_count": 83,
   "metadata": {},
   "outputs": [
    {
     "data": {
      "text/plain": [
       "BiLSTM(\n",
       "  (embedding): Embedding(8129, 100, padding_idx=1)\n",
       "  (lstm): LSTM(100, 256, bidirectional=True)\n",
       "  (fc): Linear(in_features=512, out_features=128, bias=True)\n",
       "  (dropout): Dropout(p=0.33, inplace=False)\n",
       "  (elu): ELU(alpha=1.0)\n",
       ")"
      ]
     },
     "execution_count": 83,
     "metadata": {},
     "output_type": "execute_result"
    }
   ],
   "source": [
    "device = torch.device('cuda:0')\n",
    "model.to(device)"
   ]
  },
  {
   "cell_type": "code",
   "execution_count": 84,
   "metadata": {},
   "outputs": [],
   "source": [
    "model.embedding.weight.data[PAD_IDX] = torch.zeros(EMBEDDING_DIM)"
   ]
  },
  {
   "cell_type": "code",
   "execution_count": 85,
   "metadata": {},
   "outputs": [],
   "source": [
    "### define optimizer fuction \n",
    "optimizer = SGD(model.parameters(), lr=0.05)"
   ]
  },
  {
   "cell_type": "code",
   "execution_count": 86,
   "metadata": {},
   "outputs": [],
   "source": [
    "scheduler = torch.optim.lr_scheduler.CyclicLR(optimizer, base_lr=0.001, max_lr=0.1,step_size_up=5,mode=\"exp_range\",gamma=0.85)\n",
    "#lrs = []"
   ]
  },
  {
   "cell_type": "code",
   "execution_count": 87,
   "metadata": {},
   "outputs": [],
   "source": [
    "### define loss function \n",
    "TAG_PAD_IDX = corpus.tag_field.vocab.stoi[corpus.tag_field.pad_token]\n",
    "\n",
    "criterion = nn.CrossEntropyLoss(ignore_index = TAG_PAD_IDX)\n",
    "\n",
    "criterion = criterion"
   ]
  },
  {
   "cell_type": "code",
   "execution_count": 88,
   "metadata": {},
   "outputs": [],
   "source": [
    "### train the model \n",
    "def train(model, iterator, optimizer, criterion, tag_pad_idx):\n",
    "    \n",
    "    epoch_loss = 0\n",
    "    epoch_acc = 0\n",
    "    \n",
    "    model.train()\n",
    "    \n",
    "    for batch in iterator:\n",
    "        \n",
    "        text = batch.word.cuda()\n",
    "        tags = batch.tag.cuda()\n",
    "        \n",
    "        optimizer.zero_grad()\n",
    "        \n",
    "        predictions = model(text)\n",
    "        \n",
    "        predictions = predictions.view(-1, predictions.shape[-1])\n",
    "        tags = tags.view(-1)\n",
    "\n",
    "        loss = criterion(predictions, tags)\n",
    "                \n",
    "        acc = categorical_accuracy(predictions, tags, tag_pad_idx)\n",
    "        \n",
    "        loss.backward()\n",
    "        \n",
    "        optimizer.step()\n",
    "        scheduler.step()\n",
    "        \n",
    "        epoch_loss += loss.item()\n",
    "        epoch_acc += acc.item()\n",
    "        \n",
    "    return epoch_loss / len(iterator), epoch_acc / len(iterator)"
   ]
  },
  {
   "cell_type": "code",
   "execution_count": 89,
   "metadata": {},
   "outputs": [],
   "source": [
    "def evaluate(model, iterator, criterion, tag_pad_idx):\n",
    "    \n",
    "    epoch_loss = 0\n",
    "    epoch_acc = 0\n",
    "    \n",
    "    model.eval()\n",
    "    \n",
    "    with torch.no_grad():\n",
    "    \n",
    "        for batch in iterator:\n",
    "\n",
    "            text = batch.word\n",
    "            text= text.cuda()\n",
    "            tags = batch.tag\n",
    "            tags = tags.cuda()\n",
    "            predictions = model(text)\n",
    "            \n",
    "            predictions = predictions.view(-1, predictions.shape[-1])\n",
    "            tags = tags.view(-1)\n",
    "            \n",
    "            loss = criterion(predictions, tags)\n",
    "            \n",
    "            acc = categorical_accuracy(predictions, tags, tag_pad_idx)\n",
    "\n",
    "            epoch_loss += loss.item()\n",
    "            epoch_acc += acc.item()\n",
    "        \n",
    "    return epoch_loss / len(iterator), epoch_acc / len(iterator)"
   ]
  },
  {
   "cell_type": "code",
   "execution_count": 90,
   "metadata": {},
   "outputs": [],
   "source": [
    "def epoch_time(start_time, end_time):\n",
    "    elapsed_time = end_time - start_time\n",
    "    elapsed_mins = int(elapsed_time / 60)\n",
    "    elapsed_secs = int(elapsed_time - (elapsed_mins * 60))\n",
    "    return elapsed_mins, elapsed_secs\n",
    "def categorical_accuracy(preds, y, tag_pad_idx):\n",
    "    max_preds = preds.argmax(dim = 1, keepdim = True) # get the index of the max probability\n",
    "    non_pad_elements = (y != tag_pad_idx).nonzero()\n",
    "    correct = max_preds[non_pad_elements].squeeze(1).eq(y[non_pad_elements])\n",
    "    return correct.sum() / y[non_pad_elements].shape[0]"
   ]
  },
  {
   "cell_type": "code",
   "execution_count": null,
   "metadata": {},
   "outputs": [],
   "source": [
    "config = {\n",
    "    \"l1\": tune.sample_from(lambda _: 2**np.random.randint(2, 9)),\n",
    "    \"l2\": tune.sample_from(lambda _: 2**np.random.randint(2, 9)),\n",
    "    \"lr\": tune.loguniform(1e-4, 1e-1),\n",
    "    \"batch_size\": tune.choice([2, 4, 8, 16])\n",
    "}"
   ]
  },
  {
   "cell_type": "code",
   "execution_count": 91,
   "metadata": {},
   "outputs": [
    {
     "name": "stdout",
     "output_type": "stream",
     "text": [
      "Epoch: 01 | Epoch Time: 0m 7s\n",
      "\tTrain Loss: 1.066 | Train Acc: 82.70%\n",
      "\t Val. Loss: 1.479 |  Val. Acc: 78.46%\n",
      "Epoch: 02 | Epoch Time: 0m 7s\n",
      "\tTrain Loss: 0.850 | Train Acc: 83.21%\n",
      "\t Val. Loss: 1.378 |  Val. Acc: 78.46%\n",
      "Epoch: 03 | Epoch Time: 0m 7s\n",
      "\tTrain Loss: 0.810 | Train Acc: 83.21%\n",
      "\t Val. Loss: 1.337 |  Val. Acc: 78.46%\n",
      "Epoch: 04 | Epoch Time: 0m 8s\n",
      "\tTrain Loss: 0.794 | Train Acc: 83.21%\n",
      "\t Val. Loss: 1.312 |  Val. Acc: 78.46%\n",
      "Epoch: 05 | Epoch Time: 0m 7s\n",
      "\tTrain Loss: 0.783 | Train Acc: 83.21%\n",
      "\t Val. Loss: 1.295 |  Val. Acc: 78.46%\n",
      "Epoch: 06 | Epoch Time: 0m 7s\n",
      "\tTrain Loss: 0.776 | Train Acc: 83.20%\n",
      "\t Val. Loss: 1.279 |  Val. Acc: 78.46%\n",
      "Epoch: 07 | Epoch Time: 0m 7s\n",
      "\tTrain Loss: 0.770 | Train Acc: 83.22%\n",
      "\t Val. Loss: 1.268 |  Val. Acc: 78.46%\n",
      "Epoch: 08 | Epoch Time: 0m 7s\n",
      "\tTrain Loss: 0.766 | Train Acc: 83.19%\n",
      "\t Val. Loss: 1.255 |  Val. Acc: 78.46%\n",
      "Epoch: 09 | Epoch Time: 0m 7s\n",
      "\tTrain Loss: 0.761 | Train Acc: 83.23%\n",
      "\t Val. Loss: 1.246 |  Val. Acc: 78.46%\n",
      "Epoch: 10 | Epoch Time: 0m 7s\n",
      "\tTrain Loss: 0.758 | Train Acc: 83.20%\n",
      "\t Val. Loss: 1.238 |  Val. Acc: 78.46%\n",
      "Epoch: 11 | Epoch Time: 0m 7s\n",
      "\tTrain Loss: 0.752 | Train Acc: 83.28%\n",
      "\t Val. Loss: 1.228 |  Val. Acc: 78.46%\n",
      "Epoch: 12 | Epoch Time: 0m 7s\n",
      "\tTrain Loss: 0.751 | Train Acc: 83.23%\n",
      "\t Val. Loss: 1.220 |  Val. Acc: 78.46%\n",
      "Epoch: 13 | Epoch Time: 0m 7s\n",
      "\tTrain Loss: 0.747 | Train Acc: 83.23%\n",
      "\t Val. Loss: 1.214 |  Val. Acc: 78.46%\n",
      "Epoch: 14 | Epoch Time: 0m 7s\n",
      "\tTrain Loss: 0.745 | Train Acc: 83.21%\n",
      "\t Val. Loss: 1.206 |  Val. Acc: 78.46%\n",
      "Epoch: 15 | Epoch Time: 0m 7s\n",
      "\tTrain Loss: 0.741 | Train Acc: 83.24%\n",
      "\t Val. Loss: 1.197 |  Val. Acc: 78.46%\n",
      "Epoch: 16 | Epoch Time: 0m 7s\n",
      "\tTrain Loss: 0.738 | Train Acc: 83.23%\n",
      "\t Val. Loss: 1.192 |  Val. Acc: 78.46%\n",
      "Epoch: 17 | Epoch Time: 0m 7s\n",
      "\tTrain Loss: 0.735 | Train Acc: 83.21%\n",
      "\t Val. Loss: 1.183 |  Val. Acc: 78.46%\n",
      "Epoch: 18 | Epoch Time: 0m 7s\n",
      "\tTrain Loss: 0.733 | Train Acc: 83.21%\n",
      "\t Val. Loss: 1.177 |  Val. Acc: 78.46%\n",
      "Epoch: 19 | Epoch Time: 0m 7s\n",
      "\tTrain Loss: 0.730 | Train Acc: 83.19%\n",
      "\t Val. Loss: 1.168 |  Val. Acc: 78.46%\n",
      "Epoch: 20 | Epoch Time: 0m 7s\n",
      "\tTrain Loss: 0.726 | Train Acc: 83.23%\n",
      "\t Val. Loss: 1.161 |  Val. Acc: 78.46%\n",
      "Epoch: 21 | Epoch Time: 0m 7s\n",
      "\tTrain Loss: 0.723 | Train Acc: 83.24%\n",
      "\t Val. Loss: 1.155 |  Val. Acc: 78.46%\n",
      "Epoch: 22 | Epoch Time: 0m 7s\n",
      "\tTrain Loss: 0.719 | Train Acc: 83.25%\n",
      "\t Val. Loss: 1.147 |  Val. Acc: 78.47%\n",
      "Epoch: 23 | Epoch Time: 0m 7s\n",
      "\tTrain Loss: 0.716 | Train Acc: 83.29%\n",
      "\t Val. Loss: 1.139 |  Val. Acc: 78.47%\n",
      "Epoch: 24 | Epoch Time: 0m 7s\n",
      "\tTrain Loss: 0.714 | Train Acc: 83.24%\n",
      "\t Val. Loss: 1.132 |  Val. Acc: 78.47%\n",
      "Epoch: 25 | Epoch Time: 0m 7s\n",
      "\tTrain Loss: 0.710 | Train Acc: 83.30%\n",
      "\t Val. Loss: 1.125 |  Val. Acc: 78.48%\n",
      "Epoch: 26 | Epoch Time: 0m 7s\n",
      "\tTrain Loss: 0.708 | Train Acc: 83.33%\n",
      "\t Val. Loss: 1.117 |  Val. Acc: 78.48%\n",
      "Epoch: 27 | Epoch Time: 0m 7s\n",
      "\tTrain Loss: 0.705 | Train Acc: 83.32%\n",
      "\t Val. Loss: 1.109 |  Val. Acc: 78.48%\n",
      "Epoch: 28 | Epoch Time: 0m 7s\n",
      "\tTrain Loss: 0.701 | Train Acc: 83.34%\n",
      "\t Val. Loss: 1.103 |  Val. Acc: 78.49%\n",
      "Epoch: 29 | Epoch Time: 0m 8s\n",
      "\tTrain Loss: 0.699 | Train Acc: 83.36%\n",
      "\t Val. Loss: 1.095 |  Val. Acc: 78.51%\n",
      "Epoch: 30 | Epoch Time: 0m 7s\n",
      "\tTrain Loss: 0.696 | Train Acc: 83.36%\n",
      "\t Val. Loss: 1.088 |  Val. Acc: 78.52%\n",
      "Epoch: 31 | Epoch Time: 0m 7s\n",
      "\tTrain Loss: 0.692 | Train Acc: 83.41%\n",
      "\t Val. Loss: 1.081 |  Val. Acc: 78.52%\n",
      "Epoch: 32 | Epoch Time: 0m 7s\n",
      "\tTrain Loss: 0.687 | Train Acc: 83.42%\n",
      "\t Val. Loss: 1.072 |  Val. Acc: 78.55%\n",
      "Epoch: 33 | Epoch Time: 0m 7s\n",
      "\tTrain Loss: 0.684 | Train Acc: 83.45%\n",
      "\t Val. Loss: 1.065 |  Val. Acc: 78.57%\n",
      "Epoch: 34 | Epoch Time: 0m 7s\n",
      "\tTrain Loss: 0.681 | Train Acc: 83.47%\n",
      "\t Val. Loss: 1.057 |  Val. Acc: 78.58%\n",
      "Epoch: 35 | Epoch Time: 0m 7s\n",
      "\tTrain Loss: 0.676 | Train Acc: 83.51%\n",
      "\t Val. Loss: 1.048 |  Val. Acc: 78.59%\n",
      "Epoch: 36 | Epoch Time: 0m 7s\n",
      "\tTrain Loss: 0.673 | Train Acc: 83.49%\n",
      "\t Val. Loss: 1.041 |  Val. Acc: 78.64%\n",
      "Epoch: 37 | Epoch Time: 0m 7s\n",
      "\tTrain Loss: 0.668 | Train Acc: 83.60%\n",
      "\t Val. Loss: 1.032 |  Val. Acc: 78.63%\n",
      "Epoch: 38 | Epoch Time: 0m 7s\n",
      "\tTrain Loss: 0.663 | Train Acc: 83.62%\n",
      "\t Val. Loss: 1.024 |  Val. Acc: 78.65%\n",
      "Epoch: 39 | Epoch Time: 0m 8s\n",
      "\tTrain Loss: 0.660 | Train Acc: 83.63%\n",
      "\t Val. Loss: 1.017 |  Val. Acc: 78.67%\n",
      "Epoch: 40 | Epoch Time: 0m 7s\n",
      "\tTrain Loss: 0.656 | Train Acc: 83.70%\n",
      "\t Val. Loss: 1.009 |  Val. Acc: 78.73%\n",
      "Epoch: 41 | Epoch Time: 0m 8s\n",
      "\tTrain Loss: 0.652 | Train Acc: 83.74%\n",
      "\t Val. Loss: 1.001 |  Val. Acc: 78.71%\n",
      "Epoch: 42 | Epoch Time: 0m 7s\n",
      "\tTrain Loss: 0.649 | Train Acc: 83.78%\n",
      "\t Val. Loss: 0.993 |  Val. Acc: 78.77%\n",
      "Epoch: 43 | Epoch Time: 0m 7s\n",
      "\tTrain Loss: 0.643 | Train Acc: 83.85%\n",
      "\t Val. Loss: 0.985 |  Val. Acc: 78.81%\n",
      "Epoch: 44 | Epoch Time: 0m 7s\n",
      "\tTrain Loss: 0.638 | Train Acc: 83.93%\n",
      "\t Val. Loss: 0.977 |  Val. Acc: 78.78%\n",
      "Epoch: 45 | Epoch Time: 0m 7s\n",
      "\tTrain Loss: 0.636 | Train Acc: 84.00%\n",
      "\t Val. Loss: 0.971 |  Val. Acc: 78.80%\n",
      "Epoch: 46 | Epoch Time: 0m 7s\n",
      "\tTrain Loss: 0.633 | Train Acc: 84.00%\n",
      "\t Val. Loss: 0.964 |  Val. Acc: 78.95%\n",
      "Epoch: 47 | Epoch Time: 0m 7s\n",
      "\tTrain Loss: 0.627 | Train Acc: 84.12%\n",
      "\t Val. Loss: 0.956 |  Val. Acc: 78.98%\n",
      "Epoch: 48 | Epoch Time: 0m 7s\n",
      "\tTrain Loss: 0.625 | Train Acc: 84.16%\n",
      "\t Val. Loss: 0.949 |  Val. Acc: 79.11%\n",
      "Epoch: 49 | Epoch Time: 0m 7s\n",
      "\tTrain Loss: 0.619 | Train Acc: 84.28%\n",
      "\t Val. Loss: 0.943 |  Val. Acc: 79.23%\n",
      "Epoch: 50 | Epoch Time: 0m 7s\n",
      "\tTrain Loss: 0.615 | Train Acc: 84.37%\n",
      "\t Val. Loss: 0.934 |  Val. Acc: 79.13%\n"
     ]
    }
   ],
   "source": [
    "N_EPOCHS = 50\n",
    "\n",
    "best_valid_loss = float('inf')\n",
    "\n",
    "for epoch in range(N_EPOCHS):\n",
    "\n",
    "    start_time = time.time()\n",
    "\n",
    "    train_loss, train_acc = train(model, corpus.train_iter, optimizer, criterion, TAG_PAD_IDX)\n",
    "    valid_loss, valid_acc = evaluate(model, corpus.val_iter, criterion, TAG_PAD_IDX)\n",
    "    \n",
    "    end_time = time.time()\n",
    "\n",
    "    epoch_mins, epoch_secs = epoch_time(start_time, end_time)\n",
    "    ### save the model \n",
    "    if valid_loss < best_valid_loss:\n",
    "        best_valid_loss = valid_loss\n",
    "        torch.save(model.state_dict(), 'blstm1.pt.pt')\n",
    "    \n",
    "    print(f'Epoch: {epoch+1:02} | Epoch Time: {epoch_mins}m {epoch_secs}s')\n",
    "    print(f'\\tTrain Loss: {train_loss:.3f} | Train Acc: {train_acc*100:.2f}%')\n",
    "    print(f'\\t Val. Loss: {valid_loss:.3f} |  Val. Acc: {valid_acc*100:.2f}%')"
   ]
  },
  {
   "cell_type": "code",
   "execution_count": 92,
   "metadata": {},
   "outputs": [],
   "source": [
    "#model.load_state_dict(torch.load('blstm1.pt'))\n",
    "# create the dev file sentences and actual tags list \n",
    "dev_sentences = []\n",
    "dev_actual_tags = []\n",
    "for i in range(len(corpus.val_dataset)):\n",
    "    \n",
    "    sentence_words = vars(corpus.val_dataset[i])['word']\n",
    "    dev_sentences.append(sentence_words)\n",
    "    actual_tag = vars(corpus.val_dataset[i])['tag']\n",
    "    dev_actual_tags.append(actual_tag)\n"
   ]
  },
  {
   "cell_type": "code",
   "execution_count": 43,
   "metadata": {},
   "outputs": [],
   "source": [
    "def tag_sentence(model, sentence, text_field, tag_field):\n",
    "    \n",
    "    model.eval()\n",
    "  \n",
    "    tokens = sentence\n",
    "    # convert the word into index \n",
    "    numericalized_tokens = [text_field.vocab.stoi[t] for t in tokens]\n",
    "    # get the index of unkonwn word if have \n",
    "    unk_idx = text_field.vocab.stoi[text_field.unk_token]\n",
    "    # get the unknown word  \n",
    "    unks = [t for t, n in zip(tokens, numericalized_tokens) if n == unk_idx]\n",
    "    ## convert it into tensor \n",
    "    token_tensor = torch.LongTensor(numericalized_tokens)\n",
    "    \n",
    "    token_tensor = token_tensor.unsqueeze(-1)\n",
    "     # use the model to predict     \n",
    "    predictions = model(token_tensor)\n",
    "    \n",
    "    top_predictions = predictions.argmax(-1)\n",
    "    \n",
    "    predicted_tags = [tag_field.vocab.itos[t.item()] for t in top_predictions]\n",
    "    \n",
    "    return predicted_tags"
   ]
  },
  {
   "cell_type": "code",
   "execution_count": 45,
   "metadata": {},
   "outputs": [
    {
     "data": {
      "text/plain": [
       "BiLSTM(\n",
       "  (embedding): Embedding(7519, 100, padding_idx=1)\n",
       "  (lstm): LSTM(100, 256, bidirectional=True)\n",
       "  (fc): Linear(in_features=512, out_features=128, bias=True)\n",
       "  (dropout): Dropout(p=0.33, inplace=False)\n",
       "  (elu): ELU(alpha=1.0)\n",
       ")"
      ]
     },
     "execution_count": 45,
     "metadata": {},
     "output_type": "execute_result"
    }
   ],
   "source": [
    "## test on CPU \n",
    "device = torch.device(\"cpu\")\n",
    "model.to(device)"
   ]
  },
  {
   "cell_type": "code",
   "execution_count": 46,
   "metadata": {},
   "outputs": [],
   "source": [
    "##create the nested list which contain the predicted tagas using our model \n",
    "whole_pred_tags = []\n",
    "\n",
    "for s in dev_sentences:\n",
    "    \n",
    "    pred_tags = tag_sentence(model, s, corpus.word_field, corpus.tag_field)\n",
    "    \n",
    "    whole_pred_tags.append(pred_tags)\n",
    "     "
   ]
  },
  {
   "cell_type": "code",
   "execution_count": 47,
   "metadata": {},
   "outputs": [],
   "source": [
    "def flatten(t):\n",
    "    return [item for sublist in t for item in sublist]"
   ]
  },
  {
   "cell_type": "code",
   "execution_count": 48,
   "metadata": {},
   "outputs": [],
   "source": [
    "# flattenn the nested list \n",
    "whole_pred_tags_f = flatten(whole_pred_tags)\n",
    "dev_actual_tags_f = flatten(dev_actual_tags)"
   ]
  },
  {
   "cell_type": "code",
   "execution_count": 49,
   "metadata": {},
   "outputs": [
    {
     "name": "stdout",
     "output_type": "stream",
     "text": [
      "              precision    recall  f1-score   support\n",
      "\n",
      "       B-LOC       0.79      0.75      0.77      1837\n",
      "      B-MISC       0.74      0.58      0.65       922\n",
      "       B-ORG       0.77      0.39      0.52      1341\n",
      "       B-PER       0.87      0.63      0.73      1842\n",
      "       I-LOC       0.82      0.52      0.64       257\n",
      "      I-MISC       0.78      0.27      0.40       346\n",
      "       I-ORG       0.58      0.44      0.50       751\n",
      "       I-PER       0.71      0.75      0.73      1307\n",
      "           O       0.95      0.99      0.97     42975\n",
      "\n",
      "    accuracy                           0.92     51578\n",
      "   macro avg       0.78      0.59      0.66     51578\n",
      "weighted avg       0.92      0.92      0.92     51578\n",
      "\n"
     ]
    }
   ],
   "source": [
    "from sklearn.metrics import classification_report\n",
    "print(classification_report(dev_actual_tags_f, whole_pred_tags_f))"
   ]
  },
  {
   "cell_type": "code",
   "execution_count": 55,
   "metadata": {},
   "outputs": [],
   "source": [
    "### to write the output file \n",
    "import pandas as pd\n",
    "\n",
    "import numpy as np \n",
    "import csv\n",
    "dev_file = pd.read_csv('./data/dev', quoting=csv.QUOTE_NONE, sep=\" \", names= ['index', 'word', 'tag'])\n",
    "\n",
    "# convert \n",
    "dev_array = dev_file.to_numpy()\n",
    "dev_stream = data_to_stream(dev_array)\n",
    "\n",
    "#### write the output file with predited tags \n",
    "import copy\n",
    "dev_data_list = copy.deepcopy(dev_stream)\n",
    "for i in range(len(whole_pred_tags)):\n",
    "    for i1 in range(len(whole_pred_tags[i])):\n",
    "        #dev_data_list[i][i1].pop() # pop the actual tag \n",
    "        dev_data_list[i][i1].append(whole_pred_tags[i][i1])"
   ]
  },
  {
   "cell_type": "code",
   "execution_count": 59,
   "metadata": {},
   "outputs": [],
   "source": [
    "def write_out_evl(file_name, data):\n",
    "    \n",
    "    with open(file_name,'w') as f:\n",
    "        for i in range(len(data)):\n",
    "            for (index, w, t1,t2) in data[i]:\n",
    "                f.write(str(index))\n",
    "                f.write(' ')\n",
    "                f.write(str(w))\n",
    "                f.write(' ')\n",
    "                f.write(str(t1))\n",
    "                f.write(' ')\n",
    "                f.write(str(t2))\n",
    "                f.write(\"\\n\")\n",
    "                "
   ]
  },
  {
   "cell_type": "code",
   "execution_count": 60,
   "metadata": {},
   "outputs": [],
   "source": [
    "write_out_evl('dev_output_test',dev_data_list)"
   ]
  },
  {
   "cell_type": "code",
   "execution_count": 62,
   "metadata": {},
   "outputs": [],
   "source": [
    "#dev_data_list"
   ]
  },
  {
   "cell_type": "code",
   "execution_count": null,
   "metadata": {},
   "outputs": [],
   "source": []
  }
 ],
 "metadata": {
  "kernelspec": {
   "display_name": "Python 3",
   "language": "python",
   "name": "python3"
  },
  "language_info": {
   "codemirror_mode": {
    "name": "ipython",
    "version": 3
   },
   "file_extension": ".py",
   "mimetype": "text/x-python",
   "name": "python",
   "nbconvert_exporter": "python",
   "pygments_lexer": "ipython3",
   "version": "3.8.8"
  }
 },
 "nbformat": 4,
 "nbformat_minor": 2
}
