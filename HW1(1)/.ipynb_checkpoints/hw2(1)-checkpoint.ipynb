{
 "cells": [
  {
   "cell_type": "code",
   "execution_count": 1,
   "id": "142c9763",
   "metadata": {},
   "outputs": [],
   "source": [
    "import pandas as pd\n",
    "import numpy as np\n",
    "import copy\n",
    "import re"
   ]
  },
  {
   "cell_type": "code",
   "execution_count": 2,
   "id": "359fcf1d",
   "metadata": {
    "scrolled": false
   },
   "outputs": [
    {
     "name": "stderr",
     "output_type": "stream",
     "text": [
      "b'Skipping line 16148: expected 15 fields, saw 22\\nSkipping line 20100: expected 15 fields, saw 22\\nSkipping line 45178: expected 15 fields, saw 22\\nSkipping line 48700: expected 15 fields, saw 22\\nSkipping line 63331: expected 15 fields, saw 22\\n'\n",
      "b'Skipping line 86053: expected 15 fields, saw 22\\nSkipping line 88858: expected 15 fields, saw 22\\nSkipping line 115017: expected 15 fields, saw 22\\n'\n",
      "b'Skipping line 137366: expected 15 fields, saw 22\\nSkipping line 139110: expected 15 fields, saw 22\\nSkipping line 165540: expected 15 fields, saw 22\\nSkipping line 171813: expected 15 fields, saw 22\\n'\n",
      "b'Skipping line 203723: expected 15 fields, saw 22\\nSkipping line 209366: expected 15 fields, saw 22\\nSkipping line 211310: expected 15 fields, saw 22\\nSkipping line 246351: expected 15 fields, saw 22\\nSkipping line 252364: expected 15 fields, saw 22\\n'\n",
      "b'Skipping line 267003: expected 15 fields, saw 22\\nSkipping line 268957: expected 15 fields, saw 22\\nSkipping line 303336: expected 15 fields, saw 22\\nSkipping line 306021: expected 15 fields, saw 22\\nSkipping line 311569: expected 15 fields, saw 22\\nSkipping line 316767: expected 15 fields, saw 22\\nSkipping line 324009: expected 15 fields, saw 22\\n'\n",
      "b'Skipping line 359107: expected 15 fields, saw 22\\nSkipping line 368367: expected 15 fields, saw 22\\nSkipping line 381180: expected 15 fields, saw 22\\nSkipping line 390453: expected 15 fields, saw 22\\n'\n",
      "b'Skipping line 412243: expected 15 fields, saw 22\\nSkipping line 419342: expected 15 fields, saw 22\\nSkipping line 457388: expected 15 fields, saw 22\\n'\n",
      "b'Skipping line 459935: expected 15 fields, saw 22\\nSkipping line 460167: expected 15 fields, saw 22\\nSkipping line 466460: expected 15 fields, saw 22\\nSkipping line 500314: expected 15 fields, saw 22\\nSkipping line 500339: expected 15 fields, saw 22\\nSkipping line 505396: expected 15 fields, saw 22\\nSkipping line 507760: expected 15 fields, saw 22\\nSkipping line 513626: expected 15 fields, saw 22\\n'\n",
      "b'Skipping line 527638: expected 15 fields, saw 22\\nSkipping line 534209: expected 15 fields, saw 22\\nSkipping line 535687: expected 15 fields, saw 22\\nSkipping line 547671: expected 15 fields, saw 22\\nSkipping line 549054: expected 15 fields, saw 22\\n'\n",
      "b'Skipping line 599929: expected 15 fields, saw 22\\nSkipping line 604776: expected 15 fields, saw 22\\nSkipping line 609937: expected 15 fields, saw 22\\nSkipping line 632059: expected 15 fields, saw 22\\nSkipping line 638546: expected 15 fields, saw 22\\n'\n",
      "b'Skipping line 665017: expected 15 fields, saw 22\\nSkipping line 677680: expected 15 fields, saw 22\\nSkipping line 684370: expected 15 fields, saw 22\\nSkipping line 720217: expected 15 fields, saw 29\\n'\n",
      "b'Skipping line 723240: expected 15 fields, saw 22\\nSkipping line 723433: expected 15 fields, saw 22\\nSkipping line 763891: expected 15 fields, saw 22\\n'\n",
      "b'Skipping line 800288: expected 15 fields, saw 22\\nSkipping line 802942: expected 15 fields, saw 22\\nSkipping line 803379: expected 15 fields, saw 22\\nSkipping line 805122: expected 15 fields, saw 22\\nSkipping line 821899: expected 15 fields, saw 22\\nSkipping line 831707: expected 15 fields, saw 22\\nSkipping line 842829: expected 15 fields, saw 22\\nSkipping line 843604: expected 15 fields, saw 22\\n'\n",
      "b'Skipping line 863904: expected 15 fields, saw 22\\nSkipping line 875655: expected 15 fields, saw 22\\nSkipping line 886796: expected 15 fields, saw 22\\nSkipping line 892299: expected 15 fields, saw 22\\nSkipping line 902518: expected 15 fields, saw 22\\nSkipping line 903079: expected 15 fields, saw 22\\nSkipping line 912678: expected 15 fields, saw 22\\n'\n",
      "b'Skipping line 932953: expected 15 fields, saw 22\\nSkipping line 936838: expected 15 fields, saw 22\\nSkipping line 937177: expected 15 fields, saw 22\\nSkipping line 947695: expected 15 fields, saw 22\\nSkipping line 960713: expected 15 fields, saw 22\\nSkipping line 965225: expected 15 fields, saw 22\\nSkipping line 980776: expected 15 fields, saw 22\\n'\n",
      "b'Skipping line 999318: expected 15 fields, saw 22\\nSkipping line 1007247: expected 15 fields, saw 22\\nSkipping line 1015987: expected 15 fields, saw 22\\nSkipping line 1018984: expected 15 fields, saw 22\\nSkipping line 1028671: expected 15 fields, saw 22\\n'\n",
      "b'Skipping line 1063360: expected 15 fields, saw 22\\nSkipping line 1066195: expected 15 fields, saw 22\\nSkipping line 1066578: expected 15 fields, saw 22\\nSkipping line 1066869: expected 15 fields, saw 22\\nSkipping line 1068809: expected 15 fields, saw 22\\nSkipping line 1069505: expected 15 fields, saw 22\\nSkipping line 1087983: expected 15 fields, saw 22\\nSkipping line 1108184: expected 15 fields, saw 22\\n'\n",
      "b'Skipping line 1118137: expected 15 fields, saw 22\\nSkipping line 1142723: expected 15 fields, saw 22\\nSkipping line 1152492: expected 15 fields, saw 22\\nSkipping line 1156947: expected 15 fields, saw 22\\nSkipping line 1172563: expected 15 fields, saw 22\\n'\n",
      "b'Skipping line 1209254: expected 15 fields, saw 22\\nSkipping line 1212966: expected 15 fields, saw 22\\nSkipping line 1236533: expected 15 fields, saw 22\\nSkipping line 1237598: expected 15 fields, saw 22\\n'\n",
      "b'Skipping line 1273825: expected 15 fields, saw 22\\nSkipping line 1277898: expected 15 fields, saw 22\\nSkipping line 1283654: expected 15 fields, saw 22\\nSkipping line 1286023: expected 15 fields, saw 22\\nSkipping line 1302038: expected 15 fields, saw 22\\nSkipping line 1305179: expected 15 fields, saw 22\\n'\n",
      "b'Skipping line 1326022: expected 15 fields, saw 22\\nSkipping line 1338120: expected 15 fields, saw 22\\nSkipping line 1338503: expected 15 fields, saw 22\\nSkipping line 1338849: expected 15 fields, saw 22\\nSkipping line 1341513: expected 15 fields, saw 22\\nSkipping line 1346493: expected 15 fields, saw 22\\nSkipping line 1373127: expected 15 fields, saw 22\\n'\n",
      "b'Skipping line 1389508: expected 15 fields, saw 22\\nSkipping line 1413951: expected 15 fields, saw 22\\nSkipping line 1433626: expected 15 fields, saw 22\\n'\n",
      "b'Skipping line 1442698: expected 15 fields, saw 22\\nSkipping line 1472982: expected 15 fields, saw 22\\nSkipping line 1482282: expected 15 fields, saw 22\\nSkipping line 1487808: expected 15 fields, saw 22\\nSkipping line 1500636: expected 15 fields, saw 22\\n'\n",
      "b'Skipping line 1511479: expected 15 fields, saw 22\\nSkipping line 1532302: expected 15 fields, saw 22\\nSkipping line 1537952: expected 15 fields, saw 22\\nSkipping line 1539951: expected 15 fields, saw 22\\nSkipping line 1541020: expected 15 fields, saw 22\\n'\n",
      "b'Skipping line 1594217: expected 15 fields, saw 22\\nSkipping line 1612264: expected 15 fields, saw 22\\nSkipping line 1615907: expected 15 fields, saw 22\\nSkipping line 1621859: expected 15 fields, saw 22\\n'\n",
      "b'Skipping line 1653542: expected 15 fields, saw 22\\nSkipping line 1671537: expected 15 fields, saw 22\\nSkipping line 1672879: expected 15 fields, saw 22\\nSkipping line 1674523: expected 15 fields, saw 22\\nSkipping line 1677355: expected 15 fields, saw 22\\nSkipping line 1703907: expected 15 fields, saw 22\\n'\n",
      "b'Skipping line 1713046: expected 15 fields, saw 22\\nSkipping line 1722982: expected 15 fields, saw 22\\nSkipping line 1727290: expected 15 fields, saw 22\\nSkipping line 1744482: expected 15 fields, saw 22\\n'\n",
      "b'Skipping line 1803858: expected 15 fields, saw 22\\nSkipping line 1810069: expected 15 fields, saw 22\\nSkipping line 1829751: expected 15 fields, saw 22\\nSkipping line 1831699: expected 15 fields, saw 22\\n'\n",
      "b'Skipping line 1863131: expected 15 fields, saw 22\\nSkipping line 1867917: expected 15 fields, saw 22\\nSkipping line 1874790: expected 15 fields, saw 22\\nSkipping line 1879952: expected 15 fields, saw 22\\nSkipping line 1880501: expected 15 fields, saw 22\\nSkipping line 1886655: expected 15 fields, saw 22\\nSkipping line 1887888: expected 15 fields, saw 22\\nSkipping line 1894286: expected 15 fields, saw 22\\nSkipping line 1895400: expected 15 fields, saw 22\\n'\n",
      "b'Skipping line 1904040: expected 15 fields, saw 22\\nSkipping line 1907604: expected 15 fields, saw 22\\nSkipping line 1915739: expected 15 fields, saw 22\\nSkipping line 1921514: expected 15 fields, saw 22\\nSkipping line 1939428: expected 15 fields, saw 22\\nSkipping line 1944342: expected 15 fields, saw 22\\nSkipping line 1949699: expected 15 fields, saw 22\\nSkipping line 1961872: expected 15 fields, saw 22\\n'\n"
     ]
    },
    {
     "name": "stderr",
     "output_type": "stream",
     "text": [
      "b'Skipping line 1968846: expected 15 fields, saw 22\\nSkipping line 1999941: expected 15 fields, saw 22\\nSkipping line 2001492: expected 15 fields, saw 22\\nSkipping line 2011204: expected 15 fields, saw 22\\nSkipping line 2025295: expected 15 fields, saw 22\\n'\n",
      "b'Skipping line 2041266: expected 15 fields, saw 22\\nSkipping line 2073314: expected 15 fields, saw 22\\nSkipping line 2080133: expected 15 fields, saw 22\\nSkipping line 2088521: expected 15 fields, saw 22\\n'\n",
      "b'Skipping line 2103490: expected 15 fields, saw 22\\nSkipping line 2115278: expected 15 fields, saw 22\\nSkipping line 2153174: expected 15 fields, saw 22\\nSkipping line 2161731: expected 15 fields, saw 22\\n'\n",
      "b'Skipping line 2165250: expected 15 fields, saw 22\\nSkipping line 2175132: expected 15 fields, saw 22\\nSkipping line 2206817: expected 15 fields, saw 22\\nSkipping line 2215848: expected 15 fields, saw 22\\nSkipping line 2223811: expected 15 fields, saw 22\\n'\n",
      "b'Skipping line 2257265: expected 15 fields, saw 22\\nSkipping line 2259163: expected 15 fields, saw 22\\nSkipping line 2263291: expected 15 fields, saw 22\\n'\n",
      "b'Skipping line 2301943: expected 15 fields, saw 22\\nSkipping line 2304371: expected 15 fields, saw 22\\nSkipping line 2306015: expected 15 fields, saw 22\\nSkipping line 2312186: expected 15 fields, saw 22\\nSkipping line 2314740: expected 15 fields, saw 22\\nSkipping line 2317754: expected 15 fields, saw 22\\n'\n",
      "b'Skipping line 2383514: expected 15 fields, saw 22\\n'\n",
      "b'Skipping line 2449763: expected 15 fields, saw 22\\n'\n",
      "b'Skipping line 2589323: expected 15 fields, saw 22\\n'\n",
      "b'Skipping line 2775036: expected 15 fields, saw 22\\n'\n",
      "b'Skipping line 2935174: expected 15 fields, saw 22\\n'\n",
      "b'Skipping line 3078830: expected 15 fields, saw 22\\n'\n",
      "b'Skipping line 3123091: expected 15 fields, saw 22\\n'\n",
      "b'Skipping line 3185533: expected 15 fields, saw 22\\n'\n",
      "b'Skipping line 4150395: expected 15 fields, saw 22\\n'\n",
      "b'Skipping line 4748401: expected 15 fields, saw 22\\n'\n"
     ]
    }
   ],
   "source": [
    "import pandas as pd\n",
    "test = pd.read_csv(\"amazon_reviews_us_Kitchen_v1_00.tsv\", sep = '\\t',error_bad_lines = False)\n",
    "test['label'] = -1"
   ]
  },
  {
   "cell_type": "code",
   "execution_count": 3,
   "id": "7e34efec",
   "metadata": {},
   "outputs": [
    {
     "data": {
      "text/html": [
       "<div>\n",
       "<style scoped>\n",
       "    .dataframe tbody tr th:only-of-type {\n",
       "        vertical-align: middle;\n",
       "    }\n",
       "\n",
       "    .dataframe tbody tr th {\n",
       "        vertical-align: top;\n",
       "    }\n",
       "\n",
       "    .dataframe thead th {\n",
       "        text-align: right;\n",
       "    }\n",
       "</style>\n",
       "<table border=\"1\" class=\"dataframe\">\n",
       "  <thead>\n",
       "    <tr style=\"text-align: right;\">\n",
       "      <th></th>\n",
       "      <th>marketplace</th>\n",
       "      <th>customer_id</th>\n",
       "      <th>review_id</th>\n",
       "      <th>product_id</th>\n",
       "      <th>product_parent</th>\n",
       "      <th>product_title</th>\n",
       "      <th>product_category</th>\n",
       "      <th>star_rating</th>\n",
       "      <th>helpful_votes</th>\n",
       "      <th>total_votes</th>\n",
       "      <th>vine</th>\n",
       "      <th>verified_purchase</th>\n",
       "      <th>review_headline</th>\n",
       "      <th>review_body</th>\n",
       "      <th>review_date</th>\n",
       "      <th>label</th>\n",
       "    </tr>\n",
       "  </thead>\n",
       "  <tbody>\n",
       "    <tr>\n",
       "      <th>0</th>\n",
       "      <td>US</td>\n",
       "      <td>37000337</td>\n",
       "      <td>R3DT59XH7HXR9K</td>\n",
       "      <td>B00303FI0G</td>\n",
       "      <td>529320574</td>\n",
       "      <td>Arthur Court Paper Towel Holder</td>\n",
       "      <td>Kitchen</td>\n",
       "      <td>5.0</td>\n",
       "      <td>0.0</td>\n",
       "      <td>0.0</td>\n",
       "      <td>N</td>\n",
       "      <td>Y</td>\n",
       "      <td>Beautiful. Looks great on counter</td>\n",
       "      <td>Beautiful.  Looks great on counter.</td>\n",
       "      <td>2015-08-31</td>\n",
       "      <td>-1</td>\n",
       "    </tr>\n",
       "    <tr>\n",
       "      <th>1</th>\n",
       "      <td>US</td>\n",
       "      <td>15272914</td>\n",
       "      <td>R1LFS11BNASSU8</td>\n",
       "      <td>B00JCZKZN6</td>\n",
       "      <td>274237558</td>\n",
       "      <td>Olde Thompson Bavaria Glass Salt and Pepper Mi...</td>\n",
       "      <td>Kitchen</td>\n",
       "      <td>5.0</td>\n",
       "      <td>0.0</td>\n",
       "      <td>1.0</td>\n",
       "      <td>N</td>\n",
       "      <td>Y</td>\n",
       "      <td>Awesome &amp; Self-ness</td>\n",
       "      <td>I personally have 5 days sets and have also bo...</td>\n",
       "      <td>2015-08-31</td>\n",
       "      <td>-1</td>\n",
       "    </tr>\n",
       "    <tr>\n",
       "      <th>2</th>\n",
       "      <td>US</td>\n",
       "      <td>36137863</td>\n",
       "      <td>R296RT05AG0AF6</td>\n",
       "      <td>B00JLIKA5C</td>\n",
       "      <td>544675303</td>\n",
       "      <td>Progressive International PL8 Professional Man...</td>\n",
       "      <td>Kitchen</td>\n",
       "      <td>5.0</td>\n",
       "      <td>0.0</td>\n",
       "      <td>0.0</td>\n",
       "      <td>N</td>\n",
       "      <td>Y</td>\n",
       "      <td>Fabulous and worth every penny</td>\n",
       "      <td>Fabulous and worth every penny. Used for clean...</td>\n",
       "      <td>2015-08-31</td>\n",
       "      <td>-1</td>\n",
       "    </tr>\n",
       "    <tr>\n",
       "      <th>3</th>\n",
       "      <td>US</td>\n",
       "      <td>43311049</td>\n",
       "      <td>R3V37XDZ7ZCI3L</td>\n",
       "      <td>B000GBNB8G</td>\n",
       "      <td>491599489</td>\n",
       "      <td>Zyliss Jumbo Garlic Press</td>\n",
       "      <td>Kitchen</td>\n",
       "      <td>5.0</td>\n",
       "      <td>0.0</td>\n",
       "      <td>1.0</td>\n",
       "      <td>N</td>\n",
       "      <td>Y</td>\n",
       "      <td>Five Stars</td>\n",
       "      <td>A must if you love garlic on tomato marinara s...</td>\n",
       "      <td>2015-08-31</td>\n",
       "      <td>-1</td>\n",
       "    </tr>\n",
       "    <tr>\n",
       "      <th>4</th>\n",
       "      <td>US</td>\n",
       "      <td>13763148</td>\n",
       "      <td>R14GU232NQFYX2</td>\n",
       "      <td>B00VJ5KX9S</td>\n",
       "      <td>353790155</td>\n",
       "      <td>1 X Premier Pizza Cutter - Stainless Steel 14\"...</td>\n",
       "      <td>Kitchen</td>\n",
       "      <td>5.0</td>\n",
       "      <td>0.0</td>\n",
       "      <td>0.0</td>\n",
       "      <td>N</td>\n",
       "      <td>Y</td>\n",
       "      <td>Better than sex</td>\n",
       "      <td>Worth every penny! Buy one now and be a pizza ...</td>\n",
       "      <td>2015-08-31</td>\n",
       "      <td>-1</td>\n",
       "    </tr>\n",
       "    <tr>\n",
       "      <th>...</th>\n",
       "      <td>...</td>\n",
       "      <td>...</td>\n",
       "      <td>...</td>\n",
       "      <td>...</td>\n",
       "      <td>...</td>\n",
       "      <td>...</td>\n",
       "      <td>...</td>\n",
       "      <td>...</td>\n",
       "      <td>...</td>\n",
       "      <td>...</td>\n",
       "      <td>...</td>\n",
       "      <td>...</td>\n",
       "      <td>...</td>\n",
       "      <td>...</td>\n",
       "      <td>...</td>\n",
       "      <td>...</td>\n",
       "    </tr>\n",
       "    <tr>\n",
       "      <th>4874885</th>\n",
       "      <td>US</td>\n",
       "      <td>51094108</td>\n",
       "      <td>R22DLC2P26MUMR</td>\n",
       "      <td>B00004SBGS</td>\n",
       "      <td>732420532</td>\n",
       "      <td>Le Creuset Enameled Cast-Iron 6-3/4-Quart Oval...</td>\n",
       "      <td>Kitchen</td>\n",
       "      <td>4.0</td>\n",
       "      <td>30.0</td>\n",
       "      <td>41.0</td>\n",
       "      <td>N</td>\n",
       "      <td>N</td>\n",
       "      <td>Not as sturdy as you'd think.</td>\n",
       "      <td>After a month of heavy use, primarily as a chi...</td>\n",
       "      <td>2000-04-28</td>\n",
       "      <td>-1</td>\n",
       "    </tr>\n",
       "    <tr>\n",
       "      <th>4874886</th>\n",
       "      <td>US</td>\n",
       "      <td>50562512</td>\n",
       "      <td>R1N6KLTENLQOMT</td>\n",
       "      <td>B00004SBIA</td>\n",
       "      <td>261705371</td>\n",
       "      <td>Le Creuset Enameled Cast-Iron 2-Quart Heart Ca...</td>\n",
       "      <td>Kitchen</td>\n",
       "      <td>5.0</td>\n",
       "      <td>84.0</td>\n",
       "      <td>92.0</td>\n",
       "      <td>N</td>\n",
       "      <td>N</td>\n",
       "      <td>A Sweetheart of A Pan</td>\n",
       "      <td>I've used my Le Creuset enameled cast iron coo...</td>\n",
       "      <td>2000-04-28</td>\n",
       "      <td>-1</td>\n",
       "    </tr>\n",
       "    <tr>\n",
       "      <th>4874887</th>\n",
       "      <td>US</td>\n",
       "      <td>52469742</td>\n",
       "      <td>R10TW4QXDV8KJC</td>\n",
       "      <td>B00004SPEF</td>\n",
       "      <td>191184892</td>\n",
       "      <td>Krups 358-70 La Glaciere Ice Cream Maker</td>\n",
       "      <td>Kitchen</td>\n",
       "      <td>4.0</td>\n",
       "      <td>55.0</td>\n",
       "      <td>60.0</td>\n",
       "      <td>N</td>\n",
       "      <td>N</td>\n",
       "      <td>Ice Cream Like a Dream</td>\n",
       "      <td>According to my wife, this is \\\\\"the best birt...</td>\n",
       "      <td>2000-04-28</td>\n",
       "      <td>-1</td>\n",
       "    </tr>\n",
       "    <tr>\n",
       "      <th>4874888</th>\n",
       "      <td>US</td>\n",
       "      <td>51865238</td>\n",
       "      <td>R41RL2U1FSQ4V</td>\n",
       "      <td>B00004RHR6</td>\n",
       "      <td>912491903</td>\n",
       "      <td>Hoffritz Stainless-Steel Manual Can Opener</td>\n",
       "      <td>Kitchen</td>\n",
       "      <td>4.0</td>\n",
       "      <td>30.0</td>\n",
       "      <td>42.0</td>\n",
       "      <td>N</td>\n",
       "      <td>N</td>\n",
       "      <td>Opens anything and everything</td>\n",
       "      <td>Hoffritz has a name of producing a trendy and ...</td>\n",
       "      <td>2000-04-24</td>\n",
       "      <td>-1</td>\n",
       "    </tr>\n",
       "    <tr>\n",
       "      <th>4874889</th>\n",
       "      <td>US</td>\n",
       "      <td>52900320</td>\n",
       "      <td>R1NHMPKSJG2E37</td>\n",
       "      <td>B0000021VO</td>\n",
       "      <td>41913389</td>\n",
       "      <td>Tammy Rogers</td>\n",
       "      <td>Kitchen</td>\n",
       "      <td>5.0</td>\n",
       "      <td>5.0</td>\n",
       "      <td>5.0</td>\n",
       "      <td>N</td>\n",
       "      <td>N</td>\n",
       "      <td>The more you listen, the more you hear...</td>\n",
       "      <td>OK. I was late to snap to the Dead Reckoners. ...</td>\n",
       "      <td>2000-01-20</td>\n",
       "      <td>-1</td>\n",
       "    </tr>\n",
       "  </tbody>\n",
       "</table>\n",
       "<p>4874890 rows × 16 columns</p>\n",
       "</div>"
      ],
      "text/plain": [
       "        marketplace  customer_id       review_id  product_id  product_parent  \\\n",
       "0                US     37000337  R3DT59XH7HXR9K  B00303FI0G       529320574   \n",
       "1                US     15272914  R1LFS11BNASSU8  B00JCZKZN6       274237558   \n",
       "2                US     36137863  R296RT05AG0AF6  B00JLIKA5C       544675303   \n",
       "3                US     43311049  R3V37XDZ7ZCI3L  B000GBNB8G       491599489   \n",
       "4                US     13763148  R14GU232NQFYX2  B00VJ5KX9S       353790155   \n",
       "...             ...          ...             ...         ...             ...   \n",
       "4874885          US     51094108  R22DLC2P26MUMR  B00004SBGS       732420532   \n",
       "4874886          US     50562512  R1N6KLTENLQOMT  B00004SBIA       261705371   \n",
       "4874887          US     52469742  R10TW4QXDV8KJC  B00004SPEF       191184892   \n",
       "4874888          US     51865238   R41RL2U1FSQ4V  B00004RHR6       912491903   \n",
       "4874889          US     52900320  R1NHMPKSJG2E37  B0000021VO        41913389   \n",
       "\n",
       "                                             product_title product_category  \\\n",
       "0                          Arthur Court Paper Towel Holder          Kitchen   \n",
       "1        Olde Thompson Bavaria Glass Salt and Pepper Mi...          Kitchen   \n",
       "2        Progressive International PL8 Professional Man...          Kitchen   \n",
       "3                                Zyliss Jumbo Garlic Press          Kitchen   \n",
       "4        1 X Premier Pizza Cutter - Stainless Steel 14\"...          Kitchen   \n",
       "...                                                    ...              ...   \n",
       "4874885  Le Creuset Enameled Cast-Iron 6-3/4-Quart Oval...          Kitchen   \n",
       "4874886  Le Creuset Enameled Cast-Iron 2-Quart Heart Ca...          Kitchen   \n",
       "4874887           Krups 358-70 La Glaciere Ice Cream Maker          Kitchen   \n",
       "4874888         Hoffritz Stainless-Steel Manual Can Opener          Kitchen   \n",
       "4874889                                       Tammy Rogers          Kitchen   \n",
       "\n",
       "         star_rating  helpful_votes  total_votes vine verified_purchase  \\\n",
       "0                5.0            0.0          0.0    N                 Y   \n",
       "1                5.0            0.0          1.0    N                 Y   \n",
       "2                5.0            0.0          0.0    N                 Y   \n",
       "3                5.0            0.0          1.0    N                 Y   \n",
       "4                5.0            0.0          0.0    N                 Y   \n",
       "...              ...            ...          ...  ...               ...   \n",
       "4874885          4.0           30.0         41.0    N                 N   \n",
       "4874886          5.0           84.0         92.0    N                 N   \n",
       "4874887          4.0           55.0         60.0    N                 N   \n",
       "4874888          4.0           30.0         42.0    N                 N   \n",
       "4874889          5.0            5.0          5.0    N                 N   \n",
       "\n",
       "                                   review_headline  \\\n",
       "0                Beautiful. Looks great on counter   \n",
       "1                              Awesome & Self-ness   \n",
       "2                   Fabulous and worth every penny   \n",
       "3                                       Five Stars   \n",
       "4                                  Better than sex   \n",
       "...                                            ...   \n",
       "4874885              Not as sturdy as you'd think.   \n",
       "4874886                      A Sweetheart of A Pan   \n",
       "4874887                     Ice Cream Like a Dream   \n",
       "4874888              Opens anything and everything   \n",
       "4874889  The more you listen, the more you hear...   \n",
       "\n",
       "                                               review_body review_date  label  \n",
       "0                      Beautiful.  Looks great on counter.  2015-08-31     -1  \n",
       "1        I personally have 5 days sets and have also bo...  2015-08-31     -1  \n",
       "2        Fabulous and worth every penny. Used for clean...  2015-08-31     -1  \n",
       "3        A must if you love garlic on tomato marinara s...  2015-08-31     -1  \n",
       "4        Worth every penny! Buy one now and be a pizza ...  2015-08-31     -1  \n",
       "...                                                    ...         ...    ...  \n",
       "4874885  After a month of heavy use, primarily as a chi...  2000-04-28     -1  \n",
       "4874886  I've used my Le Creuset enameled cast iron coo...  2000-04-28     -1  \n",
       "4874887  According to my wife, this is \\\\\"the best birt...  2000-04-28     -1  \n",
       "4874888  Hoffritz has a name of producing a trendy and ...  2000-04-24     -1  \n",
       "4874889  OK. I was late to snap to the Dead Reckoners. ...  2000-01-20     -1  \n",
       "\n",
       "[4874890 rows x 16 columns]"
      ]
     },
     "execution_count": 3,
     "metadata": {},
     "output_type": "execute_result"
    }
   ],
   "source": [
    "test"
   ]
  },
  {
   "cell_type": "code",
   "execution_count": 3,
   "id": "f35498c1",
   "metadata": {},
   "outputs": [],
   "source": [
    "a1 = test.loc[test['star_rating']==1].sample(50000)\n",
    "a2 = test.loc[test['star_rating']==2].sample(50000)\n",
    "a3 = test.loc[test['star_rating']==3].sample(50000)\n",
    "a4 = test.loc[test['star_rating']==4].sample(50000)\n",
    "a5 = test.loc[test['star_rating']==5].sample(50000)"
   ]
  },
  {
   "cell_type": "code",
   "execution_count": 4,
   "id": "cc567ba1",
   "metadata": {},
   "outputs": [],
   "source": [
    "new_test = pd.concat([a1,a2,a3,a4,a5])"
   ]
  },
  {
   "cell_type": "code",
   "execution_count": 5,
   "id": "41f3d7f2",
   "metadata": {},
   "outputs": [],
   "source": [
    "new_test['lable'] = 1"
   ]
  },
  {
   "cell_type": "code",
   "execution_count": 6,
   "id": "e868e740",
   "metadata": {},
   "outputs": [
    {
     "name": "stderr",
     "output_type": "stream",
     "text": [
      "/opt/anaconda3/lib/python3.7/site-packages/ipykernel_launcher.py:1: SettingWithCopyWarning: \n",
      "A value is trying to be set on a copy of a slice from a DataFrame\n",
      "\n",
      "See the caveats in the documentation: https://pandas.pydata.org/pandas-docs/stable/user_guide/indexing.html#returning-a-view-versus-a-copy\n",
      "  \"\"\"Entry point for launching an IPython kernel.\n",
      "/opt/anaconda3/lib/python3.7/site-packages/ipykernel_launcher.py:2: SettingWithCopyWarning: \n",
      "A value is trying to be set on a copy of a slice from a DataFrame\n",
      "\n",
      "See the caveats in the documentation: https://pandas.pydata.org/pandas-docs/stable/user_guide/indexing.html#returning-a-view-versus-a-copy\n",
      "  \n",
      "/opt/anaconda3/lib/python3.7/site-packages/ipykernel_launcher.py:3: SettingWithCopyWarning: \n",
      "A value is trying to be set on a copy of a slice from a DataFrame\n",
      "\n",
      "See the caveats in the documentation: https://pandas.pydata.org/pandas-docs/stable/user_guide/indexing.html#returning-a-view-versus-a-copy\n",
      "  This is separate from the ipykernel package so we can avoid doing imports until\n"
     ]
    }
   ],
   "source": [
    "new_test.label[test.star_rating>3] = 1\n",
    "new_test.label[test.star_rating<3] = 2\n",
    "new_test.label[test.star_rating==3] = 3\n",
    "\n"
   ]
  },
  {
   "cell_type": "code",
   "execution_count": 7,
   "id": "4e8b836d",
   "metadata": {},
   "outputs": [],
   "source": [
    "new_test = new_test[['label','review_body']] \n"
   ]
  },
  {
   "cell_type": "code",
   "execution_count": 8,
   "id": "8400f1b0",
   "metadata": {},
   "outputs": [],
   "source": [
    "copy_test = copy.deepcopy(new_test)"
   ]
  },
  {
   "cell_type": "code",
   "execution_count": 9,
   "id": "4d2a4766",
   "metadata": {},
   "outputs": [
    {
     "data": {
      "text/html": [
       "<div>\n",
       "<style scoped>\n",
       "    .dataframe tbody tr th:only-of-type {\n",
       "        vertical-align: middle;\n",
       "    }\n",
       "\n",
       "    .dataframe tbody tr th {\n",
       "        vertical-align: top;\n",
       "    }\n",
       "\n",
       "    .dataframe thead th {\n",
       "        text-align: right;\n",
       "    }\n",
       "</style>\n",
       "<table border=\"1\" class=\"dataframe\">\n",
       "  <thead>\n",
       "    <tr style=\"text-align: right;\">\n",
       "      <th></th>\n",
       "      <th>review_body</th>\n",
       "    </tr>\n",
       "    <tr>\n",
       "      <th>label</th>\n",
       "      <th></th>\n",
       "    </tr>\n",
       "  </thead>\n",
       "  <tbody>\n",
       "    <tr>\n",
       "      <th>1</th>\n",
       "      <td>99994</td>\n",
       "    </tr>\n",
       "    <tr>\n",
       "      <th>2</th>\n",
       "      <td>99994</td>\n",
       "    </tr>\n",
       "    <tr>\n",
       "      <th>3</th>\n",
       "      <td>49999</td>\n",
       "    </tr>\n",
       "  </tbody>\n",
       "</table>\n",
       "</div>"
      ],
      "text/plain": [
       "       review_body\n",
       "label             \n",
       "1            99994\n",
       "2            99994\n",
       "3            49999"
      ]
     },
     "execution_count": 9,
     "metadata": {},
     "output_type": "execute_result"
    }
   ],
   "source": [
    "new_test.groupby('label').count()"
   ]
  },
  {
   "cell_type": "code",
   "execution_count": 10,
   "id": "5dcd4b7e",
   "metadata": {},
   "outputs": [],
   "source": [
    "import gensim.downloader as api"
   ]
  },
  {
   "cell_type": "code",
   "execution_count": 17,
   "id": "f2b85b17",
   "metadata": {},
   "outputs": [
    {
     "name": "stdout",
     "output_type": "stream",
     "text": [
      "[==================================================] 100.0% 1662.8/1662.8MB downloaded\n"
     ]
    }
   ],
   "source": [
    "wv = api.load('word2vec-google-news-300')\n"
   ]
  },
  {
   "cell_type": "code",
   "execution_count": 18,
   "id": "57486aeb",
   "metadata": {},
   "outputs": [],
   "source": [
    "vec_king = wv['king']"
   ]
  },
  {
   "cell_type": "code",
   "execution_count": 19,
   "id": "f44ebea7",
   "metadata": {},
   "outputs": [],
   "source": [
    "vec_man = wv['man']"
   ]
  },
  {
   "cell_type": "code",
   "execution_count": 21,
   "id": "36af73b5",
   "metadata": {},
   "outputs": [],
   "source": [
    "vec_woman = wv['woman']"
   ]
  },
  {
   "cell_type": "code",
   "execution_count": 22,
   "id": "f4f7f132",
   "metadata": {},
   "outputs": [],
   "source": [
    "queen_test = vec_king - vec_man + vec_woman"
   ]
  },
  {
   "cell_type": "code",
   "execution_count": 24,
   "id": "3c301c4a",
   "metadata": {},
   "outputs": [],
   "source": [
    "vec_queen = wv['queen']"
   ]
  },
  {
   "cell_type": "code",
   "execution_count": 25,
   "id": "28e83b45",
   "metadata": {},
   "outputs": [],
   "source": [
    "def cos_sim(vector_a, vector_b):\n",
    "    vector_a = np.mat(vector_a)\n",
    "    vector_b = np.mat(vector_b)\n",
    "    num = float(vector_a * vector_b.T)\n",
    "    denom = np.linalg.norm(vector_a) * np.linalg.norm(vector_b)\n",
    "    cos = num / denom\n",
    "    sim = 0.5 + 0.5 * cos\n",
    "    return sim"
   ]
  },
  {
   "cell_type": "code",
   "execution_count": 32,
   "id": "9706eea5",
   "metadata": {},
   "outputs": [
    {
     "data": {
      "text/plain": [
       "0.8650258715231234"
      ]
     },
     "execution_count": 32,
     "metadata": {},
     "output_type": "execute_result"
    }
   ],
   "source": [
    "cos_sim(queen_test,vec_queen)"
   ]
  },
  {
   "cell_type": "code",
   "execution_count": null,
   "id": "0ca726d6",
   "metadata": {},
   "outputs": [],
   "source": []
  },
  {
   "cell_type": "code",
   "execution_count": 33,
   "id": "d5509e42",
   "metadata": {},
   "outputs": [],
   "source": [
    "vec_excellent = wv['excellent']\n",
    "vec_out = wv['outstanding']"
   ]
  },
  {
   "cell_type": "code",
   "execution_count": 34,
   "id": "8aeacbf6",
   "metadata": {},
   "outputs": [
    {
     "data": {
      "text/plain": [
       "0.7783743005874819"
      ]
     },
     "execution_count": 34,
     "metadata": {},
     "output_type": "execute_result"
    }
   ],
   "source": [
    "cos_sim(vec_excellent,vec_out)"
   ]
  },
  {
   "cell_type": "code",
   "execution_count": 11,
   "id": "aecaacee",
   "metadata": {},
   "outputs": [],
   "source": [
    "from nltk import word_tokenize"
   ]
  },
  {
   "cell_type": "code",
   "execution_count": 12,
   "id": "6f8acde9",
   "metadata": {},
   "outputs": [
    {
     "data": {
      "text/plain": [
       "250000"
      ]
     },
     "execution_count": 12,
     "metadata": {},
     "output_type": "execute_result"
    }
   ],
   "source": [
    "len(new_test)"
   ]
  },
  {
   "cell_type": "code",
   "execution_count": 13,
   "id": "dcc00910",
   "metadata": {},
   "outputs": [],
   "source": [
    "new_test['review_body'] = new_test['review_body'].apply(lambda x:word_tokenize(str(x)))\n"
   ]
  },
  {
   "cell_type": "code",
   "execution_count": 14,
   "id": "5aed59fb",
   "metadata": {},
   "outputs": [],
   "source": [
    "x_matrix = list(new_test['review_body'].values)"
   ]
  },
  {
   "cell_type": "code",
   "execution_count": 15,
   "id": "ec511ced",
   "metadata": {},
   "outputs": [],
   "source": [
    "from gensim.models import Word2Vec"
   ]
  },
  {
   "cell_type": "code",
   "execution_count": 26,
   "id": "ec9bf2af",
   "metadata": {},
   "outputs": [],
   "source": [
    "model = Word2Vec(x_matrix,sg=1,vector_size=300,window=11,min_count=10)\n",
    "import tempfile"
   ]
  },
  {
   "cell_type": "code",
   "execution_count": 17,
   "id": "37b5d2c0",
   "metadata": {},
   "outputs": [],
   "source": [
    "import tempfile"
   ]
  },
  {
   "cell_type": "code",
   "execution_count": 34,
   "id": "2e32ad43",
   "metadata": {},
   "outputs": [],
   "source": [
    "import tempfile\n",
    "\n",
    "with tempfile.NamedTemporaryFile(prefix='gensim-model-', delete=False) as tmp:\n",
    "    temporary_filepath = 'save'\n",
    "    model.save(temporary_filepath)"
   ]
  },
  {
   "cell_type": "code",
   "execution_count": 19,
   "id": "0a9f24f7",
   "metadata": {},
   "outputs": [],
   "source": [
    "import gensim"
   ]
  },
  {
   "cell_type": "code",
   "execution_count": 20,
   "id": "fb10dd87",
   "metadata": {},
   "outputs": [],
   "source": [
    "model = gensim.models.Word2Vec.load('save')"
   ]
  },
  {
   "cell_type": "code",
   "execution_count": 21,
   "id": "ebcdef1a",
   "metadata": {},
   "outputs": [],
   "source": [
    "n_king = model.wv['king']\n",
    "n_man = model.wv['man']\n",
    "n_woman = model.wv['woman']\n",
    "n_queen = model.wv['queen']"
   ]
  },
  {
   "cell_type": "code",
   "execution_count": 22,
   "id": "9a8ba5ec",
   "metadata": {},
   "outputs": [],
   "source": [
    "tt_queen = n_king-n_man+n_woman"
   ]
  },
  {
   "cell_type": "code",
   "execution_count": 26,
   "id": "a1a40cb2",
   "metadata": {},
   "outputs": [
    {
     "data": {
      "text/plain": [
       "0.7368551514727513"
      ]
     },
     "execution_count": 26,
     "metadata": {},
     "output_type": "execute_result"
    }
   ],
   "source": [
    "cos_sim(tt_queen,n_queen)"
   ]
  },
  {
   "cell_type": "code",
   "execution_count": 35,
   "id": "840f4920",
   "metadata": {},
   "outputs": [
    {
     "data": {
      "text/plain": [
       "0.8221981926372779"
      ]
     },
     "execution_count": 35,
     "metadata": {},
     "output_type": "execute_result"
    }
   ],
   "source": [
    "cos_sim(model.wv['excellent'],model.wv['outstanding'])"
   ]
  },
  {
   "cell_type": "code",
   "execution_count": 27,
   "id": "59a35174",
   "metadata": {},
   "outputs": [],
   "source": [
    "#data clearing\n",
    "copy_test['review_body'] = copy_test['review_body'].str.lower()\n",
    "\n",
    "def tag(x):\n",
    "    return re.sub('<.*?>','',str(x))\n",
    "copy_test['review_body'] = copy_test['review_body'].apply(lambda x:tag(x))\n",
    "\n",
    "def url(x):\n",
    "    return re.sub('(https?|ftp|file)://[-A-Za-z0-9+&@#/%?=~_|!:,.;]+[-A-Za-z0-9+&@#/%=~_|]','',str(x))\n",
    "\n",
    "copy_test['review_body'] = copy_test['review_body'].apply(lambda x:url(x))\n",
    "\n",
    "import contractions\n",
    "copy_test['review_body'] = copy_test['review_body'].apply(lambda x:contractions.fix(x))\n",
    "\n",
    "def non_alphabetical(x):\n",
    "    return re.sub('[^a-zA-Z\\s]','',str(x))\n",
    "copy_test['review_body'] = copy_test['review_body'].apply(lambda x:non_alphabetical(x))\n",
    "def extra_space(x):\n",
    "    return re.sub( ' +',' ',str(x))\n",
    "copy_test['review_body'] = copy_test['review_body'].apply(lambda x:extra_space(x))"
   ]
  },
  {
   "cell_type": "code",
   "execution_count": 28,
   "id": "2a72788d",
   "metadata": {},
   "outputs": [
    {
     "name": "stderr",
     "output_type": "stream",
     "text": [
      "[nltk_data] Downloading package stopwords to\n",
      "[nltk_data]     /Users/chenlin/nltk_data...\n",
      "[nltk_data]   Package stopwords is already up-to-date!\n"
     ]
    }
   ],
   "source": [
    "#Pre-processing\n",
    "\n",
    "import nltk\n",
    "from nltk.corpus import stopwords\n",
    "nltk.download('stopwords')\n",
    "stop_words_set = set(stopwords.words('english'))\n",
    "from nltk import word_tokenize, pos_tag\n",
    "\n",
    "def stop_words(x):\n",
    "    word_tokens = word_tokenize(x)\n",
    "    temp = []\n",
    "    for i in word_tokens:\n",
    "        if i not in stop_words_set:\n",
    "            temp.append(i)\n",
    "    return temp\n",
    "copy_test['review_body'] = copy_test['review_body'].apply(lambda x:stop_words(x))\n"
   ]
  },
  {
   "cell_type": "code",
   "execution_count": 97,
   "id": "bd3a6d44",
   "metadata": {},
   "outputs": [],
   "source": []
  },
  {
   "cell_type": "code",
   "execution_count": 30,
   "id": "69f4a26c",
   "metadata": {},
   "outputs": [],
   "source": [
    "def vector_avg(x):\n",
    "    i = 0\n",
    "    n = 0\n",
    "    a = np.zeros(300)\n",
    "    while i<len(x):\n",
    "        if x[i] in model.wv:\n",
    "            a += model.wv[x[i]]\n",
    "        else:\n",
    "            n += 1\n",
    "        i = i+1\n",
    "    if n == 0: return a\n",
    "    else:return a/(len(x)-n)"
   ]
  },
  {
   "cell_type": "code",
   "execution_count": null,
   "id": "343aef28",
   "metadata": {},
   "outputs": [],
   "source": []
  },
  {
   "cell_type": "code",
   "execution_count": 271,
   "id": "7a4c69db",
   "metadata": {},
   "outputs": [
    {
     "name": "stderr",
     "output_type": "stream",
     "text": [
      "/opt/anaconda3/lib/python3.7/site-packages/ipykernel_launcher.py:1: SettingWithCopyWarning: \n",
      "A value is trying to be set on a copy of a slice from a DataFrame.\n",
      "Try using .loc[row_indexer,col_indexer] = value instead\n",
      "\n",
      "See the caveats in the documentation: https://pandas.pydata.org/pandas-docs/stable/user_guide/indexing.html#returning-a-view-versus-a-copy\n",
      "  \"\"\"Entry point for launching an IPython kernel.\n"
     ]
    }
   ],
   "source": [
    "copy_test['avg_vector'] = copy_test['review_body'].apply(lambda x:vector_avg(x))"
   ]
  },
  {
   "cell_type": "code",
   "execution_count": 272,
   "id": "ed30e4d4",
   "metadata": {},
   "outputs": [],
   "source": [
    "copy_test = copy_test.loc[copy_test['label'] <3]"
   ]
  },
  {
   "cell_type": "code",
   "execution_count": 273,
   "id": "962d7ba9",
   "metadata": {},
   "outputs": [],
   "source": [
    "X = copy_test['avg_vector']\n",
    "Y = copy_test['label']"
   ]
  },
  {
   "cell_type": "code",
   "execution_count": 274,
   "id": "e1aedd7c",
   "metadata": {},
   "outputs": [],
   "source": [
    "from sklearn.model_selection import train_test_split"
   ]
  },
  {
   "cell_type": "code",
   "execution_count": 275,
   "id": "372e3928",
   "metadata": {},
   "outputs": [],
   "source": [
    "x_train, x_test, y_train, y_test = train_test_split(X, Y, random_state = 19, test_size = 0.2)"
   ]
  },
  {
   "cell_type": "code",
   "execution_count": 277,
   "id": "513760a4",
   "metadata": {},
   "outputs": [],
   "source": [
    "x_train = np.array(x_train.tolist())"
   ]
  },
  {
   "cell_type": "code",
   "execution_count": 278,
   "id": "8541c20c",
   "metadata": {},
   "outputs": [],
   "source": [
    "y_train = np.array(y_train.tolist())"
   ]
  },
  {
   "cell_type": "code",
   "execution_count": 281,
   "id": "a764788a",
   "metadata": {},
   "outputs": [],
   "source": [
    "x_train = np.nan_to_num(x_train)"
   ]
  },
  {
   "cell_type": "code",
   "execution_count": 221,
   "id": "15cb25c2",
   "metadata": {},
   "outputs": [
    {
     "data": {
      "text/plain": [
       "Perceptron()"
      ]
     },
     "execution_count": 221,
     "metadata": {},
     "output_type": "execute_result"
    }
   ],
   "source": [
    "from sklearn.datasets import load_digits\n",
    "from sklearn.linear_model import Perceptron\n",
    "clf = Perceptron(tol=1e-3, random_state=0)\n",
    "clf.fit(x_train, y_train)\n"
   ]
  },
  {
   "cell_type": "code",
   "execution_count": 284,
   "id": "65198e69",
   "metadata": {},
   "outputs": [],
   "source": [
    "y_test = np.array(y_test.tolist())\n",
    "x_test = np.array(x_test.tolist())\n",
    "x_test = np.nan_to_num(x_test)"
   ]
  },
  {
   "cell_type": "code",
   "execution_count": 231,
   "id": "e7389670",
   "metadata": {},
   "outputs": [],
   "source": [
    "y_test_predict = clf.predict(x_test)"
   ]
  },
  {
   "cell_type": "code",
   "execution_count": 234,
   "id": "923e63c6",
   "metadata": {},
   "outputs": [],
   "source": [
    "y_test = np.array(y_test.tolist())"
   ]
  },
  {
   "cell_type": "markdown",
   "id": "8fcb8349",
   "metadata": {},
   "source": [
    "# perceptron"
   ]
  },
  {
   "cell_type": "code",
   "execution_count": 245,
   "id": "7c8c1dfa",
   "metadata": {},
   "outputs": [],
   "source": [
    "\n",
    "from sklearn.metrics import classification_report\n",
    "mymodel_perceptron_report = classification_report(y_test,y_test_predict,output_dict=True)"
   ]
  },
  {
   "cell_type": "code",
   "execution_count": 247,
   "id": "b5e7c542",
   "metadata": {},
   "outputs": [
    {
     "data": {
      "text/plain": [
       "0.798275"
      ]
     },
     "execution_count": 247,
     "metadata": {},
     "output_type": "execute_result"
    }
   ],
   "source": [
    "mymodel_perceptron_report['accuracy']"
   ]
  },
  {
   "cell_type": "markdown",
   "id": "072dc579",
   "metadata": {},
   "source": [
    "# svm"
   ]
  },
  {
   "cell_type": "code",
   "execution_count": 286,
   "id": "864acdf7",
   "metadata": {},
   "outputs": [
    {
     "name": "stderr",
     "output_type": "stream",
     "text": [
      "/opt/anaconda3/lib/python3.7/site-packages/sklearn/svm/_base.py:986: ConvergenceWarning: Liblinear failed to converge, increase the number of iterations.\n",
      "  \"the number of iterations.\", ConvergenceWarning)\n"
     ]
    },
    {
     "data": {
      "text/plain": [
       "LinearSVC()"
      ]
     },
     "execution_count": 286,
     "metadata": {},
     "output_type": "execute_result"
    }
   ],
   "source": [
    "from sklearn.svm import LinearSVC\n",
    "svc = LinearSVC()\n",
    "svc.fit(x_train, y_train)\n"
   ]
  },
  {
   "cell_type": "code",
   "execution_count": 287,
   "id": "91ffca0f",
   "metadata": {},
   "outputs": [],
   "source": [
    "y_test_predict = svc.predict(x_test)\n"
   ]
  },
  {
   "cell_type": "code",
   "execution_count": 291,
   "id": "1a10c7b7",
   "metadata": {},
   "outputs": [],
   "source": [
    "mymodel_svm_report = classification_report(y_test,y_test_predict,output_dict=True)"
   ]
  },
  {
   "cell_type": "code",
   "execution_count": 292,
   "id": "c0b23a56",
   "metadata": {},
   "outputs": [
    {
     "data": {
      "text/plain": [
       "0.771825"
      ]
     },
     "execution_count": 292,
     "metadata": {},
     "output_type": "execute_result"
    }
   ],
   "source": [
    "mymodel_svm_report['accuracy']"
   ]
  },
  {
   "cell_type": "markdown",
   "id": "9ea2b360",
   "metadata": {},
   "source": []
  },
  {
   "cell_type": "markdown",
   "id": "f82f2d9e",
   "metadata": {},
   "source": [
    "# Logistic Regression\n"
   ]
  },
  {
   "cell_type": "code",
   "execution_count": 290,
   "id": "3e24755a",
   "metadata": {},
   "outputs": [],
   "source": [
    "from sklearn.linear_model import LogisticRegression\n",
    "logistic = LogisticRegression(random_state=0,max_iter = 300).fit(x_train, y_train)"
   ]
  },
  {
   "cell_type": "code",
   "execution_count": 293,
   "id": "11dea65f",
   "metadata": {},
   "outputs": [],
   "source": [
    "y_test_predict = logistic.predict(x_test)\n"
   ]
  },
  {
   "cell_type": "code",
   "execution_count": 294,
   "id": "a256d6b3",
   "metadata": {},
   "outputs": [],
   "source": [
    "mymodel_log_report = classification_report(y_test,y_test_predict,output_dict=True)"
   ]
  },
  {
   "cell_type": "code",
   "execution_count": 295,
   "id": "d4e4f1cc",
   "metadata": {},
   "outputs": [
    {
     "data": {
      "text/plain": [
       "0.795125"
      ]
     },
     "execution_count": 295,
     "metadata": {},
     "output_type": "execute_result"
    }
   ],
   "source": [
    "mymodel_log_report['accuracy']"
   ]
  },
  {
   "cell_type": "code",
   "execution_count": 299,
   "id": "2ec6caaf",
   "metadata": {},
   "outputs": [],
   "source": [
    "#opm"
   ]
  },
  {
   "cell_type": "code",
   "execution_count": 300,
   "id": "15a96782",
   "metadata": {},
   "outputs": [],
   "source": [
    "opm = api.load('word2vec-google-news-300')"
   ]
  },
  {
   "cell_type": "code",
   "execution_count": 301,
   "id": "97fb4439",
   "metadata": {},
   "outputs": [],
   "source": [
    "def opm_vector_avg(x):\n",
    "    i = 0\n",
    "    n = 0\n",
    "    a = np.zeros(300)\n",
    "    while i<len(x):\n",
    "        if x[i] in opm:\n",
    "            a +=opm[x[i]]\n",
    "        else:\n",
    "            n += 1\n",
    "        i = i+1\n",
    "    if n == 0: return a\n",
    "    else:return a/(len(x)-n)"
   ]
  },
  {
   "cell_type": "code",
   "execution_count": 302,
   "id": "fcd5488e",
   "metadata": {},
   "outputs": [],
   "source": [
    "copy_test['opm_avg_vector'] = copy_test['review_body'].apply(lambda x:opm_vector_avg(x))"
   ]
  },
  {
   "cell_type": "code",
   "execution_count": 303,
   "id": "9cca17ee",
   "metadata": {},
   "outputs": [],
   "source": [
    "opm_x_train, opm_x_test, opm_y_train, opm_y_test = train_test_split(copy_test['opm_avg_vector'], copy_test['label'], random_state = 19, test_size = 0.2)"
   ]
  },
  {
   "cell_type": "code",
   "execution_count": 304,
   "id": "dfb01430",
   "metadata": {},
   "outputs": [],
   "source": [
    "opm_x_train = np.array(opm_x_train.tolist())\n",
    "opm_y_train = np.array(opm_y_train.tolist())\n",
    "opm_x_test = np.array(opm_x_test.tolist())\n",
    "opm_y_test = np.array(opm_y_test.tolist())\n",
    "opm_x_test = np.nan_to_num(opm_x_test)\n",
    "opm_x_train = np.nan_to_num(opm_x_train)"
   ]
  },
  {
   "cell_type": "code",
   "execution_count": 305,
   "id": "f177fe2d",
   "metadata": {},
   "outputs": [
    {
     "data": {
      "text/plain": [
       "Perceptron()"
      ]
     },
     "execution_count": 305,
     "metadata": {},
     "output_type": "execute_result"
    }
   ],
   "source": [
    "opm_clf = Perceptron(tol=1e-3, random_state=0)\n",
    "opm_clf.fit(opm_x_train, opm_y_train)\n"
   ]
  },
  {
   "cell_type": "code",
   "execution_count": 306,
   "id": "8e03512d",
   "metadata": {},
   "outputs": [],
   "source": [
    "opm_y_test_predict = opm_clf.predict(opm_x_test)"
   ]
  },
  {
   "cell_type": "code",
   "execution_count": 307,
   "id": "3fba94b1",
   "metadata": {},
   "outputs": [],
   "source": [
    "opm_model_perceptron_report = classification_report(opm_y_test,opm_y_test_predict,output_dict=True)"
   ]
  },
  {
   "cell_type": "code",
   "execution_count": 308,
   "id": "8550b58a",
   "metadata": {},
   "outputs": [
    {
     "data": {
      "text/plain": [
       "0.773875"
      ]
     },
     "execution_count": 308,
     "metadata": {},
     "output_type": "execute_result"
    }
   ],
   "source": [
    "opm_model_perceptron_report['accuracy']"
   ]
  },
  {
   "cell_type": "code",
   "execution_count": 309,
   "id": "e84125be",
   "metadata": {},
   "outputs": [
    {
     "name": "stderr",
     "output_type": "stream",
     "text": [
      "/opt/anaconda3/lib/python3.7/site-packages/sklearn/svm/_base.py:986: ConvergenceWarning: Liblinear failed to converge, increase the number of iterations.\n",
      "  \"the number of iterations.\", ConvergenceWarning)\n"
     ]
    },
    {
     "data": {
      "text/plain": [
       "LinearSVC()"
      ]
     },
     "execution_count": 309,
     "metadata": {},
     "output_type": "execute_result"
    }
   ],
   "source": [
    "svc = LinearSVC()\n",
    "svc.fit(opm_x_train, opm_y_train)"
   ]
  },
  {
   "cell_type": "code",
   "execution_count": 310,
   "id": "6039bb1e",
   "metadata": {},
   "outputs": [],
   "source": [
    "omg_y_test_predict = svc.predict(opm_x_test)\n"
   ]
  },
  {
   "cell_type": "code",
   "execution_count": 311,
   "id": "362fdf8f",
   "metadata": {},
   "outputs": [],
   "source": [
    "opm_svc_report = classification_report(opm_y_test,opm_y_test_predict,output_dict=True)"
   ]
  },
  {
   "cell_type": "code",
   "execution_count": 312,
   "id": "45352c21",
   "metadata": {},
   "outputs": [
    {
     "data": {
      "text/plain": [
       "0.773875"
      ]
     },
     "execution_count": 312,
     "metadata": {},
     "output_type": "execute_result"
    }
   ],
   "source": [
    "opm_svc_report['accuracy']"
   ]
  },
  {
   "cell_type": "code",
   "execution_count": 313,
   "id": "876fbd2a",
   "metadata": {},
   "outputs": [],
   "source": [
    "logistic = LogisticRegression(random_state=0,max_iter = 300).fit(opm_x_train, opm_y_train)"
   ]
  },
  {
   "cell_type": "code",
   "execution_count": 314,
   "id": "66decd17",
   "metadata": {},
   "outputs": [],
   "source": [
    "omp_y_test_predict = logistic.predict(opm_x_test)"
   ]
  },
  {
   "cell_type": "code",
   "execution_count": 315,
   "id": "abaa6276",
   "metadata": {},
   "outputs": [],
   "source": [
    "opm_log_report = classification_report(opm_y_test,opm_y_test_predict,output_dict=True)"
   ]
  },
  {
   "cell_type": "code",
   "execution_count": 316,
   "id": "b7afada2",
   "metadata": {},
   "outputs": [
    {
     "data": {
      "text/plain": [
       "0.773875"
      ]
     },
     "execution_count": 316,
     "metadata": {},
     "output_type": "execute_result"
    }
   ],
   "source": [
    "opm_log_report['accuracy']"
   ]
  },
  {
   "cell_type": "code",
   "execution_count": 317,
   "id": "63f35984",
   "metadata": {},
   "outputs": [],
   "source": [
    "#tf-idf"
   ]
  },
  {
   "cell_type": "code",
   "execution_count": 319,
   "id": "5e8a32ed",
   "metadata": {},
   "outputs": [],
   "source": [
    "new_p_n = copy_test"
   ]
  },
  {
   "cell_type": "code",
   "execution_count": 321,
   "id": "9ac488cb",
   "metadata": {},
   "outputs": [],
   "source": [
    "new_p_n['review_str'] = new_p_n['review_body'].apply(lambda x:' '.join(x))\n",
    "from sklearn.feature_extraction.text import TfidfVectorizer\n",
    "X = new_p_n['review_str']\n",
    "Y = new_p_n['label']\n",
    "v = TfidfVectorizer()\n",
    "x_tfidf = v.fit_transform(X)\n",
    "\n",
    "from sklearn.model_selection import train_test_split\n",
    "\n",
    "x_train, x_test, y_train, y_test = train_test_split(x_tfidf, Y, random_state = 19, test_size = 0.2)"
   ]
  },
  {
   "cell_type": "code",
   "execution_count": 325,
   "id": "280cb968",
   "metadata": {},
   "outputs": [],
   "source": [
    "perceptron = Perceptron()\n",
    "perceptron.fit(x_train, y_train)\n",
    "\n",
    "from sklearn.metrics import precision_recall_fscore_support as score\n",
    "from sklearn.metrics import classification_report\n",
    "\n",
    "\n",
    "y_test_predict = perceptron.predict(x_test)\n"
   ]
  },
  {
   "cell_type": "code",
   "execution_count": 326,
   "id": "582302ff",
   "metadata": {},
   "outputs": [],
   "source": [
    "report_test = classification_report(y_test,y_test_predict,output_dict=True)"
   ]
  },
  {
   "cell_type": "code",
   "execution_count": 328,
   "id": "62f9cbea",
   "metadata": {},
   "outputs": [],
   "source": [
    "accuracy_tf_perceptron = report_test['accuracy']"
   ]
  },
  {
   "cell_type": "code",
   "execution_count": 329,
   "id": "10846b91",
   "metadata": {},
   "outputs": [
    {
     "data": {
      "text/plain": [
       "0.832825"
      ]
     },
     "execution_count": 329,
     "metadata": {},
     "output_type": "execute_result"
    }
   ],
   "source": [
    "accuracy_tf_perceptron"
   ]
  },
  {
   "cell_type": "code",
   "execution_count": 331,
   "id": "5e19c14f",
   "metadata": {},
   "outputs": [],
   "source": [
    "svc = LinearSVC()\n",
    "svc.fit(x_train, y_train)\n",
    "y_test_predict = svc.predict(x_test)"
   ]
  },
  {
   "cell_type": "code",
   "execution_count": 332,
   "id": "97e132f7",
   "metadata": {},
   "outputs": [],
   "source": [
    "report_test = classification_report(y_test,y_test_predict,output_dict=True)"
   ]
  },
  {
   "cell_type": "code",
   "execution_count": 333,
   "id": "6fbac1f5",
   "metadata": {},
   "outputs": [],
   "source": [
    "accuracy_tf_svc = report_test['accuracy']"
   ]
  },
  {
   "cell_type": "code",
   "execution_count": 334,
   "id": "dbe0ab01",
   "metadata": {},
   "outputs": [
    {
     "data": {
      "text/plain": [
       "0.874675"
      ]
     },
     "execution_count": 334,
     "metadata": {},
     "output_type": "execute_result"
    }
   ],
   "source": [
    "accuracy_tf_svc"
   ]
  },
  {
   "cell_type": "code",
   "execution_count": 336,
   "id": "20b01f3d",
   "metadata": {},
   "outputs": [],
   "source": [
    "logistic = LogisticRegression(random_state=0,max_iter = 300).fit(x_train, y_train)\n",
    "y_test_predict = logistic.predict(x_test)"
   ]
  },
  {
   "cell_type": "code",
   "execution_count": 337,
   "id": "aeae483d",
   "metadata": {},
   "outputs": [],
   "source": [
    "report_test = classification_report(y_test,y_test_predict,output_dict=True)"
   ]
  },
  {
   "cell_type": "code",
   "execution_count": 338,
   "id": "1a3165b7",
   "metadata": {},
   "outputs": [],
   "source": [
    "accuracy_tf_log = report_test['accuracy']"
   ]
  },
  {
   "cell_type": "code",
   "execution_count": 339,
   "id": "f5be2654",
   "metadata": {},
   "outputs": [
    {
     "data": {
      "text/plain": [
       "0.878375"
      ]
     },
     "execution_count": 339,
     "metadata": {},
     "output_type": "execute_result"
    }
   ],
   "source": [
    "accuracy_tf_log"
   ]
  },
  {
   "cell_type": "code",
   "execution_count": 353,
   "id": "d4ce01f5",
   "metadata": {},
   "outputs": [],
   "source": [
    "compare = {'perceptron':[mymodel_perceptron_report['accuracy'],opm_model_perceptron_report['accuracy'],accuracy_tf_perceptron]\\\n",
    "          ,'svm':[mymodel_svm_report['accuracy'],opm_svc_report['accuracy'],accuracy_tf_svc]\\\n",
    "          ,'logistic':[mymodel_log_report['accuracy'],opm_log_report['accuracy'],accuracy_tf_log]}"
   ]
  },
  {
   "cell_type": "code",
   "execution_count": 357,
   "id": "974452ab",
   "metadata": {},
   "outputs": [
    {
     "data": {
      "text/html": [
       "<div>\n",
       "<style scoped>\n",
       "    .dataframe tbody tr th:only-of-type {\n",
       "        vertical-align: middle;\n",
       "    }\n",
       "\n",
       "    .dataframe tbody tr th {\n",
       "        vertical-align: top;\n",
       "    }\n",
       "\n",
       "    .dataframe thead th {\n",
       "        text-align: right;\n",
       "    }\n",
       "</style>\n",
       "<table border=\"1\" class=\"dataframe\">\n",
       "  <thead>\n",
       "    <tr style=\"text-align: right;\">\n",
       "      <th></th>\n",
       "      <th>perceptron</th>\n",
       "      <th>svm</th>\n",
       "      <th>logistic</th>\n",
       "    </tr>\n",
       "  </thead>\n",
       "  <tbody>\n",
       "    <tr>\n",
       "      <th>my model accuracy</th>\n",
       "      <td>0.771825</td>\n",
       "      <td>0.771825</td>\n",
       "      <td>0.795125</td>\n",
       "    </tr>\n",
       "    <tr>\n",
       "      <th>google news accuracy</th>\n",
       "      <td>0.773875</td>\n",
       "      <td>0.773875</td>\n",
       "      <td>0.773875</td>\n",
       "    </tr>\n",
       "    <tr>\n",
       "      <th>TF-IDF accuracy</th>\n",
       "      <td>0.832825</td>\n",
       "      <td>0.874675</td>\n",
       "      <td>0.878375</td>\n",
       "    </tr>\n",
       "  </tbody>\n",
       "</table>\n",
       "</div>"
      ],
      "text/plain": [
       "                      perceptron       svm  logistic\n",
       "my model accuracy       0.771825  0.771825  0.795125\n",
       "google news accuracy    0.773875  0.773875  0.773875\n",
       "TF-IDF accuracy         0.832825  0.874675  0.878375"
      ]
     },
     "execution_count": 357,
     "metadata": {},
     "output_type": "execute_result"
    }
   ],
   "source": [
    "pd.DataFrame(compare,index=['my model accuracy','google news accuracy','TF-IDF accuracy'])"
   ]
  },
  {
   "cell_type": "markdown",
   "id": "f50837db",
   "metadata": {},
   "source": [
    "# Conlusion: I think TF-IDF has the best accuracy among all the ML methods."
   ]
  }
 ],
 "metadata": {
  "kernelspec": {
   "display_name": "Python 3",
   "language": "python",
   "name": "python3"
  },
  "language_info": {
   "codemirror_mode": {
    "name": "ipython",
    "version": 3
   },
   "file_extension": ".py",
   "mimetype": "text/x-python",
   "name": "python",
   "nbconvert_exporter": "python",
   "pygments_lexer": "ipython3",
   "version": "3.7.10"
  }
 },
 "nbformat": 4,
 "nbformat_minor": 5
}
