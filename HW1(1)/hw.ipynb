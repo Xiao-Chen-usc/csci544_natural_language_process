{
 "cells": [
  {
   "cell_type": "code",
   "execution_count": 1,
   "id": "b27c0dc9",
   "metadata": {},
   "outputs": [],
   "source": [
    "import re\n",
    "import contractions\n",
    "import numpy"
   ]
  },
  {
   "cell_type": "code",
   "execution_count": 2,
   "id": "da3029d6",
   "metadata": {},
   "outputs": [],
   "source": [
    "real = 'https://s3.amazonaws.com/amazon-reviews-pds/tsv/amazon_reviews_us_Kitchen_v1_00.tsv.gz'\n"
   ]
  },
  {
   "cell_type": "code",
   "execution_count": 3,
   "id": "dc3c8bd1",
   "metadata": {},
   "outputs": [],
   "source": [
    "fack = 'https://s3.amazonaws.com/amazon-reviews-pds/tsv/amazon_reviews_us_Kitchen_v1_00.tsv.gz'"
   ]
  },
  {
   "cell_type": "code",
   "execution_count": 4,
   "id": "74cf47d4",
   "metadata": {},
   "outputs": [
    {
     "name": "stdout",
     "output_type": "stream",
     "text": [
      "hhh\n"
     ]
    }
   ],
   "source": [
    "if real == fack:\n",
    "    print('hhh')"
   ]
  },
  {
   "cell_type": "code",
   "execution_count": 5,
   "id": "4096e22b",
   "metadata": {},
   "outputs": [],
   "source": [
    "import pandas as pd"
   ]
  },
  {
   "cell_type": "code",
   "execution_count": 6,
   "id": "5372c760",
   "metadata": {},
   "outputs": [
    {
     "name": "stderr",
     "output_type": "stream",
     "text": [
      "b'Skipping line 16148: expected 15 fields, saw 22\\nSkipping line 20100: expected 15 fields, saw 22\\nSkipping line 45178: expected 15 fields, saw 22\\nSkipping line 48700: expected 15 fields, saw 22\\nSkipping line 63331: expected 15 fields, saw 22\\n'\n",
      "b'Skipping line 86053: expected 15 fields, saw 22\\nSkipping line 88858: expected 15 fields, saw 22\\nSkipping line 115017: expected 15 fields, saw 22\\n'\n",
      "b'Skipping line 137366: expected 15 fields, saw 22\\nSkipping line 139110: expected 15 fields, saw 22\\nSkipping line 165540: expected 15 fields, saw 22\\nSkipping line 171813: expected 15 fields, saw 22\\n'\n",
      "b'Skipping line 203723: expected 15 fields, saw 22\\nSkipping line 209366: expected 15 fields, saw 22\\nSkipping line 211310: expected 15 fields, saw 22\\nSkipping line 246351: expected 15 fields, saw 22\\nSkipping line 252364: expected 15 fields, saw 22\\n'\n",
      "b'Skipping line 267003: expected 15 fields, saw 22\\nSkipping line 268957: expected 15 fields, saw 22\\nSkipping line 303336: expected 15 fields, saw 22\\nSkipping line 306021: expected 15 fields, saw 22\\nSkipping line 311569: expected 15 fields, saw 22\\nSkipping line 316767: expected 15 fields, saw 22\\nSkipping line 324009: expected 15 fields, saw 22\\n'\n",
      "b'Skipping line 359107: expected 15 fields, saw 22\\nSkipping line 368367: expected 15 fields, saw 22\\nSkipping line 381180: expected 15 fields, saw 22\\nSkipping line 390453: expected 15 fields, saw 22\\n'\n",
      "b'Skipping line 412243: expected 15 fields, saw 22\\nSkipping line 419342: expected 15 fields, saw 22\\nSkipping line 457388: expected 15 fields, saw 22\\n'\n",
      "b'Skipping line 459935: expected 15 fields, saw 22\\nSkipping line 460167: expected 15 fields, saw 22\\nSkipping line 466460: expected 15 fields, saw 22\\nSkipping line 500314: expected 15 fields, saw 22\\nSkipping line 500339: expected 15 fields, saw 22\\nSkipping line 505396: expected 15 fields, saw 22\\nSkipping line 507760: expected 15 fields, saw 22\\nSkipping line 513626: expected 15 fields, saw 22\\n'\n",
      "b'Skipping line 527638: expected 15 fields, saw 22\\nSkipping line 534209: expected 15 fields, saw 22\\nSkipping line 535687: expected 15 fields, saw 22\\nSkipping line 547671: expected 15 fields, saw 22\\nSkipping line 549054: expected 15 fields, saw 22\\n'\n",
      "b'Skipping line 599929: expected 15 fields, saw 22\\nSkipping line 604776: expected 15 fields, saw 22\\nSkipping line 609937: expected 15 fields, saw 22\\nSkipping line 632059: expected 15 fields, saw 22\\nSkipping line 638546: expected 15 fields, saw 22\\n'\n",
      "b'Skipping line 665017: expected 15 fields, saw 22\\nSkipping line 677680: expected 15 fields, saw 22\\nSkipping line 684370: expected 15 fields, saw 22\\nSkipping line 720217: expected 15 fields, saw 29\\n'\n",
      "b'Skipping line 723240: expected 15 fields, saw 22\\nSkipping line 723433: expected 15 fields, saw 22\\nSkipping line 763891: expected 15 fields, saw 22\\n'\n",
      "b'Skipping line 800288: expected 15 fields, saw 22\\nSkipping line 802942: expected 15 fields, saw 22\\nSkipping line 803379: expected 15 fields, saw 22\\nSkipping line 805122: expected 15 fields, saw 22\\nSkipping line 821899: expected 15 fields, saw 22\\nSkipping line 831707: expected 15 fields, saw 22\\nSkipping line 842829: expected 15 fields, saw 22\\nSkipping line 843604: expected 15 fields, saw 22\\n'\n",
      "b'Skipping line 863904: expected 15 fields, saw 22\\nSkipping line 875655: expected 15 fields, saw 22\\nSkipping line 886796: expected 15 fields, saw 22\\nSkipping line 892299: expected 15 fields, saw 22\\nSkipping line 902518: expected 15 fields, saw 22\\nSkipping line 903079: expected 15 fields, saw 22\\nSkipping line 912678: expected 15 fields, saw 22\\n'\n",
      "b'Skipping line 932953: expected 15 fields, saw 22\\nSkipping line 936838: expected 15 fields, saw 22\\nSkipping line 937177: expected 15 fields, saw 22\\nSkipping line 947695: expected 15 fields, saw 22\\nSkipping line 960713: expected 15 fields, saw 22\\nSkipping line 965225: expected 15 fields, saw 22\\nSkipping line 980776: expected 15 fields, saw 22\\n'\n",
      "b'Skipping line 999318: expected 15 fields, saw 22\\nSkipping line 1007247: expected 15 fields, saw 22\\nSkipping line 1015987: expected 15 fields, saw 22\\nSkipping line 1018984: expected 15 fields, saw 22\\nSkipping line 1028671: expected 15 fields, saw 22\\n'\n",
      "b'Skipping line 1063360: expected 15 fields, saw 22\\nSkipping line 1066195: expected 15 fields, saw 22\\nSkipping line 1066578: expected 15 fields, saw 22\\nSkipping line 1066869: expected 15 fields, saw 22\\nSkipping line 1068809: expected 15 fields, saw 22\\nSkipping line 1069505: expected 15 fields, saw 22\\nSkipping line 1087983: expected 15 fields, saw 22\\nSkipping line 1108184: expected 15 fields, saw 22\\n'\n",
      "b'Skipping line 1118137: expected 15 fields, saw 22\\nSkipping line 1142723: expected 15 fields, saw 22\\nSkipping line 1152492: expected 15 fields, saw 22\\nSkipping line 1156947: expected 15 fields, saw 22\\nSkipping line 1172563: expected 15 fields, saw 22\\n'\n",
      "b'Skipping line 1209254: expected 15 fields, saw 22\\nSkipping line 1212966: expected 15 fields, saw 22\\nSkipping line 1236533: expected 15 fields, saw 22\\nSkipping line 1237598: expected 15 fields, saw 22\\n'\n",
      "b'Skipping line 1273825: expected 15 fields, saw 22\\nSkipping line 1277898: expected 15 fields, saw 22\\nSkipping line 1283654: expected 15 fields, saw 22\\nSkipping line 1286023: expected 15 fields, saw 22\\nSkipping line 1302038: expected 15 fields, saw 22\\nSkipping line 1305179: expected 15 fields, saw 22\\n'\n",
      "b'Skipping line 1326022: expected 15 fields, saw 22\\nSkipping line 1338120: expected 15 fields, saw 22\\nSkipping line 1338503: expected 15 fields, saw 22\\nSkipping line 1338849: expected 15 fields, saw 22\\nSkipping line 1341513: expected 15 fields, saw 22\\nSkipping line 1346493: expected 15 fields, saw 22\\nSkipping line 1373127: expected 15 fields, saw 22\\n'\n",
      "b'Skipping line 1389508: expected 15 fields, saw 22\\nSkipping line 1413951: expected 15 fields, saw 22\\nSkipping line 1433626: expected 15 fields, saw 22\\n'\n",
      "b'Skipping line 1442698: expected 15 fields, saw 22\\nSkipping line 1472982: expected 15 fields, saw 22\\nSkipping line 1482282: expected 15 fields, saw 22\\nSkipping line 1487808: expected 15 fields, saw 22\\nSkipping line 1500636: expected 15 fields, saw 22\\n'\n",
      "b'Skipping line 1511479: expected 15 fields, saw 22\\nSkipping line 1532302: expected 15 fields, saw 22\\nSkipping line 1537952: expected 15 fields, saw 22\\nSkipping line 1539951: expected 15 fields, saw 22\\nSkipping line 1541020: expected 15 fields, saw 22\\n'\n",
      "b'Skipping line 1594217: expected 15 fields, saw 22\\nSkipping line 1612264: expected 15 fields, saw 22\\nSkipping line 1615907: expected 15 fields, saw 22\\nSkipping line 1621859: expected 15 fields, saw 22\\n'\n",
      "b'Skipping line 1653542: expected 15 fields, saw 22\\nSkipping line 1671537: expected 15 fields, saw 22\\nSkipping line 1672879: expected 15 fields, saw 22\\nSkipping line 1674523: expected 15 fields, saw 22\\nSkipping line 1677355: expected 15 fields, saw 22\\nSkipping line 1703907: expected 15 fields, saw 22\\n'\n",
      "b'Skipping line 1713046: expected 15 fields, saw 22\\nSkipping line 1722982: expected 15 fields, saw 22\\nSkipping line 1727290: expected 15 fields, saw 22\\nSkipping line 1744482: expected 15 fields, saw 22\\n'\n",
      "b'Skipping line 1803858: expected 15 fields, saw 22\\nSkipping line 1810069: expected 15 fields, saw 22\\nSkipping line 1829751: expected 15 fields, saw 22\\nSkipping line 1831699: expected 15 fields, saw 22\\n'\n",
      "b'Skipping line 1863131: expected 15 fields, saw 22\\nSkipping line 1867917: expected 15 fields, saw 22\\nSkipping line 1874790: expected 15 fields, saw 22\\nSkipping line 1879952: expected 15 fields, saw 22\\nSkipping line 1880501: expected 15 fields, saw 22\\nSkipping line 1886655: expected 15 fields, saw 22\\nSkipping line 1887888: expected 15 fields, saw 22\\nSkipping line 1894286: expected 15 fields, saw 22\\nSkipping line 1895400: expected 15 fields, saw 22\\n'\n",
      "b'Skipping line 1904040: expected 15 fields, saw 22\\nSkipping line 1907604: expected 15 fields, saw 22\\nSkipping line 1915739: expected 15 fields, saw 22\\nSkipping line 1921514: expected 15 fields, saw 22\\nSkipping line 1939428: expected 15 fields, saw 22\\nSkipping line 1944342: expected 15 fields, saw 22\\nSkipping line 1949699: expected 15 fields, saw 22\\nSkipping line 1961872: expected 15 fields, saw 22\\n'\n"
     ]
    },
    {
     "name": "stderr",
     "output_type": "stream",
     "text": [
      "b'Skipping line 1968846: expected 15 fields, saw 22\\nSkipping line 1999941: expected 15 fields, saw 22\\nSkipping line 2001492: expected 15 fields, saw 22\\nSkipping line 2011204: expected 15 fields, saw 22\\nSkipping line 2025295: expected 15 fields, saw 22\\n'\n",
      "b'Skipping line 2041266: expected 15 fields, saw 22\\nSkipping line 2073314: expected 15 fields, saw 22\\nSkipping line 2080133: expected 15 fields, saw 22\\nSkipping line 2088521: expected 15 fields, saw 22\\n'\n",
      "b'Skipping line 2103490: expected 15 fields, saw 22\\nSkipping line 2115278: expected 15 fields, saw 22\\nSkipping line 2153174: expected 15 fields, saw 22\\nSkipping line 2161731: expected 15 fields, saw 22\\n'\n",
      "b'Skipping line 2165250: expected 15 fields, saw 22\\nSkipping line 2175132: expected 15 fields, saw 22\\nSkipping line 2206817: expected 15 fields, saw 22\\nSkipping line 2215848: expected 15 fields, saw 22\\nSkipping line 2223811: expected 15 fields, saw 22\\n'\n",
      "b'Skipping line 2257265: expected 15 fields, saw 22\\nSkipping line 2259163: expected 15 fields, saw 22\\nSkipping line 2263291: expected 15 fields, saw 22\\n'\n",
      "b'Skipping line 2301943: expected 15 fields, saw 22\\nSkipping line 2304371: expected 15 fields, saw 22\\nSkipping line 2306015: expected 15 fields, saw 22\\nSkipping line 2312186: expected 15 fields, saw 22\\nSkipping line 2314740: expected 15 fields, saw 22\\nSkipping line 2317754: expected 15 fields, saw 22\\n'\n",
      "b'Skipping line 2383514: expected 15 fields, saw 22\\n'\n",
      "b'Skipping line 2449763: expected 15 fields, saw 22\\n'\n",
      "b'Skipping line 2589323: expected 15 fields, saw 22\\n'\n",
      "b'Skipping line 2775036: expected 15 fields, saw 22\\n'\n",
      "b'Skipping line 2935174: expected 15 fields, saw 22\\n'\n",
      "b'Skipping line 3078830: expected 15 fields, saw 22\\n'\n",
      "b'Skipping line 3123091: expected 15 fields, saw 22\\n'\n",
      "b'Skipping line 3185533: expected 15 fields, saw 22\\n'\n",
      "b'Skipping line 4150395: expected 15 fields, saw 22\\n'\n",
      "b'Skipping line 4748401: expected 15 fields, saw 22\\n'\n"
     ]
    }
   ],
   "source": [
    "test = pd.read_csv(\"amazon_reviews_us_Kitchen_v1_00.tsv\", sep = '\\t',error_bad_lines = False)"
   ]
  },
  {
   "cell_type": "code",
   "execution_count": null,
   "id": "a0548535",
   "metadata": {},
   "outputs": [],
   "source": []
  },
  {
   "cell_type": "code",
   "execution_count": 7,
   "id": "650320f5",
   "metadata": {},
   "outputs": [],
   "source": [
    "test['label'] = -1"
   ]
  },
  {
   "cell_type": "code",
   "execution_count": 8,
   "id": "afadfa11",
   "metadata": {},
   "outputs": [
    {
     "data": {
      "text/html": [
       "<div>\n",
       "<style scoped>\n",
       "    .dataframe tbody tr th:only-of-type {\n",
       "        vertical-align: middle;\n",
       "    }\n",
       "\n",
       "    .dataframe tbody tr th {\n",
       "        vertical-align: top;\n",
       "    }\n",
       "\n",
       "    .dataframe thead th {\n",
       "        text-align: right;\n",
       "    }\n",
       "</style>\n",
       "<table border=\"1\" class=\"dataframe\">\n",
       "  <thead>\n",
       "    <tr style=\"text-align: right;\">\n",
       "      <th></th>\n",
       "      <th>marketplace</th>\n",
       "      <th>customer_id</th>\n",
       "      <th>review_id</th>\n",
       "      <th>product_id</th>\n",
       "      <th>product_parent</th>\n",
       "      <th>product_title</th>\n",
       "      <th>product_category</th>\n",
       "      <th>star_rating</th>\n",
       "      <th>helpful_votes</th>\n",
       "      <th>total_votes</th>\n",
       "      <th>vine</th>\n",
       "      <th>verified_purchase</th>\n",
       "      <th>review_headline</th>\n",
       "      <th>review_body</th>\n",
       "      <th>review_date</th>\n",
       "      <th>label</th>\n",
       "    </tr>\n",
       "  </thead>\n",
       "  <tbody>\n",
       "    <tr>\n",
       "      <th>0</th>\n",
       "      <td>US</td>\n",
       "      <td>37000337</td>\n",
       "      <td>R3DT59XH7HXR9K</td>\n",
       "      <td>B00303FI0G</td>\n",
       "      <td>529320574</td>\n",
       "      <td>Arthur Court Paper Towel Holder</td>\n",
       "      <td>Kitchen</td>\n",
       "      <td>5.0</td>\n",
       "      <td>0.0</td>\n",
       "      <td>0.0</td>\n",
       "      <td>N</td>\n",
       "      <td>Y</td>\n",
       "      <td>Beautiful. Looks great on counter</td>\n",
       "      <td>Beautiful.  Looks great on counter.</td>\n",
       "      <td>2015-08-31</td>\n",
       "      <td>-1</td>\n",
       "    </tr>\n",
       "    <tr>\n",
       "      <th>1</th>\n",
       "      <td>US</td>\n",
       "      <td>15272914</td>\n",
       "      <td>R1LFS11BNASSU8</td>\n",
       "      <td>B00JCZKZN6</td>\n",
       "      <td>274237558</td>\n",
       "      <td>Olde Thompson Bavaria Glass Salt and Pepper Mi...</td>\n",
       "      <td>Kitchen</td>\n",
       "      <td>5.0</td>\n",
       "      <td>0.0</td>\n",
       "      <td>1.0</td>\n",
       "      <td>N</td>\n",
       "      <td>Y</td>\n",
       "      <td>Awesome &amp; Self-ness</td>\n",
       "      <td>I personally have 5 days sets and have also bo...</td>\n",
       "      <td>2015-08-31</td>\n",
       "      <td>-1</td>\n",
       "    </tr>\n",
       "    <tr>\n",
       "      <th>2</th>\n",
       "      <td>US</td>\n",
       "      <td>36137863</td>\n",
       "      <td>R296RT05AG0AF6</td>\n",
       "      <td>B00JLIKA5C</td>\n",
       "      <td>544675303</td>\n",
       "      <td>Progressive International PL8 Professional Man...</td>\n",
       "      <td>Kitchen</td>\n",
       "      <td>5.0</td>\n",
       "      <td>0.0</td>\n",
       "      <td>0.0</td>\n",
       "      <td>N</td>\n",
       "      <td>Y</td>\n",
       "      <td>Fabulous and worth every penny</td>\n",
       "      <td>Fabulous and worth every penny. Used for clean...</td>\n",
       "      <td>2015-08-31</td>\n",
       "      <td>-1</td>\n",
       "    </tr>\n",
       "    <tr>\n",
       "      <th>3</th>\n",
       "      <td>US</td>\n",
       "      <td>43311049</td>\n",
       "      <td>R3V37XDZ7ZCI3L</td>\n",
       "      <td>B000GBNB8G</td>\n",
       "      <td>491599489</td>\n",
       "      <td>Zyliss Jumbo Garlic Press</td>\n",
       "      <td>Kitchen</td>\n",
       "      <td>5.0</td>\n",
       "      <td>0.0</td>\n",
       "      <td>1.0</td>\n",
       "      <td>N</td>\n",
       "      <td>Y</td>\n",
       "      <td>Five Stars</td>\n",
       "      <td>A must if you love garlic on tomato marinara s...</td>\n",
       "      <td>2015-08-31</td>\n",
       "      <td>-1</td>\n",
       "    </tr>\n",
       "    <tr>\n",
       "      <th>4</th>\n",
       "      <td>US</td>\n",
       "      <td>13763148</td>\n",
       "      <td>R14GU232NQFYX2</td>\n",
       "      <td>B00VJ5KX9S</td>\n",
       "      <td>353790155</td>\n",
       "      <td>1 X Premier Pizza Cutter - Stainless Steel 14\"...</td>\n",
       "      <td>Kitchen</td>\n",
       "      <td>5.0</td>\n",
       "      <td>0.0</td>\n",
       "      <td>0.0</td>\n",
       "      <td>N</td>\n",
       "      <td>Y</td>\n",
       "      <td>Better than sex</td>\n",
       "      <td>Worth every penny! Buy one now and be a pizza ...</td>\n",
       "      <td>2015-08-31</td>\n",
       "      <td>-1</td>\n",
       "    </tr>\n",
       "    <tr>\n",
       "      <th>...</th>\n",
       "      <td>...</td>\n",
       "      <td>...</td>\n",
       "      <td>...</td>\n",
       "      <td>...</td>\n",
       "      <td>...</td>\n",
       "      <td>...</td>\n",
       "      <td>...</td>\n",
       "      <td>...</td>\n",
       "      <td>...</td>\n",
       "      <td>...</td>\n",
       "      <td>...</td>\n",
       "      <td>...</td>\n",
       "      <td>...</td>\n",
       "      <td>...</td>\n",
       "      <td>...</td>\n",
       "      <td>...</td>\n",
       "    </tr>\n",
       "    <tr>\n",
       "      <th>4874885</th>\n",
       "      <td>US</td>\n",
       "      <td>51094108</td>\n",
       "      <td>R22DLC2P26MUMR</td>\n",
       "      <td>B00004SBGS</td>\n",
       "      <td>732420532</td>\n",
       "      <td>Le Creuset Enameled Cast-Iron 6-3/4-Quart Oval...</td>\n",
       "      <td>Kitchen</td>\n",
       "      <td>4.0</td>\n",
       "      <td>30.0</td>\n",
       "      <td>41.0</td>\n",
       "      <td>N</td>\n",
       "      <td>N</td>\n",
       "      <td>Not as sturdy as you'd think.</td>\n",
       "      <td>After a month of heavy use, primarily as a chi...</td>\n",
       "      <td>2000-04-28</td>\n",
       "      <td>-1</td>\n",
       "    </tr>\n",
       "    <tr>\n",
       "      <th>4874886</th>\n",
       "      <td>US</td>\n",
       "      <td>50562512</td>\n",
       "      <td>R1N6KLTENLQOMT</td>\n",
       "      <td>B00004SBIA</td>\n",
       "      <td>261705371</td>\n",
       "      <td>Le Creuset Enameled Cast-Iron 2-Quart Heart Ca...</td>\n",
       "      <td>Kitchen</td>\n",
       "      <td>5.0</td>\n",
       "      <td>84.0</td>\n",
       "      <td>92.0</td>\n",
       "      <td>N</td>\n",
       "      <td>N</td>\n",
       "      <td>A Sweetheart of A Pan</td>\n",
       "      <td>I've used my Le Creuset enameled cast iron coo...</td>\n",
       "      <td>2000-04-28</td>\n",
       "      <td>-1</td>\n",
       "    </tr>\n",
       "    <tr>\n",
       "      <th>4874887</th>\n",
       "      <td>US</td>\n",
       "      <td>52469742</td>\n",
       "      <td>R10TW4QXDV8KJC</td>\n",
       "      <td>B00004SPEF</td>\n",
       "      <td>191184892</td>\n",
       "      <td>Krups 358-70 La Glaciere Ice Cream Maker</td>\n",
       "      <td>Kitchen</td>\n",
       "      <td>4.0</td>\n",
       "      <td>55.0</td>\n",
       "      <td>60.0</td>\n",
       "      <td>N</td>\n",
       "      <td>N</td>\n",
       "      <td>Ice Cream Like a Dream</td>\n",
       "      <td>According to my wife, this is \\\\\"the best birt...</td>\n",
       "      <td>2000-04-28</td>\n",
       "      <td>-1</td>\n",
       "    </tr>\n",
       "    <tr>\n",
       "      <th>4874888</th>\n",
       "      <td>US</td>\n",
       "      <td>51865238</td>\n",
       "      <td>R41RL2U1FSQ4V</td>\n",
       "      <td>B00004RHR6</td>\n",
       "      <td>912491903</td>\n",
       "      <td>Hoffritz Stainless-Steel Manual Can Opener</td>\n",
       "      <td>Kitchen</td>\n",
       "      <td>4.0</td>\n",
       "      <td>30.0</td>\n",
       "      <td>42.0</td>\n",
       "      <td>N</td>\n",
       "      <td>N</td>\n",
       "      <td>Opens anything and everything</td>\n",
       "      <td>Hoffritz has a name of producing a trendy and ...</td>\n",
       "      <td>2000-04-24</td>\n",
       "      <td>-1</td>\n",
       "    </tr>\n",
       "    <tr>\n",
       "      <th>4874889</th>\n",
       "      <td>US</td>\n",
       "      <td>52900320</td>\n",
       "      <td>R1NHMPKSJG2E37</td>\n",
       "      <td>B0000021VO</td>\n",
       "      <td>41913389</td>\n",
       "      <td>Tammy Rogers</td>\n",
       "      <td>Kitchen</td>\n",
       "      <td>5.0</td>\n",
       "      <td>5.0</td>\n",
       "      <td>5.0</td>\n",
       "      <td>N</td>\n",
       "      <td>N</td>\n",
       "      <td>The more you listen, the more you hear...</td>\n",
       "      <td>OK. I was late to snap to the Dead Reckoners. ...</td>\n",
       "      <td>2000-01-20</td>\n",
       "      <td>-1</td>\n",
       "    </tr>\n",
       "  </tbody>\n",
       "</table>\n",
       "<p>4874890 rows × 16 columns</p>\n",
       "</div>"
      ],
      "text/plain": [
       "        marketplace  customer_id       review_id  product_id  product_parent  \\\n",
       "0                US     37000337  R3DT59XH7HXR9K  B00303FI0G       529320574   \n",
       "1                US     15272914  R1LFS11BNASSU8  B00JCZKZN6       274237558   \n",
       "2                US     36137863  R296RT05AG0AF6  B00JLIKA5C       544675303   \n",
       "3                US     43311049  R3V37XDZ7ZCI3L  B000GBNB8G       491599489   \n",
       "4                US     13763148  R14GU232NQFYX2  B00VJ5KX9S       353790155   \n",
       "...             ...          ...             ...         ...             ...   \n",
       "4874885          US     51094108  R22DLC2P26MUMR  B00004SBGS       732420532   \n",
       "4874886          US     50562512  R1N6KLTENLQOMT  B00004SBIA       261705371   \n",
       "4874887          US     52469742  R10TW4QXDV8KJC  B00004SPEF       191184892   \n",
       "4874888          US     51865238   R41RL2U1FSQ4V  B00004RHR6       912491903   \n",
       "4874889          US     52900320  R1NHMPKSJG2E37  B0000021VO        41913389   \n",
       "\n",
       "                                             product_title product_category  \\\n",
       "0                          Arthur Court Paper Towel Holder          Kitchen   \n",
       "1        Olde Thompson Bavaria Glass Salt and Pepper Mi...          Kitchen   \n",
       "2        Progressive International PL8 Professional Man...          Kitchen   \n",
       "3                                Zyliss Jumbo Garlic Press          Kitchen   \n",
       "4        1 X Premier Pizza Cutter - Stainless Steel 14\"...          Kitchen   \n",
       "...                                                    ...              ...   \n",
       "4874885  Le Creuset Enameled Cast-Iron 6-3/4-Quart Oval...          Kitchen   \n",
       "4874886  Le Creuset Enameled Cast-Iron 2-Quart Heart Ca...          Kitchen   \n",
       "4874887           Krups 358-70 La Glaciere Ice Cream Maker          Kitchen   \n",
       "4874888         Hoffritz Stainless-Steel Manual Can Opener          Kitchen   \n",
       "4874889                                       Tammy Rogers          Kitchen   \n",
       "\n",
       "         star_rating  helpful_votes  total_votes vine verified_purchase  \\\n",
       "0                5.0            0.0          0.0    N                 Y   \n",
       "1                5.0            0.0          1.0    N                 Y   \n",
       "2                5.0            0.0          0.0    N                 Y   \n",
       "3                5.0            0.0          1.0    N                 Y   \n",
       "4                5.0            0.0          0.0    N                 Y   \n",
       "...              ...            ...          ...  ...               ...   \n",
       "4874885          4.0           30.0         41.0    N                 N   \n",
       "4874886          5.0           84.0         92.0    N                 N   \n",
       "4874887          4.0           55.0         60.0    N                 N   \n",
       "4874888          4.0           30.0         42.0    N                 N   \n",
       "4874889          5.0            5.0          5.0    N                 N   \n",
       "\n",
       "                                   review_headline  \\\n",
       "0                Beautiful. Looks great on counter   \n",
       "1                              Awesome & Self-ness   \n",
       "2                   Fabulous and worth every penny   \n",
       "3                                       Five Stars   \n",
       "4                                  Better than sex   \n",
       "...                                            ...   \n",
       "4874885              Not as sturdy as you'd think.   \n",
       "4874886                      A Sweetheart of A Pan   \n",
       "4874887                     Ice Cream Like a Dream   \n",
       "4874888              Opens anything and everything   \n",
       "4874889  The more you listen, the more you hear...   \n",
       "\n",
       "                                               review_body review_date  label  \n",
       "0                      Beautiful.  Looks great on counter.  2015-08-31     -1  \n",
       "1        I personally have 5 days sets and have also bo...  2015-08-31     -1  \n",
       "2        Fabulous and worth every penny. Used for clean...  2015-08-31     -1  \n",
       "3        A must if you love garlic on tomato marinara s...  2015-08-31     -1  \n",
       "4        Worth every penny! Buy one now and be a pizza ...  2015-08-31     -1  \n",
       "...                                                    ...         ...    ...  \n",
       "4874885  After a month of heavy use, primarily as a chi...  2000-04-28     -1  \n",
       "4874886  I've used my Le Creuset enameled cast iron coo...  2000-04-28     -1  \n",
       "4874887  According to my wife, this is \\\\\"the best birt...  2000-04-28     -1  \n",
       "4874888  Hoffritz has a name of producing a trendy and ...  2000-04-24     -1  \n",
       "4874889  OK. I was late to snap to the Dead Reckoners. ...  2000-01-20     -1  \n",
       "\n",
       "[4874890 rows x 16 columns]"
      ]
     },
     "execution_count": 8,
     "metadata": {},
     "output_type": "execute_result"
    }
   ],
   "source": [
    "test"
   ]
  },
  {
   "cell_type": "code",
   "execution_count": 9,
   "id": "d317ff62",
   "metadata": {},
   "outputs": [
    {
     "name": "stderr",
     "output_type": "stream",
     "text": [
      "/opt/anaconda3/lib/python3.7/site-packages/ipykernel_launcher.py:1: SettingWithCopyWarning: \n",
      "A value is trying to be set on a copy of a slice from a DataFrame\n",
      "\n",
      "See the caveats in the documentation: https://pandas.pydata.org/pandas-docs/stable/user_guide/indexing.html#returning-a-view-versus-a-copy\n",
      "  \"\"\"Entry point for launching an IPython kernel.\n"
     ]
    }
   ],
   "source": [
    "test.label[test.star_rating>3] = 1"
   ]
  },
  {
   "cell_type": "code",
   "execution_count": 10,
   "id": "c639e816",
   "metadata": {},
   "outputs": [
    {
     "name": "stderr",
     "output_type": "stream",
     "text": [
      "/opt/anaconda3/lib/python3.7/site-packages/ipykernel_launcher.py:1: SettingWithCopyWarning: \n",
      "A value is trying to be set on a copy of a slice from a DataFrame\n",
      "\n",
      "See the caveats in the documentation: https://pandas.pydata.org/pandas-docs/stable/user_guide/indexing.html#returning-a-view-versus-a-copy\n",
      "  \"\"\"Entry point for launching an IPython kernel.\n"
     ]
    }
   ],
   "source": [
    "test.label[test.star_rating<3] = 0"
   ]
  },
  {
   "cell_type": "code",
   "execution_count": 11,
   "id": "31250e33",
   "metadata": {},
   "outputs": [],
   "source": [
    "test = test[['label','review_body']]"
   ]
  },
  {
   "cell_type": "code",
   "execution_count": 12,
   "id": "320ec3ab",
   "metadata": {},
   "outputs": [
    {
     "data": {
      "text/html": [
       "<div>\n",
       "<style scoped>\n",
       "    .dataframe tbody tr th:only-of-type {\n",
       "        vertical-align: middle;\n",
       "    }\n",
       "\n",
       "    .dataframe tbody tr th {\n",
       "        vertical-align: top;\n",
       "    }\n",
       "\n",
       "    .dataframe thead th {\n",
       "        text-align: right;\n",
       "    }\n",
       "</style>\n",
       "<table border=\"1\" class=\"dataframe\">\n",
       "  <thead>\n",
       "    <tr style=\"text-align: right;\">\n",
       "      <th></th>\n",
       "      <th>review_body</th>\n",
       "    </tr>\n",
       "    <tr>\n",
       "      <th>label</th>\n",
       "      <th></th>\n",
       "    </tr>\n",
       "  </thead>\n",
       "  <tbody>\n",
       "    <tr>\n",
       "      <th>-1</th>\n",
       "      <td>349539</td>\n",
       "    </tr>\n",
       "    <tr>\n",
       "      <th>0</th>\n",
       "      <td>668809</td>\n",
       "    </tr>\n",
       "    <tr>\n",
       "      <th>1</th>\n",
       "      <td>3856296</td>\n",
       "    </tr>\n",
       "  </tbody>\n",
       "</table>\n",
       "</div>"
      ],
      "text/plain": [
       "       review_body\n",
       "label             \n",
       "-1          349539\n",
       " 0          668809\n",
       " 1         3856296"
      ]
     },
     "execution_count": 12,
     "metadata": {},
     "output_type": "execute_result"
    }
   ],
   "source": [
    "test.groupby('label').count()"
   ]
  },
  {
   "cell_type": "code",
   "execution_count": 13,
   "id": "caf7e40d",
   "metadata": {},
   "outputs": [
    {
     "data": {
      "text/html": [
       "<div>\n",
       "<style scoped>\n",
       "    .dataframe tbody tr th:only-of-type {\n",
       "        vertical-align: middle;\n",
       "    }\n",
       "\n",
       "    .dataframe tbody tr th {\n",
       "        vertical-align: top;\n",
       "    }\n",
       "\n",
       "    .dataframe thead th {\n",
       "        text-align: right;\n",
       "    }\n",
       "</style>\n",
       "<table border=\"1\" class=\"dataframe\">\n",
       "  <thead>\n",
       "    <tr style=\"text-align: right;\">\n",
       "      <th></th>\n",
       "      <th>label</th>\n",
       "      <th>review_body</th>\n",
       "    </tr>\n",
       "  </thead>\n",
       "  <tbody>\n",
       "    <tr>\n",
       "      <th>0</th>\n",
       "      <td>1</td>\n",
       "      <td>Beautiful.  Looks great on counter.</td>\n",
       "    </tr>\n",
       "    <tr>\n",
       "      <th>1</th>\n",
       "      <td>1</td>\n",
       "      <td>I personally have 5 days sets and have also bo...</td>\n",
       "    </tr>\n",
       "    <tr>\n",
       "      <th>2</th>\n",
       "      <td>1</td>\n",
       "      <td>Fabulous and worth every penny. Used for clean...</td>\n",
       "    </tr>\n",
       "  </tbody>\n",
       "</table>\n",
       "</div>"
      ],
      "text/plain": [
       "   label                                        review_body\n",
       "0      1                Beautiful.  Looks great on counter.\n",
       "1      1  I personally have 5 days sets and have also bo...\n",
       "2      1  Fabulous and worth every penny. Used for clean..."
      ]
     },
     "execution_count": 13,
     "metadata": {},
     "output_type": "execute_result"
    }
   ],
   "source": [
    "test.head(3)"
   ]
  },
  {
   "cell_type": "code",
   "execution_count": 14,
   "id": "89b57174",
   "metadata": {},
   "outputs": [],
   "source": [
    "new_test = test.loc[test['label']!=-1]"
   ]
  },
  {
   "cell_type": "code",
   "execution_count": 15,
   "id": "509b3b0a",
   "metadata": {},
   "outputs": [],
   "source": [
    "postive = new_test.loc[test['label']==1].sample(100000)"
   ]
  },
  {
   "cell_type": "code",
   "execution_count": 16,
   "id": "435dd976",
   "metadata": {},
   "outputs": [],
   "source": [
    "negative = new_test.loc[test['label']== 0].sample(100000)"
   ]
  },
  {
   "cell_type": "code",
   "execution_count": 17,
   "id": "8ad2d35e",
   "metadata": {},
   "outputs": [],
   "source": [
    "new_p_n = pd.concat([postive,negative])"
   ]
  },
  {
   "cell_type": "code",
   "execution_count": 18,
   "id": "2f23c80a",
   "metadata": {},
   "outputs": [],
   "source": [
    "new_p_n['review_body'] = new_p_n['review_body'].str.lower()"
   ]
  },
  {
   "cell_type": "code",
   "execution_count": 19,
   "id": "c5f0979b",
   "metadata": {},
   "outputs": [],
   "source": [
    "def tag(x):\n",
    "    return re.sub('<.*?>','',str(x))"
   ]
  },
  {
   "cell_type": "code",
   "execution_count": 20,
   "id": "ee8778e7",
   "metadata": {},
   "outputs": [],
   "source": [
    "new_p_n['review_body'] = new_p_n['review_body'].apply(lambda x:tag(x))"
   ]
  },
  {
   "cell_type": "code",
   "execution_count": 21,
   "id": "dc8c8aae",
   "metadata": {},
   "outputs": [],
   "source": [
    "def url(x):\n",
    "    return re.sub('(https?|ftp|file)://[-A-Za-z0-9+&@#/%?=~_|!:,.;]+[-A-Za-z0-9+&@#/%=~_|]','',str(x))"
   ]
  },
  {
   "cell_type": "code",
   "execution_count": 22,
   "id": "6abfcd04",
   "metadata": {},
   "outputs": [],
   "source": [
    "new_p_n['review_body'] = new_p_n['review_body'].apply(lambda x:url(x))"
   ]
  },
  {
   "cell_type": "code",
   "execution_count": 23,
   "id": "335a1fac",
   "metadata": {},
   "outputs": [],
   "source": [
    "new_p_n['review_body'] = new_p_n['review_body'].apply(lambda x:contractions.fix(x))"
   ]
  },
  {
   "cell_type": "code",
   "execution_count": 24,
   "id": "1120310a",
   "metadata": {},
   "outputs": [],
   "source": [
    "def non_alphabetical(x):\n",
    "    return re.sub('[^a-zA-Z\\s]','',str(x))"
   ]
  },
  {
   "cell_type": "code",
   "execution_count": 25,
   "id": "97cba68b",
   "metadata": {},
   "outputs": [],
   "source": [
    "new_p_n['review_body'] = new_p_n['review_body'].apply(lambda x:non_alphabetical(x))"
   ]
  },
  {
   "cell_type": "code",
   "execution_count": 26,
   "id": "113d8508",
   "metadata": {},
   "outputs": [],
   "source": [
    "def extra_space(x):\n",
    "    return re.sub( ' +',' ',str(x))"
   ]
  },
  {
   "cell_type": "code",
   "execution_count": 27,
   "id": "539f54d1",
   "metadata": {},
   "outputs": [],
   "source": [
    "new_p_n['review_body'] = new_p_n['review_body'].apply(lambda x:extra_space(x))"
   ]
  },
  {
   "cell_type": "code",
   "execution_count": null,
   "id": "1cddaf2c",
   "metadata": {},
   "outputs": [],
   "source": []
  },
  {
   "cell_type": "code",
   "execution_count": 28,
   "id": "3f3eb831",
   "metadata": {},
   "outputs": [
    {
     "name": "stderr",
     "output_type": "stream",
     "text": [
      "[nltk_data] Downloading package stopwords to\n",
      "[nltk_data]     /Users/chenlin/nltk_data...\n",
      "[nltk_data]   Package stopwords is already up-to-date!\n"
     ]
    }
   ],
   "source": [
    "import nltk\n",
    "from nltk.corpus import stopwords\n",
    "nltk.download('stopwords')\n",
    "stop_words_set = set(stopwords.words('english'))"
   ]
  },
  {
   "cell_type": "code",
   "execution_count": 29,
   "id": "9ce3056b",
   "metadata": {},
   "outputs": [
    {
     "data": {
      "text/plain": [
       "{'a',\n",
       " 'about',\n",
       " 'above',\n",
       " 'after',\n",
       " 'again',\n",
       " 'against',\n",
       " 'ain',\n",
       " 'all',\n",
       " 'am',\n",
       " 'an',\n",
       " 'and',\n",
       " 'any',\n",
       " 'are',\n",
       " 'aren',\n",
       " \"aren't\",\n",
       " 'as',\n",
       " 'at',\n",
       " 'be',\n",
       " 'because',\n",
       " 'been',\n",
       " 'before',\n",
       " 'being',\n",
       " 'below',\n",
       " 'between',\n",
       " 'both',\n",
       " 'but',\n",
       " 'by',\n",
       " 'can',\n",
       " 'couldn',\n",
       " \"couldn't\",\n",
       " 'd',\n",
       " 'did',\n",
       " 'didn',\n",
       " \"didn't\",\n",
       " 'do',\n",
       " 'does',\n",
       " 'doesn',\n",
       " \"doesn't\",\n",
       " 'doing',\n",
       " 'don',\n",
       " \"don't\",\n",
       " 'down',\n",
       " 'during',\n",
       " 'each',\n",
       " 'few',\n",
       " 'for',\n",
       " 'from',\n",
       " 'further',\n",
       " 'had',\n",
       " 'hadn',\n",
       " \"hadn't\",\n",
       " 'has',\n",
       " 'hasn',\n",
       " \"hasn't\",\n",
       " 'have',\n",
       " 'haven',\n",
       " \"haven't\",\n",
       " 'having',\n",
       " 'he',\n",
       " 'her',\n",
       " 'here',\n",
       " 'hers',\n",
       " 'herself',\n",
       " 'him',\n",
       " 'himself',\n",
       " 'his',\n",
       " 'how',\n",
       " 'i',\n",
       " 'if',\n",
       " 'in',\n",
       " 'into',\n",
       " 'is',\n",
       " 'isn',\n",
       " \"isn't\",\n",
       " 'it',\n",
       " \"it's\",\n",
       " 'its',\n",
       " 'itself',\n",
       " 'just',\n",
       " 'll',\n",
       " 'm',\n",
       " 'ma',\n",
       " 'me',\n",
       " 'mightn',\n",
       " \"mightn't\",\n",
       " 'more',\n",
       " 'most',\n",
       " 'mustn',\n",
       " \"mustn't\",\n",
       " 'my',\n",
       " 'myself',\n",
       " 'needn',\n",
       " \"needn't\",\n",
       " 'no',\n",
       " 'nor',\n",
       " 'not',\n",
       " 'now',\n",
       " 'o',\n",
       " 'of',\n",
       " 'off',\n",
       " 'on',\n",
       " 'once',\n",
       " 'only',\n",
       " 'or',\n",
       " 'other',\n",
       " 'our',\n",
       " 'ours',\n",
       " 'ourselves',\n",
       " 'out',\n",
       " 'over',\n",
       " 'own',\n",
       " 're',\n",
       " 's',\n",
       " 'same',\n",
       " 'shan',\n",
       " \"shan't\",\n",
       " 'she',\n",
       " \"she's\",\n",
       " 'should',\n",
       " \"should've\",\n",
       " 'shouldn',\n",
       " \"shouldn't\",\n",
       " 'so',\n",
       " 'some',\n",
       " 'such',\n",
       " 't',\n",
       " 'than',\n",
       " 'that',\n",
       " \"that'll\",\n",
       " 'the',\n",
       " 'their',\n",
       " 'theirs',\n",
       " 'them',\n",
       " 'themselves',\n",
       " 'then',\n",
       " 'there',\n",
       " 'these',\n",
       " 'they',\n",
       " 'this',\n",
       " 'those',\n",
       " 'through',\n",
       " 'to',\n",
       " 'too',\n",
       " 'under',\n",
       " 'until',\n",
       " 'up',\n",
       " 've',\n",
       " 'very',\n",
       " 'was',\n",
       " 'wasn',\n",
       " \"wasn't\",\n",
       " 'we',\n",
       " 'were',\n",
       " 'weren',\n",
       " \"weren't\",\n",
       " 'what',\n",
       " 'when',\n",
       " 'where',\n",
       " 'which',\n",
       " 'while',\n",
       " 'who',\n",
       " 'whom',\n",
       " 'why',\n",
       " 'will',\n",
       " 'with',\n",
       " 'won',\n",
       " \"won't\",\n",
       " 'wouldn',\n",
       " \"wouldn't\",\n",
       " 'y',\n",
       " 'you',\n",
       " \"you'd\",\n",
       " \"you'll\",\n",
       " \"you're\",\n",
       " \"you've\",\n",
       " 'your',\n",
       " 'yours',\n",
       " 'yourself',\n",
       " 'yourselves'}"
      ]
     },
     "execution_count": 29,
     "metadata": {},
     "output_type": "execute_result"
    }
   ],
   "source": [
    "stop_words_set"
   ]
  },
  {
   "cell_type": "code",
   "execution_count": 32,
   "id": "669eeac6",
   "metadata": {},
   "outputs": [
    {
     "name": "stderr",
     "output_type": "stream",
     "text": [
      "[nltk_data] Downloading package averaged_perceptron_tagger to\n",
      "[nltk_data]     /Users/chenlin/nltk_data...\n",
      "[nltk_data]   Package averaged_perceptron_tagger is already up-to-\n",
      "[nltk_data]       date!\n"
     ]
    },
    {
     "data": {
      "text/plain": [
       "True"
      ]
     },
     "execution_count": 32,
     "metadata": {},
     "output_type": "execute_result"
    }
   ],
   "source": [
    "from nltk import word_tokenize, pos_tag\n",
    "from nltk.corpus import wordnet\n",
    "from nltk.stem import WordNetLemmatizer\n",
    "nltk.download('averaged_perceptron_tagger')\n"
   ]
  },
  {
   "cell_type": "code",
   "execution_count": 33,
   "id": "a3189b92",
   "metadata": {},
   "outputs": [],
   "source": [
    "def stop_words(x):\n",
    "    word_tokens = word_tokenize(x)\n",
    "    temp = []\n",
    "    for i in word_tokens:\n",
    "        if i not in stop_words_set:\n",
    "            temp.append(i)\n",
    "    return temp"
   ]
  },
  {
   "cell_type": "code",
   "execution_count": 34,
   "id": "11fd92eb",
   "metadata": {},
   "outputs": [],
   "source": [
    "new_p_n['review_body'] = new_p_n['review_body'].apply(lambda x:stop_words(x))"
   ]
  },
  {
   "cell_type": "code",
   "execution_count": null,
   "id": "d0d7b096",
   "metadata": {},
   "outputs": [],
   "source": []
  },
  {
   "cell_type": "code",
   "execution_count": 36,
   "id": "20ebbb32",
   "metadata": {},
   "outputs": [
    {
     "name": "stderr",
     "output_type": "stream",
     "text": [
      "[nltk_data] Downloading package wordnet to /Users/chenlin/nltk_data...\n",
      "[nltk_data]   Package wordnet is already up-to-date!\n"
     ]
    }
   ],
   "source": [
    "from nltk.stem import WordNetLemmatizer\n",
    "nltk.download('wordnet')\n",
    "lemmatizer = WordNetLemmatizer()"
   ]
  },
  {
   "cell_type": "code",
   "execution_count": 37,
   "id": "80047383",
   "metadata": {},
   "outputs": [],
   "source": [
    "def get_wordnet_pos(tag):\n",
    "    if tag.startswith('J'):\n",
    "        return wordnet.ADJ\n",
    "    elif tag.startswith('V'):\n",
    "        return wordnet.VERB\n",
    "    elif tag.startswith('N'):\n",
    "        return wordnet.NOUN\n",
    "    elif tag.startswith('R'):\n",
    "        return wordnet.ADV\n",
    "    else:\n",
    "        return None\n",
    "\n",
    "\n",
    "def lemmatization(x:list):\n",
    "    tagged_sent = pos_tag(x)\n",
    "    lemmas_sent = []\n",
    "    for tag in tagged_sent:\n",
    "        wnl = WordNetLemmatizer()\n",
    "        pos = get_wordnet_pos(tag[1]) or wordnet.NOUN\n",
    "        lemmas_sent.append(wnl.lemmatize(tag[0], pos))\n",
    "    return lemmas_sent"
   ]
  },
  {
   "cell_type": "code",
   "execution_count": 38,
   "id": "fa515c39",
   "metadata": {},
   "outputs": [],
   "source": [
    "new_p_n['review_body'] = new_p_n['review_body'].apply(lambda x:lemmatization(x))"
   ]
  },
  {
   "cell_type": "code",
   "execution_count": 39,
   "id": "7710e666",
   "metadata": {},
   "outputs": [
    {
     "data": {
      "text/plain": [
       "'a'"
      ]
     },
     "execution_count": 39,
     "metadata": {},
     "output_type": "execute_result"
    }
   ],
   "source": [
    "wordnet.ADJ"
   ]
  },
  {
   "cell_type": "code",
   "execution_count": null,
   "id": "702a8f61",
   "metadata": {},
   "outputs": [],
   "source": []
  },
  {
   "cell_type": "code",
   "execution_count": 41,
   "id": "0f8d73b6",
   "metadata": {},
   "outputs": [
    {
     "ename": "KeyboardInterrupt",
     "evalue": "",
     "output_type": "error",
     "traceback": [
      "\u001b[0;31m---------------------------------------------------------------------------\u001b[0m",
      "\u001b[0;31mKeyboardInterrupt\u001b[0m                         Traceback (most recent call last)",
      "\u001b[0;32m<ipython-input-41-14e2bf24e6a3>\u001b[0m in \u001b[0;36m<module>\u001b[0;34m\u001b[0m\n\u001b[0;32m----> 1\u001b[0;31m \u001b[0mnew_p_n\u001b[0m\u001b[0;34m[\u001b[0m\u001b[0;34m'review_body'\u001b[0m\u001b[0;34m]\u001b[0m \u001b[0;34m=\u001b[0m \u001b[0mnew_p_n\u001b[0m\u001b[0;34m[\u001b[0m\u001b[0;34m'review_body'\u001b[0m\u001b[0;34m]\u001b[0m\u001b[0;34m.\u001b[0m\u001b[0mapply\u001b[0m\u001b[0;34m(\u001b[0m\u001b[0;32mlambda\u001b[0m \u001b[0mx\u001b[0m\u001b[0;34m:\u001b[0m\u001b[0mlemmatization\u001b[0m\u001b[0;34m(\u001b[0m\u001b[0mx\u001b[0m\u001b[0;34m)\u001b[0m\u001b[0;34m)\u001b[0m\u001b[0;34m\u001b[0m\u001b[0;34m\u001b[0m\u001b[0m\n\u001b[0m",
      "\u001b[0;32m/opt/anaconda3/lib/python3.7/site-packages/pandas/core/series.py\u001b[0m in \u001b[0;36mapply\u001b[0;34m(self, func, convert_dtype, args, **kwds)\u001b[0m\n\u001b[1;32m   4136\u001b[0m             \u001b[0;32melse\u001b[0m\u001b[0;34m:\u001b[0m\u001b[0;34m\u001b[0m\u001b[0;34m\u001b[0m\u001b[0m\n\u001b[1;32m   4137\u001b[0m                 \u001b[0mvalues\u001b[0m \u001b[0;34m=\u001b[0m \u001b[0mself\u001b[0m\u001b[0;34m.\u001b[0m\u001b[0mastype\u001b[0m\u001b[0;34m(\u001b[0m\u001b[0mobject\u001b[0m\u001b[0;34m)\u001b[0m\u001b[0;34m.\u001b[0m\u001b[0m_values\u001b[0m\u001b[0;34m\u001b[0m\u001b[0;34m\u001b[0m\u001b[0m\n\u001b[0;32m-> 4138\u001b[0;31m                 \u001b[0mmapped\u001b[0m \u001b[0;34m=\u001b[0m \u001b[0mlib\u001b[0m\u001b[0;34m.\u001b[0m\u001b[0mmap_infer\u001b[0m\u001b[0;34m(\u001b[0m\u001b[0mvalues\u001b[0m\u001b[0;34m,\u001b[0m \u001b[0mf\u001b[0m\u001b[0;34m,\u001b[0m \u001b[0mconvert\u001b[0m\u001b[0;34m=\u001b[0m\u001b[0mconvert_dtype\u001b[0m\u001b[0;34m)\u001b[0m\u001b[0;34m\u001b[0m\u001b[0;34m\u001b[0m\u001b[0m\n\u001b[0m\u001b[1;32m   4139\u001b[0m \u001b[0;34m\u001b[0m\u001b[0m\n\u001b[1;32m   4140\u001b[0m         \u001b[0;32mif\u001b[0m \u001b[0mlen\u001b[0m\u001b[0;34m(\u001b[0m\u001b[0mmapped\u001b[0m\u001b[0;34m)\u001b[0m \u001b[0;32mand\u001b[0m \u001b[0misinstance\u001b[0m\u001b[0;34m(\u001b[0m\u001b[0mmapped\u001b[0m\u001b[0;34m[\u001b[0m\u001b[0;36m0\u001b[0m\u001b[0;34m]\u001b[0m\u001b[0;34m,\u001b[0m \u001b[0mSeries\u001b[0m\u001b[0;34m)\u001b[0m\u001b[0;34m:\u001b[0m\u001b[0;34m\u001b[0m\u001b[0;34m\u001b[0m\u001b[0m\n",
      "\u001b[0;32mpandas/_libs/lib.pyx\u001b[0m in \u001b[0;36mpandas._libs.lib.map_infer\u001b[0;34m()\u001b[0m\n",
      "\u001b[0;32m<ipython-input-41-14e2bf24e6a3>\u001b[0m in \u001b[0;36m<lambda>\u001b[0;34m(x)\u001b[0m\n\u001b[0;32m----> 1\u001b[0;31m \u001b[0mnew_p_n\u001b[0m\u001b[0;34m[\u001b[0m\u001b[0;34m'review_body'\u001b[0m\u001b[0;34m]\u001b[0m \u001b[0;34m=\u001b[0m \u001b[0mnew_p_n\u001b[0m\u001b[0;34m[\u001b[0m\u001b[0;34m'review_body'\u001b[0m\u001b[0;34m]\u001b[0m\u001b[0;34m.\u001b[0m\u001b[0mapply\u001b[0m\u001b[0;34m(\u001b[0m\u001b[0;32mlambda\u001b[0m \u001b[0mx\u001b[0m\u001b[0;34m:\u001b[0m\u001b[0mlemmatization\u001b[0m\u001b[0;34m(\u001b[0m\u001b[0mx\u001b[0m\u001b[0;34m)\u001b[0m\u001b[0;34m)\u001b[0m\u001b[0;34m\u001b[0m\u001b[0;34m\u001b[0m\u001b[0m\n\u001b[0m",
      "\u001b[0;32m<ipython-input-37-390e927e5e00>\u001b[0m in \u001b[0;36mlemmatization\u001b[0;34m(x)\u001b[0m\n\u001b[1;32m     13\u001b[0m \u001b[0;34m\u001b[0m\u001b[0m\n\u001b[1;32m     14\u001b[0m \u001b[0;32mdef\u001b[0m \u001b[0mlemmatization\u001b[0m\u001b[0;34m(\u001b[0m\u001b[0mx\u001b[0m\u001b[0;34m:\u001b[0m\u001b[0mlist\u001b[0m\u001b[0;34m)\u001b[0m\u001b[0;34m:\u001b[0m\u001b[0;34m\u001b[0m\u001b[0;34m\u001b[0m\u001b[0m\n\u001b[0;32m---> 15\u001b[0;31m     \u001b[0mtagged_sent\u001b[0m \u001b[0;34m=\u001b[0m \u001b[0mpos_tag\u001b[0m\u001b[0;34m(\u001b[0m\u001b[0mx\u001b[0m\u001b[0;34m)\u001b[0m\u001b[0;34m\u001b[0m\u001b[0;34m\u001b[0m\u001b[0m\n\u001b[0m\u001b[1;32m     16\u001b[0m     \u001b[0mlemmas_sent\u001b[0m \u001b[0;34m=\u001b[0m \u001b[0;34m[\u001b[0m\u001b[0;34m]\u001b[0m\u001b[0;34m\u001b[0m\u001b[0;34m\u001b[0m\u001b[0m\n\u001b[1;32m     17\u001b[0m     \u001b[0;32mfor\u001b[0m \u001b[0mtag\u001b[0m \u001b[0;32min\u001b[0m \u001b[0mtagged_sent\u001b[0m\u001b[0;34m:\u001b[0m\u001b[0;34m\u001b[0m\u001b[0;34m\u001b[0m\u001b[0m\n",
      "\u001b[0;32m~/.local/lib/python3.7/site-packages/nltk/tag/__init__.py\u001b[0m in \u001b[0;36mpos_tag\u001b[0;34m(tokens, tagset, lang)\u001b[0m\n\u001b[1;32m    163\u001b[0m     \"\"\"\n\u001b[1;32m    164\u001b[0m     \u001b[0mtagger\u001b[0m \u001b[0;34m=\u001b[0m \u001b[0m_get_tagger\u001b[0m\u001b[0;34m(\u001b[0m\u001b[0mlang\u001b[0m\u001b[0;34m)\u001b[0m\u001b[0;34m\u001b[0m\u001b[0;34m\u001b[0m\u001b[0m\n\u001b[0;32m--> 165\u001b[0;31m     \u001b[0;32mreturn\u001b[0m \u001b[0m_pos_tag\u001b[0m\u001b[0;34m(\u001b[0m\u001b[0mtokens\u001b[0m\u001b[0;34m,\u001b[0m \u001b[0mtagset\u001b[0m\u001b[0;34m,\u001b[0m \u001b[0mtagger\u001b[0m\u001b[0;34m,\u001b[0m \u001b[0mlang\u001b[0m\u001b[0;34m)\u001b[0m\u001b[0;34m\u001b[0m\u001b[0;34m\u001b[0m\u001b[0m\n\u001b[0m\u001b[1;32m    166\u001b[0m \u001b[0;34m\u001b[0m\u001b[0m\n\u001b[1;32m    167\u001b[0m \u001b[0;34m\u001b[0m\u001b[0m\n",
      "\u001b[0;32m~/.local/lib/python3.7/site-packages/nltk/tag/__init__.py\u001b[0m in \u001b[0;36m_pos_tag\u001b[0;34m(tokens, tagset, tagger, lang)\u001b[0m\n\u001b[1;32m    120\u001b[0m \u001b[0;34m\u001b[0m\u001b[0m\n\u001b[1;32m    121\u001b[0m     \u001b[0;32melse\u001b[0m\u001b[0;34m:\u001b[0m\u001b[0;34m\u001b[0m\u001b[0;34m\u001b[0m\u001b[0m\n\u001b[0;32m--> 122\u001b[0;31m         \u001b[0mtagged_tokens\u001b[0m \u001b[0;34m=\u001b[0m \u001b[0mtagger\u001b[0m\u001b[0;34m.\u001b[0m\u001b[0mtag\u001b[0m\u001b[0;34m(\u001b[0m\u001b[0mtokens\u001b[0m\u001b[0;34m)\u001b[0m\u001b[0;34m\u001b[0m\u001b[0;34m\u001b[0m\u001b[0m\n\u001b[0m\u001b[1;32m    123\u001b[0m         \u001b[0;32mif\u001b[0m \u001b[0mtagset\u001b[0m\u001b[0;34m:\u001b[0m  \u001b[0;31m# Maps to the specified tagset.\u001b[0m\u001b[0;34m\u001b[0m\u001b[0;34m\u001b[0m\u001b[0m\n\u001b[1;32m    124\u001b[0m             \u001b[0;32mif\u001b[0m \u001b[0mlang\u001b[0m \u001b[0;34m==\u001b[0m \u001b[0;34m\"eng\"\u001b[0m\u001b[0;34m:\u001b[0m\u001b[0;34m\u001b[0m\u001b[0;34m\u001b[0m\u001b[0m\n",
      "\u001b[0;32m~/.local/lib/python3.7/site-packages/nltk/tag/perceptron.py\u001b[0m in \u001b[0;36mtag\u001b[0;34m(self, tokens, return_conf, use_tagdict)\u001b[0m\n\u001b[1;32m    186\u001b[0m             \u001b[0;32mif\u001b[0m \u001b[0;32mnot\u001b[0m \u001b[0mtag\u001b[0m\u001b[0;34m:\u001b[0m\u001b[0;34m\u001b[0m\u001b[0;34m\u001b[0m\u001b[0m\n\u001b[1;32m    187\u001b[0m                 \u001b[0mfeatures\u001b[0m \u001b[0;34m=\u001b[0m \u001b[0mself\u001b[0m\u001b[0;34m.\u001b[0m\u001b[0m_get_features\u001b[0m\u001b[0;34m(\u001b[0m\u001b[0mi\u001b[0m\u001b[0;34m,\u001b[0m \u001b[0mword\u001b[0m\u001b[0;34m,\u001b[0m \u001b[0mcontext\u001b[0m\u001b[0;34m,\u001b[0m \u001b[0mprev\u001b[0m\u001b[0;34m,\u001b[0m \u001b[0mprev2\u001b[0m\u001b[0;34m)\u001b[0m\u001b[0;34m\u001b[0m\u001b[0;34m\u001b[0m\u001b[0m\n\u001b[0;32m--> 188\u001b[0;31m                 \u001b[0mtag\u001b[0m\u001b[0;34m,\u001b[0m \u001b[0mconf\u001b[0m \u001b[0;34m=\u001b[0m \u001b[0mself\u001b[0m\u001b[0;34m.\u001b[0m\u001b[0mmodel\u001b[0m\u001b[0;34m.\u001b[0m\u001b[0mpredict\u001b[0m\u001b[0;34m(\u001b[0m\u001b[0mfeatures\u001b[0m\u001b[0;34m,\u001b[0m \u001b[0mreturn_conf\u001b[0m\u001b[0;34m)\u001b[0m\u001b[0;34m\u001b[0m\u001b[0;34m\u001b[0m\u001b[0m\n\u001b[0m\u001b[1;32m    189\u001b[0m             \u001b[0moutput\u001b[0m\u001b[0;34m.\u001b[0m\u001b[0mappend\u001b[0m\u001b[0;34m(\u001b[0m\u001b[0;34m(\u001b[0m\u001b[0mword\u001b[0m\u001b[0;34m,\u001b[0m \u001b[0mtag\u001b[0m\u001b[0;34m,\u001b[0m \u001b[0mconf\u001b[0m\u001b[0;34m)\u001b[0m \u001b[0;32mif\u001b[0m \u001b[0mreturn_conf\u001b[0m \u001b[0;34m==\u001b[0m \u001b[0;32mTrue\u001b[0m \u001b[0;32melse\u001b[0m \u001b[0;34m(\u001b[0m\u001b[0mword\u001b[0m\u001b[0;34m,\u001b[0m \u001b[0mtag\u001b[0m\u001b[0;34m)\u001b[0m\u001b[0;34m)\u001b[0m\u001b[0;34m\u001b[0m\u001b[0;34m\u001b[0m\u001b[0m\n\u001b[1;32m    190\u001b[0m \u001b[0;34m\u001b[0m\u001b[0m\n",
      "\u001b[0;32m~/.local/lib/python3.7/site-packages/nltk/tag/perceptron.py\u001b[0m in \u001b[0;36mpredict\u001b[0;34m(self, features, return_conf)\u001b[0m\n\u001b[1;32m     61\u001b[0m         \u001b[0mscores\u001b[0m \u001b[0;34m=\u001b[0m \u001b[0mdefaultdict\u001b[0m\u001b[0;34m(\u001b[0m\u001b[0mfloat\u001b[0m\u001b[0;34m)\u001b[0m\u001b[0;34m\u001b[0m\u001b[0;34m\u001b[0m\u001b[0m\n\u001b[1;32m     62\u001b[0m         \u001b[0;32mfor\u001b[0m \u001b[0mfeat\u001b[0m\u001b[0;34m,\u001b[0m \u001b[0mvalue\u001b[0m \u001b[0;32min\u001b[0m \u001b[0mfeatures\u001b[0m\u001b[0;34m.\u001b[0m\u001b[0mitems\u001b[0m\u001b[0;34m(\u001b[0m\u001b[0;34m)\u001b[0m\u001b[0;34m:\u001b[0m\u001b[0;34m\u001b[0m\u001b[0;34m\u001b[0m\u001b[0m\n\u001b[0;32m---> 63\u001b[0;31m             \u001b[0;32mif\u001b[0m \u001b[0mfeat\u001b[0m \u001b[0;32mnot\u001b[0m \u001b[0;32min\u001b[0m \u001b[0mself\u001b[0m\u001b[0;34m.\u001b[0m\u001b[0mweights\u001b[0m \u001b[0;32mor\u001b[0m \u001b[0mvalue\u001b[0m \u001b[0;34m==\u001b[0m \u001b[0;36m0\u001b[0m\u001b[0;34m:\u001b[0m\u001b[0;34m\u001b[0m\u001b[0;34m\u001b[0m\u001b[0m\n\u001b[0m\u001b[1;32m     64\u001b[0m                 \u001b[0;32mcontinue\u001b[0m\u001b[0;34m\u001b[0m\u001b[0;34m\u001b[0m\u001b[0m\n\u001b[1;32m     65\u001b[0m             \u001b[0mweights\u001b[0m \u001b[0;34m=\u001b[0m \u001b[0mself\u001b[0m\u001b[0;34m.\u001b[0m\u001b[0mweights\u001b[0m\u001b[0;34m[\u001b[0m\u001b[0mfeat\u001b[0m\u001b[0;34m]\u001b[0m\u001b[0;34m\u001b[0m\u001b[0;34m\u001b[0m\u001b[0m\n",
      "\u001b[0;31mKeyboardInterrupt\u001b[0m: "
     ]
    }
   ],
   "source": [
    "#new_p_n['review_body'] = new_p_n['review_body'].apply(lambda x:lemmatization(x))"
   ]
  },
  {
   "cell_type": "code",
   "execution_count": null,
   "id": "65f87b42",
   "metadata": {},
   "outputs": [],
   "source": [
    "#new_p_n"
   ]
  },
  {
   "cell_type": "code",
   "execution_count": null,
   "id": "233b53f0",
   "metadata": {},
   "outputs": [],
   "source": [
    "#aaa = new_p_n['review_body'][3240942]"
   ]
  },
  {
   "cell_type": "code",
   "execution_count": null,
   "id": "4d9eb18a",
   "metadata": {},
   "outputs": [],
   "source": [
    "#tagged_sent"
   ]
  },
  {
   "cell_type": "code",
   "execution_count": null,
   "id": "be8ff820",
   "metadata": {},
   "outputs": [],
   "source": [
    "#new_p_n['review_body']"
   ]
  },
  {
   "cell_type": "code",
   "execution_count": null,
   "id": "d7595ff8",
   "metadata": {},
   "outputs": [],
   "source": [
    "#new_p_n"
   ]
  },
  {
   "cell_type": "code",
   "execution_count": 42,
   "id": "c4e91f10",
   "metadata": {},
   "outputs": [],
   "source": [
    "#transformation\n",
    "new_p_n['review_str'] = new_p_n['review_body'].apply(lambda x:' '.join(x))\n"
   ]
  },
  {
   "cell_type": "code",
   "execution_count": 43,
   "id": "50853362",
   "metadata": {},
   "outputs": [
    {
     "data": {
      "text/plain": [
       "4604451    blender real power despite variable speed need...\n",
       "3140360    item excellent prepare morning go shower do ti...\n",
       "1308513                  buy present headmistress find amuse\n",
       "4456270      life toooooo short adjust sheet morning product\n",
       "2968060    dish approximately month use oven microwave wa...\n",
       "                                 ...                        \n",
       "1669102    must something wrong entire kit one indicator ...\n",
       "1186144    item damage receive day wed pay someone put ba...\n",
       "4090374    model kath fit kitchenaid tilt head mixer rega...\n",
       "591574            way difficult use sharp enough easily zest\n",
       "4841393    little machine make wonderful milk frother bur...\n",
       "Name: review_str, Length: 200000, dtype: object"
      ]
     },
     "execution_count": 43,
     "metadata": {},
     "output_type": "execute_result"
    }
   ],
   "source": [
    "new_p_n['review_str']"
   ]
  },
  {
   "cell_type": "code",
   "execution_count": 44,
   "id": "a8d59701",
   "metadata": {},
   "outputs": [],
   "source": [
    "from sklearn.feature_extraction.text import TfidfVectorizer\n",
    "X = new_p_n['review_str']\n",
    "Y = new_p_n['label']\n",
    "v = TfidfVectorizer()\n",
    "x_tfidf = v.fit_transform(X)"
   ]
  },
  {
   "cell_type": "code",
   "execution_count": 45,
   "id": "9ab26a77",
   "metadata": {},
   "outputs": [
    {
     "data": {
      "text/plain": [
       "(200000, 122483)"
      ]
     },
     "execution_count": 45,
     "metadata": {},
     "output_type": "execute_result"
    }
   ],
   "source": [
    "x_tfidf.shape"
   ]
  },
  {
   "cell_type": "code",
   "execution_count": null,
   "id": "3c746f6f",
   "metadata": {},
   "outputs": [],
   "source": []
  },
  {
   "cell_type": "code",
   "execution_count": 46,
   "id": "cd1db544",
   "metadata": {},
   "outputs": [],
   "source": [
    "from sklearn.model_selection import train_test_split\n",
    "\n",
    "x_train, x_test, y_train, y_test = train_test_split(x_tfidf, Y, random_state = 19, test_size = 0.2)"
   ]
  },
  {
   "cell_type": "code",
   "execution_count": 47,
   "id": "b8fe6486",
   "metadata": {},
   "outputs": [
    {
     "data": {
      "text/plain": [
       "(160000, 122483)"
      ]
     },
     "execution_count": 47,
     "metadata": {},
     "output_type": "execute_result"
    }
   ],
   "source": [
    "x_train.shape"
   ]
  },
  {
   "cell_type": "code",
   "execution_count": 48,
   "id": "fa382b49",
   "metadata": {},
   "outputs": [
    {
     "data": {
      "text/plain": [
       "(40000, 122483)"
      ]
     },
     "execution_count": 48,
     "metadata": {},
     "output_type": "execute_result"
    }
   ],
   "source": [
    "x_test.shape"
   ]
  },
  {
   "cell_type": "code",
   "execution_count": 49,
   "id": "dea4794c",
   "metadata": {},
   "outputs": [],
   "source": [
    "from sklearn.linear_model import Perceptron\n",
    "perceptron = Perceptron()"
   ]
  },
  {
   "cell_type": "code",
   "execution_count": 50,
   "id": "49640184",
   "metadata": {},
   "outputs": [
    {
     "data": {
      "text/plain": [
       "Perceptron()"
      ]
     },
     "execution_count": 50,
     "metadata": {},
     "output_type": "execute_result"
    }
   ],
   "source": [
    "perceptron.fit(x_train, y_train)"
   ]
  },
  {
   "cell_type": "code",
   "execution_count": 51,
   "id": "f3969079",
   "metadata": {},
   "outputs": [],
   "source": [
    "from sklearn.metrics import precision_recall_fscore_support as score\n",
    "from sklearn.metrics import classification_report"
   ]
  },
  {
   "cell_type": "code",
   "execution_count": 52,
   "id": "460e8f95",
   "metadata": {},
   "outputs": [],
   "source": [
    "y_train_predict = perceptron.predict(x_train)"
   ]
  },
  {
   "cell_type": "code",
   "execution_count": 53,
   "id": "4b0bcba6",
   "metadata": {},
   "outputs": [
    {
     "name": "stdout",
     "output_type": "stream",
     "text": [
      "              precision    recall  f1-score   support\n",
      "\n",
      "           0       0.90      0.93      0.92     79998\n",
      "           1       0.93      0.89      0.91     80002\n",
      "\n",
      "    accuracy                           0.91    160000\n",
      "   macro avg       0.91      0.91      0.91    160000\n",
      "weighted avg       0.91      0.91      0.91    160000\n",
      "\n"
     ]
    }
   ],
   "source": [
    "print(classification_report(y_train,y_train_predict))"
   ]
  },
  {
   "cell_type": "code",
   "execution_count": 54,
   "id": "15406955",
   "metadata": {},
   "outputs": [
    {
     "name": "stdout",
     "output_type": "stream",
     "text": [
      "Precision : 0.9142406255764457\n",
      "Recall    : 0.9136129868210081\n",
      "F-score   : 0.913579807024947\n",
      "Support   : None\n",
      "Training data with perceptron | Precision: 0.9142406255764457\n",
      "Training data with perceptron | Recall: 0.9136129868210081\n",
      "Training data with perceptron | F1 score: 0.913579807024947\n",
      "Training data with perceptron | Acccuracy: 0.9136125\n"
     ]
    }
   ],
   "source": [
    "from sklearn.metrics import precision_recall_fscore_support as score\n",
    "precision,recall,fscore,support=score(y_train,y_train_predict,average='macro')\n",
    "print('Precision : {}'.format(precision))\n",
    "print('Recall    : {}'.format(recall))\n",
    "print('F-score   : {}'.format(fscore))\n",
    "print('Support   : {}'.format(support))\n",
    "report = classification_report(y_train,y_train_predict,output_dict=True)\n",
    "precision =  report['macro avg']['precision'] \n",
    "recall = report['macro avg']['recall']    \n",
    "f1 = report['macro avg']['f1-score']\n",
    "accuracy = report['accuracy']\n",
    "print(\"Training data with perceptron | Precision: {}\".format(precision))\n",
    "print(\"Training data with perceptron | Recall: {}\".format(recall))\n",
    "print(\"Training data with perceptron | F1 score: {}\".format(f1))\n",
    "print(\"Training data with perceptron | Acccuracy: {}\".format(accuracy))"
   ]
  },
  {
   "cell_type": "code",
   "execution_count": 55,
   "id": "718b6409",
   "metadata": {},
   "outputs": [
    {
     "ename": "NameError",
     "evalue": "name 'x_test_tfidf' is not defined",
     "output_type": "error",
     "traceback": [
      "\u001b[0;31m---------------------------------------------------------------------------\u001b[0m",
      "\u001b[0;31mNameError\u001b[0m                                 Traceback (most recent call last)",
      "\u001b[0;32m<ipython-input-55-eaf8ee29a2cf>\u001b[0m in \u001b[0;36m<module>\u001b[0;34m\u001b[0m\n\u001b[0;32m----> 1\u001b[0;31m \u001b[0mx_test_tfidf\u001b[0m\u001b[0;34m.\u001b[0m\u001b[0mshape\u001b[0m\u001b[0;34m\u001b[0m\u001b[0;34m\u001b[0m\u001b[0m\n\u001b[0m",
      "\u001b[0;31mNameError\u001b[0m: name 'x_test_tfidf' is not defined"
     ]
    }
   ],
   "source": [
    "x_test_tfidf.shape"
   ]
  },
  {
   "cell_type": "code",
   "execution_count": 56,
   "id": "1f42c3f8",
   "metadata": {},
   "outputs": [],
   "source": [
    "y_test_predict = perceptron.predict(x_test)"
   ]
  },
  {
   "cell_type": "code",
   "execution_count": 57,
   "id": "80e12313",
   "metadata": {},
   "outputs": [
    {
     "name": "stdout",
     "output_type": "stream",
     "text": [
      "              precision    recall  f1-score   support\n",
      "\n",
      "           0       0.84      0.88      0.86     20002\n",
      "           1       0.87      0.83      0.85     19998\n",
      "\n",
      "    accuracy                           0.85     40000\n",
      "   macro avg       0.85      0.85      0.85     40000\n",
      "weighted avg       0.85      0.85      0.85     40000\n",
      "\n"
     ]
    }
   ],
   "source": [
    "print(classification_report(y_test,y_test_predict))"
   ]
  },
  {
   "cell_type": "code",
   "execution_count": 61,
   "id": "22f0691b",
   "metadata": {},
   "outputs": [],
   "source": [
    "from sklearn.svm import LinearSVC"
   ]
  },
  {
   "cell_type": "code",
   "execution_count": 62,
   "id": "1a88d7c2",
   "metadata": {},
   "outputs": [],
   "source": [
    "svc = LinearSVC()\n"
   ]
  },
  {
   "cell_type": "code",
   "execution_count": 63,
   "id": "239c0e0a",
   "metadata": {},
   "outputs": [
    {
     "data": {
      "text/plain": [
       "LinearSVC()"
      ]
     },
     "execution_count": 63,
     "metadata": {},
     "output_type": "execute_result"
    }
   ],
   "source": [
    "svc.fit(x_train, y_train)"
   ]
  },
  {
   "cell_type": "code",
   "execution_count": 64,
   "id": "843b14b7",
   "metadata": {},
   "outputs": [],
   "source": [
    "y_train_predict = svc.predict(x_train)"
   ]
  },
  {
   "cell_type": "code",
   "execution_count": 65,
   "id": "8dda6ec9",
   "metadata": {},
   "outputs": [
    {
     "name": "stdout",
     "output_type": "stream",
     "text": [
      "              precision    recall  f1-score   support\n",
      "\n",
      "           0       0.94      0.94      0.94     79998\n",
      "           1       0.94      0.94      0.94     80002\n",
      "\n",
      "    accuracy                           0.94    160000\n",
      "   macro avg       0.94      0.94      0.94    160000\n",
      "weighted avg       0.94      0.94      0.94    160000\n",
      "\n"
     ]
    }
   ],
   "source": [
    "print(classification_report(y_train,y_train_predict))"
   ]
  },
  {
   "cell_type": "code",
   "execution_count": 66,
   "id": "1edd6dc0",
   "metadata": {},
   "outputs": [
    {
     "name": "stdout",
     "output_type": "stream",
     "text": [
      "Precision : 0.9367963756534663\n",
      "Recall    : 0.9367937807417461\n",
      "F-score   : 0.9367936580323034\n",
      "Support   : None\n",
      "Training data with perceptron | Precision: 0.9367963756534663\n",
      "Training data with perceptron | Recall: 0.9367937807417461\n",
      "Training data with perceptron | F1 score: 0.9367936580323034\n",
      "Training data with perceptron | Acccuracy: 0.93679375\n"
     ]
    }
   ],
   "source": [
    "\n",
    "precision,recall,fscore,support=score(y_train,y_train_predict,average='macro')\n",
    "print('Precision : {}'.format(precision))\n",
    "print('Recall    : {}'.format(recall))\n",
    "print('F-score   : {}'.format(fscore))\n",
    "print('Support   : {}'.format(support))\n",
    "report = classification_report(y_train,y_train_predict,output_dict=True)\n",
    "precision =  report['macro avg']['precision'] \n",
    "recall = report['macro avg']['recall']    \n",
    "f1 = report['macro avg']['f1-score']\n",
    "accuracy = report['accuracy']\n",
    "print(\"Training data with perceptron | Precision: {}\".format(precision))\n",
    "print(\"Training data with perceptron | Recall: {}\".format(recall))\n",
    "print(\"Training data with perceptron | F1 score: {}\".format(f1))\n",
    "print(\"Training data with perceptron | Acccuracy: {}\".format(accuracy))"
   ]
  },
  {
   "cell_type": "code",
   "execution_count": 67,
   "id": "801f7a81",
   "metadata": {},
   "outputs": [],
   "source": [
    "y_test_predict = perceptron.predict(x_test)"
   ]
  },
  {
   "cell_type": "code",
   "execution_count": 68,
   "id": "7a475872",
   "metadata": {},
   "outputs": [
    {
     "name": "stdout",
     "output_type": "stream",
     "text": [
      "              precision    recall  f1-score   support\n",
      "\n",
      "           0       0.84      0.88      0.86     20002\n",
      "           1       0.87      0.83      0.85     19998\n",
      "\n",
      "    accuracy                           0.85     40000\n",
      "   macro avg       0.85      0.85      0.85     40000\n",
      "weighted avg       0.85      0.85      0.85     40000\n",
      "\n"
     ]
    }
   ],
   "source": [
    "print(classification_report(y_test,y_test_predict))"
   ]
  },
  {
   "cell_type": "code",
   "execution_count": 69,
   "id": "7182d897",
   "metadata": {},
   "outputs": [
    {
     "name": "stdout",
     "output_type": "stream",
     "text": [
      "Precision : 0.8541500389923473\n",
      "Recall    : 0.8533476235334763\n",
      "F-score   : 0.8532665347034363\n",
      "Support   : None\n",
      "Training data with perceptron | Precision: 0.9367963756534663\n",
      "Training data with perceptron | Recall: 0.9367937807417461\n",
      "Training data with perceptron | F1 score: 0.9367936580323034\n",
      "Training data with perceptron | Acccuracy: 0.93679375\n"
     ]
    }
   ],
   "source": [
    "\n",
    "precision,recall,fscore,support=score(y_test,y_test_predict,average='macro')\n",
    "print('Precision : {}'.format(precision))\n",
    "print('Recall    : {}'.format(recall))\n",
    "print('F-score   : {}'.format(fscore))\n",
    "print('Support   : {}'.format(support))\n",
    "report = classification_report(y_train,y_train_predict,output_dict=True)\n",
    "precision =  report['macro avg']['precision'] \n",
    "recall = report['macro avg']['recall']    \n",
    "f1 = report['macro avg']['f1-score']\n",
    "accuracy = report['accuracy']\n",
    "print(\"Training data with perceptron | Precision: {}\".format(precision))\n",
    "print(\"Training data with perceptron | Recall: {}\".format(recall))\n",
    "print(\"Training data with perceptron | F1 score: {}\".format(f1))\n",
    "print(\"Training data with perceptron | Acccuracy: {}\".format(accuracy))"
   ]
  },
  {
   "cell_type": "code",
   "execution_count": 70,
   "id": "f588c423",
   "metadata": {},
   "outputs": [],
   "source": [
    "from sklearn.linear_model import LogisticRegression"
   ]
  },
  {
   "cell_type": "code",
   "execution_count": 73,
   "id": "9ce567d4",
   "metadata": {},
   "outputs": [],
   "source": [
    "logistic = LogisticRegression(random_state=0,max_iter = 300).fit(x_train, y_train)"
   ]
  },
  {
   "cell_type": "code",
   "execution_count": 74,
   "id": "5214c6bc",
   "metadata": {},
   "outputs": [],
   "source": [
    "y_train_predict = logistic.predict(x_train)"
   ]
  },
  {
   "cell_type": "code",
   "execution_count": 75,
   "id": "36fb39c1",
   "metadata": {},
   "outputs": [
    {
     "name": "stdout",
     "output_type": "stream",
     "text": [
      "              precision    recall  f1-score   support\n",
      "\n",
      "           0       0.91      0.91      0.91     79998\n",
      "           1       0.91      0.91      0.91     80002\n",
      "\n",
      "    accuracy                           0.91    160000\n",
      "   macro avg       0.91      0.91      0.91    160000\n",
      "weighted avg       0.91      0.91      0.91    160000\n",
      "\n"
     ]
    }
   ],
   "source": [
    "print(classification_report(y_train,y_train_predict))"
   ]
  },
  {
   "cell_type": "code",
   "execution_count": 76,
   "id": "743ebac6",
   "metadata": {},
   "outputs": [
    {
     "name": "stdout",
     "output_type": "stream",
     "text": [
      "Precision : 0.9093523398819376\n",
      "Recall    : 0.9093313397870821\n",
      "F-score   : 0.9093300952302179\n",
      "Support   : None\n",
      "Training data with perceptron | Precision: 0.9093523398819376\n",
      "Training data with perceptron | Recall: 0.9093313397870821\n",
      "Training data with perceptron | F1 score: 0.9093300952302179\n",
      "Training data with perceptron | Acccuracy: 0.90933125\n"
     ]
    }
   ],
   "source": [
    "precision,recall,fscore,support=score(y_train,y_train_predict,average='macro')\n",
    "print('Precision : {}'.format(precision))\n",
    "print('Recall    : {}'.format(recall))\n",
    "print('F-score   : {}'.format(fscore))\n",
    "print('Support   : {}'.format(support))\n",
    "report = classification_report(y_train,y_train_predict,output_dict=True)\n",
    "precision =  report['macro avg']['precision'] \n",
    "recall = report['macro avg']['recall']    \n",
    "f1 = report['macro avg']['f1-score']\n",
    "accuracy = report['accuracy']\n",
    "print(\"Training data with perceptron | Precision: {}\".format(precision))\n",
    "print(\"Training data with perceptron | Recall: {}\".format(recall))\n",
    "print(\"Training data with perceptron | F1 score: {}\".format(f1))\n",
    "print(\"Training data with perceptron | Acccuracy: {}\".format(accuracy))"
   ]
  },
  {
   "cell_type": "code",
   "execution_count": 77,
   "id": "53d38fda",
   "metadata": {},
   "outputs": [],
   "source": [
    "y_test_predict = perceptron.predict(x_test)"
   ]
  },
  {
   "cell_type": "code",
   "execution_count": 78,
   "id": "64ced536",
   "metadata": {},
   "outputs": [
    {
     "name": "stdout",
     "output_type": "stream",
     "text": [
      "              precision    recall  f1-score   support\n",
      "\n",
      "           0       0.84      0.88      0.86     20002\n",
      "           1       0.87      0.83      0.85     19998\n",
      "\n",
      "    accuracy                           0.85     40000\n",
      "   macro avg       0.85      0.85      0.85     40000\n",
      "weighted avg       0.85      0.85      0.85     40000\n",
      "\n"
     ]
    }
   ],
   "source": [
    "print(classification_report(y_test,y_test_predict))"
   ]
  },
  {
   "cell_type": "code",
   "execution_count": 79,
   "id": "73b695b1",
   "metadata": {},
   "outputs": [
    {
     "name": "stdout",
     "output_type": "stream",
     "text": [
      "Precision : 0.8541500389923473\n",
      "Recall    : 0.8533476235334763\n",
      "F-score   : 0.8532665347034363\n",
      "Support   : None\n",
      "Training data with perceptron | Precision: 0.9093523398819376\n",
      "Training data with perceptron | Recall: 0.9093313397870821\n",
      "Training data with perceptron | F1 score: 0.9093300952302179\n",
      "Training data with perceptron | Acccuracy: 0.90933125\n"
     ]
    }
   ],
   "source": [
    "precision,recall,fscore,support=score(y_test,y_test_predict,average='macro')\n",
    "print('Precision : {}'.format(precision))\n",
    "print('Recall    : {}'.format(recall))\n",
    "print('F-score   : {}'.format(fscore))\n",
    "print('Support   : {}'.format(support))\n",
    "report = classification_report(y_train,y_train_predict,output_dict=True)\n",
    "precision =  report['macro avg']['precision'] \n",
    "recall = report['macro avg']['recall']    \n",
    "f1 = report['macro avg']['f1-score']\n",
    "accuracy = report['accuracy']\n",
    "print(\"Training data with perceptron | Precision: {}\".format(precision))\n",
    "print(\"Training data with perceptron | Recall: {}\".format(recall))\n",
    "print(\"Training data with perceptron | F1 score: {}\".format(f1))\n",
    "print(\"Training data with perceptron | Acccuracy: {}\".format(accuracy))"
   ]
  },
  {
   "cell_type": "code",
   "execution_count": 80,
   "id": "6e8feded",
   "metadata": {},
   "outputs": [
    {
     "data": {
      "text/plain": [
       "MultinomialNB()"
      ]
     },
     "execution_count": 80,
     "metadata": {},
     "output_type": "execute_result"
    }
   ],
   "source": [
    "from sklearn.naive_bayes import MultinomialNB\n",
    "clf = MultinomialNB()\n",
    "clf.fit(x_train, y_train)"
   ]
  },
  {
   "cell_type": "code",
   "execution_count": 81,
   "id": "d0d4c753",
   "metadata": {},
   "outputs": [],
   "source": [
    "y_train_predict = logistic.predict(x_train)"
   ]
  },
  {
   "cell_type": "code",
   "execution_count": 82,
   "id": "dd132956",
   "metadata": {},
   "outputs": [
    {
     "name": "stdout",
     "output_type": "stream",
     "text": [
      "              precision    recall  f1-score   support\n",
      "\n",
      "           0       0.91      0.91      0.91     79998\n",
      "           1       0.91      0.91      0.91     80002\n",
      "\n",
      "    accuracy                           0.91    160000\n",
      "   macro avg       0.91      0.91      0.91    160000\n",
      "weighted avg       0.91      0.91      0.91    160000\n",
      "\n"
     ]
    }
   ],
   "source": [
    "print(classification_report(y_train,y_train_predict))"
   ]
  },
  {
   "cell_type": "code",
   "execution_count": 83,
   "id": "e1da11bb",
   "metadata": {},
   "outputs": [
    {
     "name": "stdout",
     "output_type": "stream",
     "text": [
      "Precision : 0.9093523398819376\n",
      "Recall    : 0.9093313397870821\n",
      "F-score   : 0.9093300952302179\n",
      "Support   : None\n",
      "Training data with perceptron | Precision: 0.9093523398819376\n",
      "Training data with perceptron | Recall: 0.9093313397870821\n",
      "Training data with perceptron | F1 score: 0.9093300952302179\n",
      "Training data with perceptron | Acccuracy: 0.90933125\n"
     ]
    }
   ],
   "source": [
    "\n",
    "precision,recall,fscore,support=score(y_train,y_train_predict,average='macro')\n",
    "print('Precision : {}'.format(precision))\n",
    "print('Recall    : {}'.format(recall))\n",
    "print('F-score   : {}'.format(fscore))\n",
    "print('Support   : {}'.format(support))\n",
    "report = classification_report(y_train,y_train_predict,output_dict=True)\n",
    "precision =  report['macro avg']['precision'] \n",
    "recall = report['macro avg']['recall']    \n",
    "f1 = report['macro avg']['f1-score']\n",
    "accuracy = report['accuracy']\n",
    "print(\"Training data with perceptron | Precision: {}\".format(precision))\n",
    "print(\"Training data with perceptron | Recall: {}\".format(recall))\n",
    "print(\"Training data with perceptron | F1 score: {}\".format(f1))\n",
    "print(\"Training data with perceptron | Acccuracy: {}\".format(accuracy))"
   ]
  },
  {
   "cell_type": "code",
   "execution_count": 84,
   "id": "b21dcf3a",
   "metadata": {},
   "outputs": [],
   "source": [
    "y_test_predict = logistic.predict(x_test)"
   ]
  },
  {
   "cell_type": "code",
   "execution_count": 85,
   "id": "77c6de25",
   "metadata": {},
   "outputs": [
    {
     "name": "stdout",
     "output_type": "stream",
     "text": [
      "              precision    recall  f1-score   support\n",
      "\n",
      "           0       0.89      0.90      0.90     20002\n",
      "           1       0.90      0.89      0.89     19998\n",
      "\n",
      "    accuracy                           0.89     40000\n",
      "   macro avg       0.89      0.89      0.89     40000\n",
      "weighted avg       0.89      0.89      0.89     40000\n",
      "\n"
     ]
    }
   ],
   "source": [
    "print(classification_report(y_test,y_test_predict))"
   ]
  },
  {
   "cell_type": "code",
   "execution_count": 86,
   "id": "81ec9470",
   "metadata": {},
   "outputs": [
    {
     "name": "stdout",
     "output_type": "stream",
     "text": [
      "Precision : 0.8948483280777051\n",
      "Recall    : 0.8948246164482462\n",
      "F-score   : 0.8948233796884286\n",
      "Support   : None\n",
      "Training data with perceptron | Precision: 0.9093523398819376\n",
      "Training data with perceptron | Recall: 0.9093313397870821\n",
      "Training data with perceptron | F1 score: 0.9093300952302179\n",
      "Training data with perceptron | Acccuracy: 0.90933125\n"
     ]
    }
   ],
   "source": [
    "\n",
    "precision,recall,fscore,support=score(y_test,y_test_predict,average='macro')\n",
    "print('Precision : {}'.format(precision))\n",
    "print('Recall    : {}'.format(recall))\n",
    "print('F-score   : {}'.format(fscore))\n",
    "print('Support   : {}'.format(support))\n",
    "report = classification_report(y_train,y_train_predict,output_dict=True)\n",
    "precision =  report['macro avg']['precision'] \n",
    "recall = report['macro avg']['recall']    \n",
    "f1 = report['macro avg']['f1-score']\n",
    "accuracy = report['accuracy']\n",
    "print(\"Training data with perceptron | Precision: {}\".format(precision))\n",
    "print(\"Training data with perceptron | Recall: {}\".format(recall))\n",
    "print(\"Training data with perceptron | F1 score: {}\".format(f1))\n",
    "print(\"Training data with perceptron | Acccuracy: {}\".format(accuracy))"
   ]
  },
  {
   "cell_type": "code",
   "execution_count": null,
   "id": "c18c7283",
   "metadata": {},
   "outputs": [],
   "source": []
  }
 ],
 "metadata": {
  "kernelspec": {
   "display_name": "Python 3",
   "language": "python",
   "name": "python3"
  },
  "language_info": {
   "codemirror_mode": {
    "name": "ipython",
    "version": 3
   },
   "file_extension": ".py",
   "mimetype": "text/x-python",
   "name": "python",
   "nbconvert_exporter": "python",
   "pygments_lexer": "ipython3",
   "version": "3.7.10"
  }
 },
 "nbformat": 4,
 "nbformat_minor": 5
}
