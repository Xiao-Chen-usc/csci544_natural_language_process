{
 "cells": [
  {
   "cell_type": "markdown",
   "id": "95d5eac9",
   "metadata": {},
   "source": [
    "task1"
   ]
  },
  {
   "cell_type": "code",
   "execution_count": 1,
   "id": "43288cd0",
   "metadata": {},
   "outputs": [],
   "source": [
    "import pandas as pd\n",
    "import numpy as np\n",
    "import collections"
   ]
  },
  {
   "cell_type": "code",
   "execution_count": 2,
   "id": "87373b65",
   "metadata": {},
   "outputs": [],
   "source": [
    "data = pd.read_csv('train',sep='\\t',names = ['index','word','tag'])"
   ]
  },
  {
   "cell_type": "code",
   "execution_count": 3,
   "id": "ec8ef42a",
   "metadata": {},
   "outputs": [],
   "source": [
    "ttt = data.word.tolist()"
   ]
  },
  {
   "cell_type": "code",
   "execution_count": 4,
   "id": "91e4423a",
   "metadata": {},
   "outputs": [],
   "source": [
    "ttt_dict = collections.defaultdict(int)\n",
    "for i in ttt:\n",
    "    ttt_dict[i] = ttt_dict[i]+1"
   ]
  },
  {
   "cell_type": "code",
   "execution_count": 5,
   "id": "45b0d34a",
   "metadata": {},
   "outputs": [],
   "source": [
    "temp_list = []\n",
    "for w,o in ttt_dict.items():\n",
    "    temp = [w,int(o)]\n",
    "    temp_list.append(temp)"
   ]
  },
  {
   "cell_type": "code",
   "execution_count": 6,
   "id": "00ae1fd2",
   "metadata": {},
   "outputs": [],
   "source": [
    "def occrence(e):\n",
    "    return e[1]\n",
    "temp_list.sort(reverse=True, key = occrence)"
   ]
  },
  {
   "cell_type": "code",
   "execution_count": 7,
   "id": "43c079a3",
   "metadata": {},
   "outputs": [
    {
     "data": {
      "text/plain": [
       "43193"
      ]
     },
     "execution_count": 7,
     "metadata": {},
     "output_type": "execute_result"
    }
   ],
   "source": [
    "len(temp_list)"
   ]
  },
  {
   "cell_type": "code",
   "execution_count": 8,
   "id": "94aa973c",
   "metadata": {},
   "outputs": [],
   "source": [
    "big_list = []\n",
    "low_frequency = set()"
   ]
  },
  {
   "cell_type": "code",
   "execution_count": 9,
   "id": "4ae0f524",
   "metadata": {},
   "outputs": [],
   "source": [
    "i = 1\n",
    "unknown = ['<unk>',0,0]\n",
    "for w,o in temp_list:\n",
    "    if o >= 2:\n",
    "        temp = [w,i,o]\n",
    "        big_list.append(temp)\n",
    "        i +=1\n",
    "    else:\n",
    "        low_frequency.add(w)\n",
    "        unknown[2] += o\n",
    "    "
   ]
  },
  {
   "cell_type": "code",
   "execution_count": 10,
   "id": "aacc792f",
   "metadata": {},
   "outputs": [],
   "source": [
    "big_list.insert(0,unknown)"
   ]
  },
  {
   "cell_type": "code",
   "execution_count": 11,
   "id": "c7328654",
   "metadata": {},
   "outputs": [
    {
     "data": {
      "text/plain": [
       "23183"
      ]
     },
     "execution_count": 11,
     "metadata": {},
     "output_type": "execute_result"
    }
   ],
   "source": [
    "len(big_list)"
   ]
  },
  {
   "cell_type": "markdown",
   "id": "8bdebb5d",
   "metadata": {},
   "source": [
    "#### What is the selected threshold for unknown words replacement?\n",
    "\n",
    "#### Answer:threshold for unknown words replacement is 4\n",
    "\n",
    "#### What is the total size of your vocabulary\n",
    "\n",
    "#### Answer:the size of my vocabulary is 13751\n",
    "\n",
    "#### unknown number is 42044"
   ]
  },
  {
   "cell_type": "code",
   "execution_count": 12,
   "id": "e7fdc71c",
   "metadata": {},
   "outputs": [],
   "source": [
    "with open('vocab.txt','w') as f:\n",
    "    for i in big_list:\n",
    "        a = str(i[0]) + '\\t' + str(i[1])+'\\t'+str(i[2])+'\\n'\n",
    "        f.write(a)"
   ]
  },
  {
   "cell_type": "code",
   "execution_count": 13,
   "id": "66d3b366",
   "metadata": {},
   "outputs": [],
   "source": [
    "data_np = data.to_numpy()"
   ]
  },
  {
   "cell_type": "code",
   "execution_count": 14,
   "id": "3847a2c5",
   "metadata": {},
   "outputs": [],
   "source": [
    "#creat a new list\n",
    "new_list = []\n",
    "for i in data_np:\n",
    "    if i[1] in low_frequency:\n",
    "        new_list.append([i[0],'<unk>',i[2]])\n",
    "    else:\n",
    "        new_list.append([i[0],i[1],i[2]])"
   ]
  },
  {
   "cell_type": "code",
   "execution_count": 15,
   "id": "486c43d1",
   "metadata": {},
   "outputs": [],
   "source": [
    "# convert the list into sentence\n",
    "sentence_list = []\n",
    "\n",
    "for i in range(len(new_list)):\n",
    "    if new_list[i][0] == 1:\n",
    "        temp = []\n",
    "        temp.append(new_list[i])\n",
    "    else:\n",
    "        temp.append(new_list[i])\n",
    "    if ((i+1) < len(new_list)) and new_list[i+1][0] == 1:\n",
    "        sentence_list.append(temp)\n",
    "    \n",
    "        "
   ]
  },
  {
   "cell_type": "code",
   "execution_count": 16,
   "id": "dc083ea9",
   "metadata": {},
   "outputs": [],
   "source": [
    "t_dict = collections.defaultdict(int)\n",
    "e_dict = collections.defaultdict(int)\n",
    "tag_dict = collections.defaultdict(int)"
   ]
  },
  {
   "cell_type": "code",
   "execution_count": 17,
   "id": "4b692b67",
   "metadata": {},
   "outputs": [],
   "source": [
    "for sentence in sentence_list:\n",
    "    for i in range(len(sentence)):\n",
    "        e_dict[sentence[i][2],sentence[i][1]] +=1\n",
    "        tag_dict[sentence[i][2]] +=1 \n",
    "        if sentence[i][0] == 1:\n",
    "            t_dict[('<s>',sentence[i][2])] += 1\n",
    "        else:\n",
    "            t_dict[(sentence[i-1][2],sentence[i][2])] += 1\n",
    "        "
   ]
  },
  {
   "cell_type": "code",
   "execution_count": 18,
   "id": "f2858bc2",
   "metadata": {},
   "outputs": [],
   "source": [
    "emission_dict = {}"
   ]
  },
  {
   "cell_type": "code",
   "execution_count": 19,
   "id": "135721de",
   "metadata": {},
   "outputs": [],
   "source": [
    "\n",
    "for key,value in e_dict.items():\n",
    "    emission_dict[key] = value/tag_dict[key[0]]"
   ]
  },
  {
   "cell_type": "code",
   "execution_count": 20,
   "id": "d616995b",
   "metadata": {},
   "outputs": [],
   "source": [
    "transitary_dict = {}"
   ]
  },
  {
   "cell_type": "code",
   "execution_count": 21,
   "id": "9c091590",
   "metadata": {},
   "outputs": [],
   "source": [
    "sentence_num = len(sentence_list)"
   ]
  },
  {
   "cell_type": "code",
   "execution_count": 22,
   "id": "473bfde5",
   "metadata": {},
   "outputs": [],
   "source": [
    "for key,value in t_dict.items():\n",
    "    if key[0] == '<s>':\n",
    "        transitary_dict [key] = value/sentence_num\n",
    "    else:\n",
    "        transitary_dict [key] = value / tag_dict[key[0]]"
   ]
  },
  {
   "cell_type": "code",
   "execution_count": 23,
   "id": "b35fea43",
   "metadata": {},
   "outputs": [
    {
     "data": {
      "text/plain": [
       "38217"
      ]
     },
     "execution_count": 23,
     "metadata": {},
     "output_type": "execute_result"
    }
   ],
   "source": [
    "sentence_num"
   ]
  },
  {
   "cell_type": "code",
   "execution_count": 24,
   "id": "2b323334",
   "metadata": {},
   "outputs": [],
   "source": [
    "json_transitary_dict = {}\n",
    "for key,value in transitary_dict.items():\n",
    "    json_transitary_dict[str(key)] = value"
   ]
  },
  {
   "cell_type": "code",
   "execution_count": 25,
   "id": "186bf9e5",
   "metadata": {},
   "outputs": [],
   "source": [
    "json_emission_dict = {}\n",
    "for key,value in emission_dict.items():\n",
    "    json_emission_dict[str(key)] = value"
   ]
  },
  {
   "cell_type": "code",
   "execution_count": 26,
   "id": "af547ec6",
   "metadata": {},
   "outputs": [],
   "source": [
    "import json"
   ]
  },
  {
   "cell_type": "code",
   "execution_count": 27,
   "id": "a21bee5c",
   "metadata": {},
   "outputs": [],
   "source": [
    "final_json = {\"transition\":json_transitary_dict,\"emission\":json_emission_dict}"
   ]
  },
  {
   "cell_type": "code",
   "execution_count": 28,
   "id": "ef37fea6",
   "metadata": {},
   "outputs": [],
   "source": [
    "out_file = open(\"hmm.json\", \"w\")\n",
    "json.dump(final_json, out_file, indent = 6)\n",
    "  \n",
    "out_file.close()"
   ]
  },
  {
   "cell_type": "markdown",
   "id": "83034949",
   "metadata": {},
   "source": [
    "## hmm greedy"
   ]
  },
  {
   "cell_type": "code",
   "execution_count": 29,
   "id": "75bfacac",
   "metadata": {},
   "outputs": [],
   "source": [
    "#use sentence_list to appliment hmm greedy"
   ]
  },
  {
   "cell_type": "code",
   "execution_count": 30,
   "id": "aaf8e4e7",
   "metadata": {},
   "outputs": [],
   "source": [
    "word_tag = collections.defaultdict(set)"
   ]
  },
  {
   "cell_type": "code",
   "execution_count": 31,
   "id": "95640172",
   "metadata": {},
   "outputs": [],
   "source": [
    "for sentence in sentence_list:\n",
    "    for i in sentence:\n",
    "        word_tag[i[1]].add(i[2])"
   ]
  },
  {
   "cell_type": "code",
   "execution_count": 32,
   "id": "91cd7bbc",
   "metadata": {},
   "outputs": [],
   "source": [
    "word_tag = dict(word_tag)"
   ]
  },
  {
   "cell_type": "code",
   "execution_count": 33,
   "id": "63f3e7e0",
   "metadata": {},
   "outputs": [],
   "source": [
    "\n",
    "def greedy_hmm(sentence):\n",
    "    res = []\n",
    "    for i in range(len(sentence)):\n",
    "        target_word = sentence[i][1]\n",
    "        probility_tag = []\n",
    "        if target_word in word_tag:\n",
    "            tag_list = list(word_tag[target_word])\n",
    "        else:\n",
    "            target_word = '<unk>'\n",
    "            tag_list = list(word_tag['<unk>'])\n",
    "        if sentence[i][0] == 1:\n",
    "            for tag in tag_list:\n",
    "                if ('<s>',tag) in transitary_dict:\n",
    "                    t = transitary_dict[('<s>',tag)]\n",
    "                else: t = 0\n",
    "                    \n",
    "                if (tag,target_word) in emission_dict:\n",
    "                    e = emission_dict[(tag,target_word)]\n",
    "                else:\n",
    "                    e = 0\n",
    "                probility = t*e\n",
    "                probility_tag.append(probility)\n",
    "\n",
    "        else:\n",
    "            for tag in tag_list:\n",
    "                if (res[i-1],tag) in transitary_dict:\n",
    "                    t = transitary_dict[(res[i-1],tag)]\n",
    "                else: t = 0\n",
    "                    \n",
    "                if (tag,target_word) in emission_dict:\n",
    "                    e = emission_dict[(tag,target_word)]\n",
    "                else:\n",
    "                    e = 0\n",
    "                probility = t*e\n",
    "                probility_tag.append(probility)\n",
    "        i_tag = tag_list[probility_tag.index(max(probility_tag))]\n",
    "        res.append(i_tag)\n",
    "    return res\n",
    "        "
   ]
  },
  {
   "cell_type": "code",
   "execution_count": 34,
   "id": "28a769bd",
   "metadata": {},
   "outputs": [],
   "source": [
    "correct = 0\n",
    "total = 0\n",
    "for sentence in sentence_list:\n",
    "    res_tag = greedy_hmm(sentence)\n",
    "    for i in range(len(res_tag)):\n",
    "        total += 1\n",
    "        if res_tag[i] == sentence[i][2]:\n",
    "            correct += 1\n"
   ]
  },
  {
   "cell_type": "code",
   "execution_count": 35,
   "id": "2271daa1",
   "metadata": {},
   "outputs": [
    {
     "data": {
      "text/plain": [
       "0.9490553894497017"
      ]
     },
     "execution_count": 35,
     "metadata": {},
     "output_type": "execute_result"
    }
   ],
   "source": [
    "correct/total"
   ]
  },
  {
   "cell_type": "markdown",
   "id": "2c0ce24f",
   "metadata": {},
   "source": [
    "### test greedy hmm"
   ]
  },
  {
   "cell_type": "code",
   "execution_count": 36,
   "id": "0019a9bb",
   "metadata": {},
   "outputs": [],
   "source": [
    "test = pd.read_csv('dev',sep='\\t',names = ['index','word','tag'])"
   ]
  },
  {
   "cell_type": "code",
   "execution_count": 37,
   "id": "850038f9",
   "metadata": {},
   "outputs": [],
   "source": [
    "test_np = test.to_numpy()"
   ]
  },
  {
   "cell_type": "code",
   "execution_count": 38,
   "id": "492bda96",
   "metadata": {},
   "outputs": [],
   "source": [
    "#creat a test list\n",
    "new_test = []\n",
    "for i in test_np:\n",
    "    if i[1] in low_frequency:\n",
    "        new_test.append([i[0],'<unk>',i[2]])\n",
    "    else:\n",
    "        new_test.append([i[0],i[1],i[2]])"
   ]
  },
  {
   "cell_type": "code",
   "execution_count": 39,
   "id": "8e92a5e4",
   "metadata": {},
   "outputs": [],
   "source": [
    "# convert the list into sentence\n",
    "test_sentence_list = []\n",
    "\n",
    "for i in range(len(new_test)):\n",
    "    if new_test[i][0] == 1:\n",
    "        temp = []\n",
    "        temp.append(new_test[i])\n",
    "    else:\n",
    "        temp.append(new_test[i])\n",
    "    if ((i+1) < len(new_test)) and new_test[i+1][0] == 1:\n",
    "        test_sentence_list.append(temp)\n",
    "    "
   ]
  },
  {
   "cell_type": "code",
   "execution_count": 40,
   "id": "5a305bdb",
   "metadata": {},
   "outputs": [],
   "source": [
    "correct = 0\n",
    "total = 0\n",
    "for sentence in test_sentence_list:\n",
    "    res_tag = greedy_hmm(sentence)\n",
    "    for i in range(len(res_tag)):\n",
    "        total += 1\n",
    "        if res_tag[i] == sentence[i][2]:\n",
    "            correct += 1"
   ]
  },
  {
   "cell_type": "code",
   "execution_count": 41,
   "id": "118f28ed",
   "metadata": {},
   "outputs": [],
   "source": [
    "\n",
    "accuracy_greedy_hmm = correct / total "
   ]
  },
  {
   "cell_type": "code",
   "execution_count": 42,
   "id": "7e8c81a5",
   "metadata": {},
   "outputs": [
    {
     "data": {
      "text/plain": [
       "0.9352035278669611"
      ]
     },
     "execution_count": 42,
     "metadata": {},
     "output_type": "execute_result"
    }
   ],
   "source": [
    "accuracy_greedy_hmm"
   ]
  },
  {
   "cell_type": "markdown",
   "id": "c5c14762",
   "metadata": {},
   "source": [
    "### produce greedy.out"
   ]
  },
  {
   "cell_type": "code",
   "execution_count": 43,
   "id": "dd5868a0",
   "metadata": {},
   "outputs": [],
   "source": [
    "out = pd.read_csv('test',sep='\\t',names = ['index','word'])"
   ]
  },
  {
   "cell_type": "code",
   "execution_count": 44,
   "id": "d6972685",
   "metadata": {},
   "outputs": [],
   "source": [
    "out_np = out.to_numpy()"
   ]
  },
  {
   "cell_type": "code",
   "execution_count": 45,
   "id": "91f28bd0",
   "metadata": {},
   "outputs": [],
   "source": [
    "#creat a test list\n",
    "new_out = []\n",
    "for i in out_np:\n",
    "    if i[1] in low_frequency:\n",
    "        new_out.append([i[0],'<unk>'])\n",
    "    else:\n",
    "        new_out.append([i[0],i[1]])"
   ]
  },
  {
   "cell_type": "code",
   "execution_count": 46,
   "id": "f1cda0fc",
   "metadata": {},
   "outputs": [],
   "source": [
    "# convert the list into sentence\n",
    "out_sentence_list = []\n",
    "\n",
    "for i in range(len(new_out)):\n",
    "    if new_out[i][0] == 1:\n",
    "        temp = []\n",
    "        temp.append(new_out[i])\n",
    "    else:\n",
    "        temp.append(new_out[i])\n",
    "    if ((i+1) < len(new_out)) and new_out[i+1][0] == 1:\n",
    "        out_sentence_list.append(temp)\n",
    "    if i == len(new_out)-1:\n",
    "        out_sentence_list.append(temp)\n",
    "            \n",
    "    "
   ]
  },
  {
   "cell_type": "code",
   "execution_count": 47,
   "id": "8b85e35b",
   "metadata": {},
   "outputs": [],
   "source": [
    "import copy\n",
    "\n",
    "w_out_sentence_list = copy.deepcopy(out_sentence_list)\n",
    "\n",
    "w_out_sentence_list\n",
    "\n",
    "out_res = []\n",
    "for sentence in out_sentence_list:\n",
    "    res_tag = greedy_hmm(sentence)\n",
    "    out_res.append(res_tag)\n",
    "\n",
    "out_res\n",
    "\n",
    "for i in range(len(out_res)):\n",
    "    for i1 in range(len(out_res[i])):\n",
    "        w_out_sentence_list[i][i1].append(out_res[i][i1])\n",
    "\n"
   ]
  },
  {
   "cell_type": "code",
   "execution_count": 48,
   "id": "01686cef",
   "metadata": {},
   "outputs": [],
   "source": [
    "with open('greedy_out.txt','w') as f:\n",
    "    for sentence in range(len(w_out_sentence_list)):\n",
    "        if sentence != 0:\n",
    "            f.write('\\n')\n",
    "        for (i, w, t) in w_out_sentence_list[sentence]:\n",
    "            f.write(str(i))\n",
    "            f.write('\\t')\n",
    "            f.write(str(w))\n",
    "            f.write('\\t')\n",
    "            f.write(str(t))\n",
    "            f.write('\\n')"
   ]
  },
  {
   "cell_type": "markdown",
   "id": "4bcf58b8",
   "metadata": {},
   "source": [
    "## viterbi"
   ]
  },
  {
   "cell_type": "code",
   "execution_count": 49,
   "id": "b1719214",
   "metadata": {},
   "outputs": [],
   "source": [
    "\n",
    "def viterbi_hmm(sentence):\n",
    "    res = []\n",
    "    for i in range(len(sentence)):\n",
    "        target_word = sentence[i][1]\n",
    "        probility_tag = {}\n",
    "        if target_word in word_tag:\n",
    "            tag_list = list(word_tag[target_word])\n",
    "            \n",
    "        else:\n",
    "            target_word = '<unk>'\n",
    "            tag_list = list(word_tag['<unk>'])\n",
    "        if sentence[i][0] == 1:\n",
    "            for tag in tag_list:\n",
    "                if ('<s>',tag) in transitary_dict:\n",
    "                    t = transitary_dict[('<s>',tag)]\n",
    "                else: t = 0\n",
    "                    \n",
    "                if (tag,target_word) in emission_dict:\n",
    "                    e = emission_dict[(tag,target_word)]\n",
    "                else:\n",
    "                    e = 0\n",
    "                probility = t*e\n",
    "                probility_tag[tag] = ('<s>',probility)\n",
    "\n",
    "        else:\n",
    "            for tag in tag_list:\n",
    "                previous_tag_list = []\n",
    "                for previous_tag in res[i-1]:\n",
    "                    if (previous_tag,tag) in transitary_dict:\n",
    "                        t = transitary_dict[(previous_tag,tag)]\n",
    "                    else: t = 0\n",
    "\n",
    "                    if (tag,target_word) in emission_dict:\n",
    "                        e = emission_dict[(tag,target_word)]\n",
    "                    else:\n",
    "                        e = 0\n",
    "                    probility = t*e*res[-1][previous_tag][1]\n",
    "                    previous_tag_list.append((previous_tag,probility))\n",
    "                previous_tag_list = sorted(previous_tag_list,key = lambda x:x[1],reverse = True)  \n",
    "                probility_tag[tag] = previous_tag_list[0]\n",
    "        res.append(probility_tag)\n",
    "        \n",
    "    return res\n",
    "        "
   ]
  },
  {
   "cell_type": "code",
   "execution_count": 50,
   "id": "a960196b",
   "metadata": {},
   "outputs": [],
   "source": [
    "hhh = viterbi_hmm(sentence_list[77])"
   ]
  },
  {
   "cell_type": "code",
   "execution_count": 51,
   "id": "c755f997",
   "metadata": {},
   "outputs": [],
   "source": [
    "def backtrace(table):\n",
    "    tag_backtrace = []\n",
    "    length = len(table)\n",
    "    i = length -1\n",
    "    end_col = table[i]\n",
    "    end_tag = max(end_col, key=lambda key: end_col[key][1])\n",
    "    tag_backtrace.append(end_tag)\n",
    "    if i!=0:\n",
    "        previous_tag = end_col[end_tag][0]\n",
    "    i -= 1\n",
    "    while i >= 0:\n",
    "        tag_backtrace.append(previous_tag)\n",
    "        previous_tag_col = table[i][previous_tag]\n",
    "        i -= 1\n",
    "        if i>= 0:\n",
    "            previous_tag = previous_tag_col[0]\n",
    "    tag_backtrace = list(reversed(tag_backtrace))\n",
    "    return tag_backtrace\n",
    "        \n",
    "        "
   ]
  },
  {
   "cell_type": "code",
   "execution_count": 52,
   "id": "a9fac405",
   "metadata": {},
   "outputs": [],
   "source": [
    "table = viterbi_hmm(sentence_list[0])"
   ]
  },
  {
   "cell_type": "code",
   "execution_count": 53,
   "id": "5136cadb",
   "metadata": {},
   "outputs": [],
   "source": [
    "correct = 0\n",
    "total = 0\n",
    "for sentence in test_sentence_list:\n",
    "    table = viterbi_hmm(sentence)\n",
    "    res_tag = backtrace(table)\n",
    "    for i in range(len(res_tag)):\n",
    "        total += 1\n",
    "        if res_tag[i] == sentence[i][2]:\n",
    "            correct += 1"
   ]
  },
  {
   "cell_type": "code",
   "execution_count": 54,
   "id": "6198c2cf",
   "metadata": {},
   "outputs": [],
   "source": [
    "hmm_viterbi_accuracy = correct/total"
   ]
  },
  {
   "cell_type": "code",
   "execution_count": 55,
   "id": "bee22841",
   "metadata": {},
   "outputs": [
    {
     "data": {
      "text/plain": [
       "[{'VB': ('<s>', 1.2010925470418137e-07),\n",
       "  'DT': ('<s>', 0.018196945407718525),\n",
       "  'NNP': ('<s>', 7.906632093753297e-05)},\n",
       " {'RB': ('DT', 4.3783663451007866e-08),\n",
       "  'IN': ('DT', 1.4395871855441722e-07),\n",
       "  'JJ': ('DT', 3.323118608213109e-05)}]"
      ]
     },
     "execution_count": 55,
     "metadata": {},
     "output_type": "execute_result"
    }
   ],
   "source": [
    "viterbi_hmm(sentence_list[77][0:2])"
   ]
  },
  {
   "cell_type": "markdown",
   "id": "670fb6e1",
   "metadata": {},
   "source": [
    "hmm_viterbi_accuracy"
   ]
  },
  {
   "cell_type": "code",
   "execution_count": 56,
   "id": "e727d34c",
   "metadata": {},
   "outputs": [
    {
     "data": {
      "text/plain": [
       "0.9480231649095643"
      ]
     },
     "execution_count": 56,
     "metadata": {},
     "output_type": "execute_result"
    }
   ],
   "source": [
    "hmm_viterbi_accuracy"
   ]
  },
  {
   "cell_type": "code",
   "execution_count": 57,
   "id": "940f91cc",
   "metadata": {},
   "outputs": [],
   "source": [
    "w_out_sentence_list = copy.deepcopy(out_sentence_list)\n",
    "\n",
    "w_out_sentence_list\n",
    "\n",
    "out_res = []\n",
    "for sentence in out_sentence_list:\n",
    "    table = viterbi_hmm(sentence)\n",
    "    res_tag = backtrace(table)\n",
    "    out_res.append(res_tag)\n",
    "\n",
    "\n",
    "for i in range(len(out_res)):\n",
    "    for i1 in range(len(out_res[i])):\n",
    "        w_out_sentence_list[i][i1].append(out_res[i][i1])\n"
   ]
  },
  {
   "cell_type": "code",
   "execution_count": 58,
   "id": "7a10b8d8",
   "metadata": {},
   "outputs": [],
   "source": [
    "with open('viterbi_out.txt','w') as f:\n",
    "    for sentence in range(len(w_out_sentence_list)):\n",
    "        if sentence != 0:\n",
    "            f.write('\\n')\n",
    "        for (i, w, t) in w_out_sentence_list[sentence]:\n",
    "            f.write(str(i))\n",
    "            f.write('\\t')\n",
    "            f.write(str(w))\n",
    "            f.write('\\t')\n",
    "            f.write(str(t))\n",
    "            f.write('\\n')"
   ]
  },
  {
   "cell_type": "code",
   "execution_count": 59,
   "id": "654dabcd",
   "metadata": {},
   "outputs": [
    {
     "name": "stdout",
     "output_type": "stream",
     "text": [
      "The accuracy for greedy hmm is 0.9352035278669611\n",
      " The accuracy for viterbi is 0.9480231649095643\n"
     ]
    }
   ],
   "source": [
    "print('The accuracy for greedy hmm is '+str(accuracy_greedy_hmm)+'\\n The accuracy for viterbi is '+str(hmm_viterbi_accuracy))"
   ]
  },
  {
   "cell_type": "code",
   "execution_count": null,
   "id": "391ead72",
   "metadata": {},
   "outputs": [],
   "source": []
  }
 ],
 "metadata": {
  "kernelspec": {
   "display_name": "Python 3",
   "language": "python",
   "name": "python3"
  },
  "language_info": {
   "codemirror_mode": {
    "name": "ipython",
    "version": 3
   },
   "file_extension": ".py",
   "mimetype": "text/x-python",
   "name": "python",
   "nbconvert_exporter": "python",
   "pygments_lexer": "ipython3",
   "version": "3.7.10"
  }
 },
 "nbformat": 4,
 "nbformat_minor": 5
}
